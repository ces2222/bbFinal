{
 "cells": [
  {
   "cell_type": "markdown",
   "metadata": {},
   "source": [
    "# Loading pre-trained BeigeBERT model"
   ]
  },
  {
   "cell_type": "code",
   "execution_count": null,
   "metadata": {},
   "outputs": [
    {
     "name": "stderr",
     "output_type": "stream",
     "text": [
      "Some weights of RobertaForSequenceClassification were not initialized from the model checkpoint at C:/Users/MCOB PHD 14/Documents/Dissertation prep/path_to_save_model/beige_book_pretrained and are newly initialized: ['classifier.dense.bias', 'classifier.dense.weight', 'classifier.out_proj.bias', 'classifier.out_proj.weight']\n",
      "You should probably TRAIN this model on a down-stream task to be able to use it for predictions and inference.\n"
     ]
    },
    {
     "data": {
      "text/plain": [
       "RobertaForSequenceClassification(\n",
       "  (roberta): RobertaModel(\n",
       "    (embeddings): RobertaEmbeddings(\n",
       "      (word_embeddings): Embedding(50265, 768, padding_idx=1)\n",
       "      (position_embeddings): Embedding(514, 768, padding_idx=1)\n",
       "      (token_type_embeddings): Embedding(1, 768)\n",
       "      (LayerNorm): LayerNorm((768,), eps=1e-05, elementwise_affine=True)\n",
       "      (dropout): Dropout(p=0.1, inplace=False)\n",
       "    )\n",
       "    (encoder): RobertaEncoder(\n",
       "      (layer): ModuleList(\n",
       "        (0-11): 12 x RobertaLayer(\n",
       "          (attention): RobertaAttention(\n",
       "            (self): RobertaSelfAttention(\n",
       "              (query): Linear(in_features=768, out_features=768, bias=True)\n",
       "              (key): Linear(in_features=768, out_features=768, bias=True)\n",
       "              (value): Linear(in_features=768, out_features=768, bias=True)\n",
       "              (dropout): Dropout(p=0.1, inplace=False)\n",
       "            )\n",
       "            (output): RobertaSelfOutput(\n",
       "              (dense): Linear(in_features=768, out_features=768, bias=True)\n",
       "              (LayerNorm): LayerNorm((768,), eps=1e-05, elementwise_affine=True)\n",
       "              (dropout): Dropout(p=0.1, inplace=False)\n",
       "            )\n",
       "          )\n",
       "          (intermediate): RobertaIntermediate(\n",
       "            (dense): Linear(in_features=768, out_features=3072, bias=True)\n",
       "            (intermediate_act_fn): GELUActivation()\n",
       "          )\n",
       "          (output): RobertaOutput(\n",
       "            (dense): Linear(in_features=3072, out_features=768, bias=True)\n",
       "            (LayerNorm): LayerNorm((768,), eps=1e-05, elementwise_affine=True)\n",
       "            (dropout): Dropout(p=0.1, inplace=False)\n",
       "          )\n",
       "        )\n",
       "      )\n",
       "    )\n",
       "  )\n",
       "  (classifier): RobertaClassificationHead(\n",
       "    (dense): Linear(in_features=768, out_features=768, bias=True)\n",
       "    (dropout): Dropout(p=0.1, inplace=False)\n",
       "    (out_proj): Linear(in_features=768, out_features=13, bias=True)\n",
       "  )\n",
       ")"
      ]
     },
     "execution_count": 1,
     "metadata": {},
     "output_type": "execute_result"
    }
   ],
   "source": [
    "### Load the pre-trained model for fine-tuning\n",
    "\n",
    "from transformers import RobertaTokenizer, RobertaForSequenceClassification\n",
    "\n",
    "# Define the local path to the pre-trained model\n",
    "model_path = \"C:/Users/MCOB PHD 14/Documents/Dissertation prep/path_to_save_model/beige_book_pretrained\"\n",
    "# Load the tokenizer and model\n",
    "tokenizer = RobertaTokenizer.from_pretrained(model_path)\n",
    "model = RobertaForSequenceClassification.from_pretrained(model_path, num_labels=13)\n",
    "\n",
    "# Move the model to the appropriate device (GPU or CPU)\n",
    "import torch\n",
    "device = torch.device('cuda' if torch.cuda.is_available() else 'cpu')\n",
    "model.to(device)\n"
   ]
  },
  {
   "cell_type": "markdown",
   "metadata": {},
   "source": [
    "## Getting data ready"
   ]
  },
  {
   "cell_type": "code",
   "execution_count": 12,
   "metadata": {},
   "outputs": [],
   "source": [
    "####### Prepare dataset\n",
    "\n",
    "import pandas as pd\n",
    "from sklearn.model_selection import train_test_split\n",
    "\n",
    "# Load your dataset\n",
    "data_path = \"C:/Users/MCOB PHD 14/Documents/Dissertation prep/Data/labeled_beige_books_with_text.csv\"\n",
    "labeled_data = pd.read_csv(data_path)\n",
    "\n",
    "# Convert binary labels to integers if needed\n",
    "topics = [\n",
    "    \"Employment\", \"Prices\", \"Consumption\", \"Manufacturing\", \"Construction\",\n",
    "    \"Lending\", \"Uncertainty\", \"Resources\", \"Transportation\", \"Outlook\",\n",
    "    \"Labor\", \"Capital\", \"Trade\"\n",
    "]\n",
    "labeled_data[topics] = labeled_data[topics].astype(int)\n",
    "\n",
    "# Ensure text column is valid\n",
    "labeled_data['text'] = labeled_data['text'].fillna(\"\").astype(str)\n",
    "\n",
    "# Split into training and validation sets\n",
    "train_texts, val_texts, train_labels, val_labels = train_test_split(\n",
    "    labeled_data['text'].tolist(),\n",
    "    labeled_data[topics].values,\n",
    "    test_size=0.2,\n",
    "    random_state=42\n",
    ")\n",
    "\n",
    "\n",
    "##### Tokenize the text data\n",
    "\n",
    "def tokenize_function(texts):\n",
    "    return tokenizer(\n",
    "        texts,\n",
    "        padding=True,\n",
    "        truncation=True,\n",
    "        max_length=512,\n",
    "        return_tensors=\"pt\"\n",
    "    )\n",
    "\n",
    "# Tokenize training and validation texts\n",
    "train_encodings = tokenize_function(train_texts)\n",
    "val_encodings = tokenize_function(val_texts)\n",
    "\n",
    "# Convert labels to tensors\n",
    "train_labels = torch.tensor(train_labels, dtype=torch.float32)\n",
    "val_labels = torch.tensor(val_labels, dtype=torch.float32)\n",
    "\n",
    "# Create DataLoader objects\n",
    "\n",
    "from torch.utils.data import Dataset, DataLoader\n",
    "\n",
    "class BeigeBookDataset(Dataset):\n",
    "    def __init__(self, encodings, labels):\n",
    "        self.encodings = encodings\n",
    "        self.labels = labels\n",
    "    \n",
    "    def __len__(self):\n",
    "        return len(self.labels)\n",
    "    \n",
    "    def __getitem__(self, idx):\n",
    "        item = {key: val[idx] for key, val in self.encodings.items()}\n",
    "        item['labels'] = self.labels[idx]\n",
    "        return item\n",
    "\n",
    "# Create Dataset objects\n",
    "train_dataset = BeigeBookDataset(train_encodings, train_labels)\n",
    "val_dataset = BeigeBookDataset(val_encodings, val_labels)\n",
    "\n",
    "# Create DataLoader objects\n",
    "train_loader = DataLoader(train_dataset, batch_size=8, shuffle=True)\n",
    "val_loader = DataLoader(val_dataset, batch_size=8)"
   ]
  },
  {
   "cell_type": "markdown",
   "metadata": {},
   "source": [
    "## Fine-tuning (this takes awhile)"
   ]
  },
  {
   "cell_type": "code",
   "execution_count": 13,
   "metadata": {},
   "outputs": [
    {
     "name": "stderr",
     "output_type": "stream",
     "text": [
      "c:\\Users\\MCOB PHD 14\\anaconda3\\envs\\pytorch_env\\lib\\site-packages\\transformers\\optimization.py:591: FutureWarning: This implementation of AdamW is deprecated and will be removed in a future version. Use the PyTorch implementation torch.optim.AdamW instead, or set `no_deprecation_warning=True` to disable this warning\n",
      "  warnings.warn(\n"
     ]
    },
    {
     "name": "stdout",
     "output_type": "stream",
     "text": [
      "\n",
      "Epoch 1/10\n"
     ]
    },
    {
     "name": "stderr",
     "output_type": "stream",
     "text": [
      "Epoch 1: 100%|██████████| 51/51 [05:13<00:00,  6.16s/it, loss=0.288]\n"
     ]
    },
    {
     "name": "stdout",
     "output_type": "stream",
     "text": [
      "Training Loss: 0.3143\n",
      "Validation Loss: 0.3296\n",
      "Validation F1 Score: 0.4495\n",
      "Model improved. Saving...\n",
      "\n",
      "Epoch 2/10\n"
     ]
    },
    {
     "name": "stderr",
     "output_type": "stream",
     "text": [
      "Epoch 2: 100%|██████████| 51/51 [05:13<00:00,  6.14s/it, loss=0.206]\n"
     ]
    },
    {
     "name": "stdout",
     "output_type": "stream",
     "text": [
      "Training Loss: 0.2621\n",
      "Validation Loss: 0.3280\n",
      "Validation F1 Score: 0.5131\n",
      "Model improved. Saving...\n",
      "\n",
      "Epoch 3/10\n"
     ]
    },
    {
     "name": "stderr",
     "output_type": "stream",
     "text": [
      "Epoch 3: 100%|██████████| 51/51 [05:09<00:00,  6.07s/it, loss=0.305]\n"
     ]
    },
    {
     "name": "stdout",
     "output_type": "stream",
     "text": [
      "Training Loss: 0.2252\n",
      "Validation Loss: 0.3145\n",
      "Validation F1 Score: 0.5406\n",
      "Model improved. Saving...\n",
      "\n",
      "Epoch 4/10\n"
     ]
    },
    {
     "name": "stderr",
     "output_type": "stream",
     "text": [
      "Epoch 4: 100%|██████████| 51/51 [04:50<00:00,  5.69s/it, loss=0.138]\n"
     ]
    },
    {
     "name": "stdout",
     "output_type": "stream",
     "text": [
      "Training Loss: 0.1838\n",
      "Validation Loss: 0.3115\n",
      "Validation F1 Score: 0.5893\n",
      "Model improved. Saving...\n",
      "\n",
      "Epoch 5/10\n"
     ]
    },
    {
     "name": "stderr",
     "output_type": "stream",
     "text": [
      "Epoch 5: 100%|██████████| 51/51 [04:31<00:00,  5.32s/it, loss=0.147]\n"
     ]
    },
    {
     "name": "stdout",
     "output_type": "stream",
     "text": [
      "Training Loss: 0.1618\n",
      "Validation Loss: 0.3007\n",
      "Validation F1 Score: 0.6061\n",
      "Model improved. Saving...\n",
      "\n",
      "Epoch 6/10\n"
     ]
    },
    {
     "name": "stderr",
     "output_type": "stream",
     "text": [
      "Epoch 6: 100%|██████████| 51/51 [04:38<00:00,  5.46s/it, loss=0.142] \n"
     ]
    },
    {
     "name": "stdout",
     "output_type": "stream",
     "text": [
      "Training Loss: 0.1448\n",
      "Validation Loss: 0.3118\n",
      "Validation F1 Score: 0.6093\n",
      "Early stop counter: 1/3\n",
      "\n",
      "Epoch 7/10\n"
     ]
    },
    {
     "name": "stderr",
     "output_type": "stream",
     "text": [
      "Epoch 7: 100%|██████████| 51/51 [04:36<00:00,  5.43s/it, loss=0.0796]\n"
     ]
    },
    {
     "name": "stdout",
     "output_type": "stream",
     "text": [
      "Training Loss: 0.1251\n",
      "Validation Loss: 0.2961\n",
      "Validation F1 Score: 0.6226\n",
      "Model improved. Saving...\n",
      "\n",
      "Epoch 8/10\n"
     ]
    },
    {
     "name": "stderr",
     "output_type": "stream",
     "text": [
      "Epoch 8: 100%|██████████| 51/51 [04:28<00:00,  5.26s/it, loss=0.082] \n"
     ]
    },
    {
     "name": "stdout",
     "output_type": "stream",
     "text": [
      "Training Loss: 0.1057\n",
      "Validation Loss: 0.2823\n",
      "Validation F1 Score: 0.6290\n",
      "Model improved. Saving...\n",
      "\n",
      "Epoch 9/10\n"
     ]
    },
    {
     "name": "stderr",
     "output_type": "stream",
     "text": [
      "Epoch 9: 100%|██████████| 51/51 [04:27<00:00,  5.24s/it, loss=0.042] \n"
     ]
    },
    {
     "name": "stdout",
     "output_type": "stream",
     "text": [
      "Training Loss: 0.0920\n",
      "Validation Loss: 0.2960\n",
      "Validation F1 Score: 0.6177\n",
      "Early stop counter: 1/3\n",
      "\n",
      "Epoch 10/10\n"
     ]
    },
    {
     "name": "stderr",
     "output_type": "stream",
     "text": [
      "Epoch 10: 100%|██████████| 51/51 [04:25<00:00,  5.21s/it, loss=0.0725]\n"
     ]
    },
    {
     "name": "stdout",
     "output_type": "stream",
     "text": [
      "Training Loss: 0.0824\n",
      "Validation Loss: 0.3048\n",
      "Validation F1 Score: 0.6587\n",
      "Early stop counter: 2/3\n"
     ]
    }
   ],
   "source": [
    "import torch\n",
    "from transformers import AdamW\n",
    "from torch.nn import BCEWithLogitsLoss\n",
    "from tqdm import tqdm\n",
    "from sklearn.metrics import f1_score\n",
    "import numpy as np\n",
    "\n",
    "# Initialize optimizer and loss function\n",
    "optimizer = AdamW(model.parameters(), lr=5e-5)\n",
    "loss_fn = BCEWithLogitsLoss()\n",
    "\n",
    "# Initialize learning rate scheduler\n",
    "from torch.optim.lr_scheduler import ReduceLROnPlateau\n",
    "scheduler = ReduceLROnPlateau(optimizer, mode=\"min\", factor=0.5, patience=2, verbose=True)\n",
    "\n",
    "# Early stopping parameters\n",
    "patience = 3\n",
    "early_stop_counter = 0\n",
    "best_val_loss = float(\"inf\")\n",
    "\n",
    "# To track metrics\n",
    "training_losses = []\n",
    "validation_losses = []\n",
    "f1_scores = []\n",
    "\n",
    "# Training loop\n",
    "epochs = 10\n",
    "for epoch in range(epochs):\n",
    "    print(f\"\\nEpoch {epoch + 1}/{epochs}\")\n",
    "\n",
    "    # Training phase\n",
    "    model.train()\n",
    "    train_loss = 0\n",
    "    loop = tqdm(train_loader, leave=True)\n",
    "\n",
    "    for batch in loop:\n",
    "        optimizer.zero_grad()\n",
    "        \n",
    "        input_ids = batch['input_ids'].to(device)\n",
    "        attention_mask = batch['attention_mask'].to(device)\n",
    "        labels = batch['labels'].to(device)\n",
    "        \n",
    "        # Forward pass\n",
    "        outputs = model(input_ids, attention_mask=attention_mask)\n",
    "        logits = outputs.logits  # Shape: [batch_size, num_labels]\n",
    "        \n",
    "        # Compute loss\n",
    "        loss = loss_fn(logits, labels)\n",
    "        train_loss += loss.item()\n",
    "        \n",
    "        # Backward pass\n",
    "        loss.backward()\n",
    "        optimizer.step()\n",
    "        \n",
    "        # Update progress bar\n",
    "        loop.set_description(f\"Epoch {epoch + 1}\")\n",
    "        loop.set_postfix(loss=loss.item())\n",
    "\n",
    "    # Average training loss for the epoch\n",
    "    avg_train_loss = train_loss / len(train_loader)\n",
    "    training_losses.append(avg_train_loss)\n",
    "    print(f\"Training Loss: {avg_train_loss:.4f}\")\n",
    "\n",
    "    # Validation phase\n",
    "    model.eval()\n",
    "    val_loss = 0\n",
    "    all_predictions = []\n",
    "    all_labels = []\n",
    "\n",
    "    with torch.no_grad():\n",
    "        for batch in val_loader:\n",
    "            input_ids = batch['input_ids'].to(device)\n",
    "            attention_mask = batch['attention_mask'].to(device)\n",
    "            labels = batch['labels'].to(device)\n",
    "\n",
    "            # Forward pass\n",
    "            outputs = model(input_ids, attention_mask=attention_mask)\n",
    "            logits = outputs.logits\n",
    "\n",
    "            # Compute validation loss\n",
    "            loss = loss_fn(logits, labels)\n",
    "            val_loss += loss.item()\n",
    "\n",
    "            # Collect predictions and true labels\n",
    "            predictions = (torch.sigmoid(logits).cpu().numpy() > 0.5).astype(int)\n",
    "            all_predictions.append(predictions)\n",
    "            all_labels.append(labels.cpu().numpy())\n",
    "\n",
    "    # Average validation loss\n",
    "    avg_val_loss = val_loss / len(val_loader)\n",
    "    validation_losses.append(avg_val_loss)\n",
    "    print(f\"Validation Loss: {avg_val_loss:.4f}\")\n",
    "\n",
    "    # Compute F1 score for validation set\n",
    "    all_predictions = np.vstack(all_predictions)\n",
    "    all_labels = np.vstack(all_labels)\n",
    "    f1 = f1_score(all_labels, all_predictions, average=\"macro\", zero_division=1)\n",
    "    f1_scores.append(f1)\n",
    "    print(f\"Validation F1 Score: {f1:.4f}\")\n",
    "\n",
    "    # Learning rate scheduler step\n",
    "    scheduler.step(avg_val_loss)\n",
    "\n",
    "    # Early stopping check\n",
    "    if avg_val_loss < best_val_loss:\n",
    "        best_val_loss = avg_val_loss\n",
    "        early_stop_counter = 0\n",
    "        # Optionally save the model if it improves\n",
    "        torch.save(model.state_dict(), \"best_model.pth\")\n",
    "        print(\"Model improved. Saving...\")\n",
    "    else:\n",
    "        early_stop_counter += 1\n",
    "        print(f\"Early stop counter: {early_stop_counter}/{patience}\")\n",
    "\n",
    "    if early_stop_counter >= patience:\n",
    "        print(\"Early stopping triggered. Training stopped.\")\n",
    "        break"
   ]
  },
  {
   "cell_type": "markdown",
   "metadata": {},
   "source": [
    "## Evaluating results"
   ]
  },
  {
   "cell_type": "code",
   "execution_count": 18,
   "metadata": {},
   "outputs": [
    {
     "name": "stderr",
     "output_type": "stream",
     "text": [
      "C:\\Users\\MCOB PHD 14\\AppData\\Local\\Temp\\ipykernel_17732\\1322636957.py:3: FutureWarning: You are using `torch.load` with `weights_only=False` (the current default value), which uses the default pickle module implicitly. It is possible to construct malicious pickle data which will execute arbitrary code during unpickling (See https://github.com/pytorch/pytorch/blob/main/SECURITY.md#untrusted-models for more details). In a future release, the default value for `weights_only` will be flipped to `True`. This limits the functions that could be executed during unpickling. Arbitrary objects will no longer be allowed to be loaded via this mode unless they are explicitly allowlisted by the user via `torch.serialization.add_safe_globals`. We recommend you start setting `weights_only=True` for any use case where you don't have full control of the loaded file. Please open an issue on GitHub for any issues related to this experimental feature.\n",
      "  model.load_state_dict(torch.load(\"best_model.pth\"))\n"
     ]
    },
    {
     "data": {
      "text/plain": [
       "RobertaForSequenceClassification(\n",
       "  (roberta): RobertaModel(\n",
       "    (embeddings): RobertaEmbeddings(\n",
       "      (word_embeddings): Embedding(50265, 768, padding_idx=1)\n",
       "      (position_embeddings): Embedding(514, 768, padding_idx=1)\n",
       "      (token_type_embeddings): Embedding(1, 768)\n",
       "      (LayerNorm): LayerNorm((768,), eps=1e-05, elementwise_affine=True)\n",
       "      (dropout): Dropout(p=0.1, inplace=False)\n",
       "    )\n",
       "    (encoder): RobertaEncoder(\n",
       "      (layer): ModuleList(\n",
       "        (0-11): 12 x RobertaLayer(\n",
       "          (attention): RobertaAttention(\n",
       "            (self): RobertaSelfAttention(\n",
       "              (query): Linear(in_features=768, out_features=768, bias=True)\n",
       "              (key): Linear(in_features=768, out_features=768, bias=True)\n",
       "              (value): Linear(in_features=768, out_features=768, bias=True)\n",
       "              (dropout): Dropout(p=0.1, inplace=False)\n",
       "            )\n",
       "            (output): RobertaSelfOutput(\n",
       "              (dense): Linear(in_features=768, out_features=768, bias=True)\n",
       "              (LayerNorm): LayerNorm((768,), eps=1e-05, elementwise_affine=True)\n",
       "              (dropout): Dropout(p=0.1, inplace=False)\n",
       "            )\n",
       "          )\n",
       "          (intermediate): RobertaIntermediate(\n",
       "            (dense): Linear(in_features=768, out_features=3072, bias=True)\n",
       "            (intermediate_act_fn): GELUActivation()\n",
       "          )\n",
       "          (output): RobertaOutput(\n",
       "            (dense): Linear(in_features=3072, out_features=768, bias=True)\n",
       "            (LayerNorm): LayerNorm((768,), eps=1e-05, elementwise_affine=True)\n",
       "            (dropout): Dropout(p=0.1, inplace=False)\n",
       "          )\n",
       "        )\n",
       "      )\n",
       "    )\n",
       "  )\n",
       "  (classifier): RobertaClassificationHead(\n",
       "    (dense): Linear(in_features=768, out_features=768, bias=True)\n",
       "    (dropout): Dropout(p=0.1, inplace=False)\n",
       "    (out_proj): Linear(in_features=768, out_features=13, bias=True)\n",
       "  )\n",
       ")"
      ]
     },
     "execution_count": 18,
     "metadata": {},
     "output_type": "execute_result"
    }
   ],
   "source": [
    "# Load back in the best saved model (epoch 8 in this case)\n",
    "# Load the best model weights\n",
    "model.load_state_dict(torch.load(\"best_model.pth\"))\n",
    "model.to(device)"
   ]
  },
  {
   "cell_type": "code",
   "execution_count": 19,
   "metadata": {},
   "outputs": [],
   "source": [
    "# Collect predictions and true labels from the validation set\n",
    "model.eval()\n",
    "all_predictions = []\n",
    "all_labels = []\n",
    "\n",
    "with torch.no_grad():\n",
    "    for batch in val_loader:\n",
    "        input_ids = batch['input_ids'].to(device)\n",
    "        attention_mask = batch['attention_mask'].to(device)\n",
    "        labels = batch['labels'].to(device)\n",
    "\n",
    "        # Forward pass\n",
    "        outputs = model(input_ids, attention_mask=attention_mask)\n",
    "        logits = outputs.logits\n",
    "\n",
    "        # Convert logits to probabilities, then to binary predictions\n",
    "        predictions = (torch.sigmoid(logits).cpu().numpy() > 0.5).astype(int)\n",
    "\n",
    "        # Collect predictions and true labels\n",
    "        all_predictions.append(predictions)\n",
    "        all_labels.append(labels.cpu().numpy())\n",
    "\n",
    "# Combine all batches into a single NumPy array\n",
    "all_predictions = np.vstack(all_predictions)\n",
    "all_labels = np.vstack(all_labels)\n"
   ]
  },
  {
   "cell_type": "code",
   "execution_count": 21,
   "metadata": {},
   "outputs": [
    {
     "name": "stdout",
     "output_type": "stream",
     "text": [
      "Subset Accuracy: 0.2745\n",
      "Hamming Loss: 0.1109\n",
      "Jaccard Index: 0.4834\n",
      "Precision: 0.7464\n",
      "Recall: 0.5716\n",
      "F1 Score: 0.6290\n"
     ]
    }
   ],
   "source": [
    "from sklearn.metrics import accuracy_score, hamming_loss, jaccard_score, precision_score, recall_score, f1_score\n",
    "\n",
    "# Subset accuracy (exact match ratio)\n",
    "subset_accuracy = accuracy_score(all_labels, all_predictions)\n",
    "\n",
    "# Hamming loss\n",
    "ham_loss = hamming_loss(all_labels, all_predictions)\n",
    "\n",
    "# Jaccard Index (macro-averaged)\n",
    "jaccard = jaccard_score(all_labels, all_predictions, average=\"macro\")\n",
    "\n",
    "# Precision, recall, F1 score (macro-averaged)\n",
    "precision = precision_score(all_labels, all_predictions, average=\"macro\", zero_division=1)\n",
    "recall = recall_score(all_labels, all_predictions, average=\"macro\", zero_division=1)\n",
    "f1 = f1_score(all_labels, all_predictions, average=\"macro\", zero_division=1)\n",
    "\n",
    "# Display metrics\n",
    "print(f\"Subset Accuracy: {subset_accuracy:.4f}\")\n",
    "print(f\"Hamming Loss: {ham_loss:.4f}\")\n",
    "print(f\"Jaccard Index: {jaccard:.4f}\")\n",
    "print(f\"Precision: {precision:.4f}\")\n",
    "print(f\"Recall: {recall:.4f}\")\n",
    "print(f\"F1 Score: {f1:.4f}\")\n"
   ]
  },
  {
   "cell_type": "code",
   "execution_count": null,
   "metadata": {},
   "outputs": [
    {
     "name": "stdout",
     "output_type": "stream",
     "text": [
      "Training Losses: [0.3142508934525883, 0.262063328834141, 0.22521339590642966, 0.18382606845276028, 0.16181348337262286, 0.1448080671184203, 0.12510867635993397, 0.10568183821206, 0.09196166431202608, 0.0824331216075841]\n",
      "Validation Losses: [0.3296093184214372, 0.327981982093591, 0.31454218236299664, 0.31150454397384936, 0.3007209197832988, 0.3118082605875455, 0.29607716317360216, 0.28231278634988344, 0.2959906653716014, 0.304824105822123]\n",
      "F1 Scores: [0.44950175948771676, 0.5131365894523789, 0.5406236882825511, 0.5892648694901005, 0.6060688396297682, 0.6092534621626694, 0.6225828749217618, 0.6289685200836193, 0.617651078831505, 0.6587398640572061]\n",
      "Metrics saved to training_metrics.csv\n",
      "   epoch  training_loss  validation_loss  f1_score\n",
      "0      1       0.314251         0.329609  0.449502\n",
      "1      2       0.262063         0.327982  0.513137\n",
      "2      3       0.225213         0.314542  0.540624\n",
      "3      4       0.183826         0.311505  0.589265\n",
      "4      5       0.161813         0.300721  0.606069\n",
      "5      6       0.144808         0.311808  0.609253\n",
      "6      7       0.125109         0.296077  0.622583\n",
      "7      8       0.105682         0.282313  0.628969\n",
      "8      9       0.091962         0.295991  0.617651\n",
      "9     10       0.082433         0.304824  0.658740\n"
     ]
    }
   ],
   "source": [
    "# Results by epoch\n",
    "\n",
    "# Print all metrics\n",
    "print(\"Training Losses:\", training_losses)\n",
    "print(\"Validation Losses:\", validation_losses)\n",
    "print(\"F1 Scores:\", f1_scores)\n",
    "\n",
    "import pandas as pd\n",
    "\n",
    "# Create a DataFrame to store the metrics\n",
    "metrics_df = pd.DataFrame({\n",
    "    \"epoch\": list(range(1, len(training_losses) + 1)),\n",
    "    \"training_loss\": training_losses,\n",
    "    \"validation_loss\": validation_losses,\n",
    "    \"f1_score\": f1_scores,\n",
    "})\n",
    "\n",
    "# Save to CSV\n",
    "#metrics_df.to_csv(\"training_metrics.csv\", index=False)\n",
    "#print(\"Metrics saved to training_metrics.csv\")\n",
    "\n",
    "# Load metrics from CSV\n",
    "metrics_df = pd.read_csv(\"training_metrics.csv\")\n",
    "print(metrics_df)\n"
   ]
  },
  {
   "cell_type": "code",
   "execution_count": 1,
   "metadata": {},
   "outputs": [
    {
     "name": "stdout",
     "output_type": "stream",
     "text": [
      "   epoch  training_loss  validation_loss  f1_score\n",
      "0      1       0.314251         0.329609  0.449502\n",
      "1      2       0.262063         0.327982  0.513137\n",
      "2      3       0.225213         0.314542  0.540624\n",
      "3      4       0.183826         0.311505  0.589265\n",
      "4      5       0.161813         0.300721  0.606069\n",
      "5      6       0.144808         0.311808  0.609253\n",
      "6      7       0.125109         0.296077  0.622583\n",
      "7      8       0.105682         0.282313  0.628969\n",
      "8      9       0.091962         0.295991  0.617651\n",
      "9     10       0.082433         0.304824  0.658740\n"
     ]
    }
   ],
   "source": [
    "import pandas as pd\n",
    "\n",
    "metrics_df = pd.read_csv(\"training_metrics.csv\")\n",
    "print(metrics_df)"
   ]
  },
  {
   "cell_type": "code",
   "execution_count": 5,
   "metadata": {},
   "outputs": [
    {
     "data": {
      "image/png": "[encoded data removed]",
      "text/plain": [
       "<Figure size 1000x500 with 1 Axes>"
      ]
     },
     "metadata": {},
     "output_type": "display_data"
    },
    {
     "data": {
      "image/png": "[encoded data removed]",
      "text/plain": [
       "<Figure size 1000x500 with 1 Axes>"
      ]
     },
     "metadata": {},
     "output_type": "display_data"
    }
   ],
   "source": [
    "# Visualize the training metrics\n",
    "\n",
    "import matplotlib.pyplot as plt\n",
    "\n",
    "# Plot training and validation loss\n",
    "plt.figure(figsize=(10, 5))\n",
    "plt.plot(metrics_df[\"epoch\"], metrics_df[\"training_loss\"], label=\"Training Loss\")\n",
    "plt.plot(metrics_df[\"epoch\"], metrics_df[\"validation_loss\"], label=\"Validation Loss\")\n",
    "plt.xlabel(\"Epoch\")\n",
    "plt.ylabel(\"Loss\")\n",
    "plt.legend()\n",
    "plt.savefig(\"training_loss.png\")\n",
    "plt.show()\n",
    "\n",
    "# Plot F1 score\n",
    "plt.figure(figsize=(10, 5))\n",
    "plt.plot(metrics_df[\"epoch\"], metrics_df[\"f1_score\"], label=\"Validation F1 Score\", color=\"green\")\n",
    "plt.xlabel(\"Epoch\")\n",
    "plt.ylabel(\"F1 Score\")\n",
    "plt.title(\"Validation F1 Score\")\n",
    "plt.legend()\n",
    "plt.tight_layout()\n",
    "plt.show()\n"
   ]
  },
  {
   "cell_type": "code",
   "execution_count": 34,
   "metadata": {},
   "outputs": [
    {
     "data": {
      "image/png": "[encoded data removed]",
      "text/plain": [
       "<Figure size 800x600 with 2 Axes>"
      ]
     },
     "metadata": {},
     "output_type": "display_data"
    }
   ],
   "source": [
    "from sklearn.metrics import multilabel_confusion_matrix\n",
    "import seaborn as sns\n",
    "\n",
    "# Example: Confusion matrix for one label\n",
    "cm = multilabel_confusion_matrix(all_labels[:, 0], all_predictions[:, 0])  # Replace 0 with the index of interest\n",
    "\n",
    "plt.figure(figsize=(8, 6))\n",
    "sns.heatmap(cm[1], annot=True, fmt=\"d\", cmap=\"Blues\", xticklabels=[\"False\", \"True\"], yticklabels=[\"False\", \"True\"])\n",
    "plt.title(\"Confusion Matrix for Label 0\")\n",
    "plt.xlabel(\"Predicted\")\n",
    "plt.ylabel(\"Actual\")\n",
    "plt.show()\n"
   ]
  },
  {
   "cell_type": "markdown",
   "metadata": {},
   "source": [
    "## Saving model (only do this if redoing model)"
   ]
  },
  {
   "cell_type": "code",
   "execution_count": null,
   "metadata": {},
   "outputs": [
    {
     "name": "stdout",
     "output_type": "stream",
     "text": [
      "Best model saved to 'best_model_epoch_8'\n"
     ]
    }
   ],
   "source": [
    "# Save the best model to a permanent directory\n",
    "#model.save_pretrained(\"best_model_epoch_8\")\n",
    "#tokenizer.save_pretrained(\"best_model_epoch_8\")\n",
    "#print(\"Best model saved to 'best_model_epoch_8'\")\n"
   ]
  }
 ],
 "metadata": {
  "kernelspec": {
   "display_name": "pytorch_env",
   "language": "python",
   "name": "python3"
  },
  "language_info": {
   "codemirror_mode": {
    "name": "ipython",
    "version": 3
   },
   "file_extension": ".py",
   "mimetype": "text/x-python",
   "name": "python",
   "nbconvert_exporter": "python",
   "pygments_lexer": "ipython3",
   "version": "3.9.19"
  }
 },
 "nbformat": 4,
 "nbformat_minor": 2
}
