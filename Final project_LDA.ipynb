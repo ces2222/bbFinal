{
 "cells": [
  {
   "cell_type": "markdown",
   "metadata": {},
   "source": [
    "# Data Project 2 - Machine Learning Application"
   ]
  },
  {
   "cell_type": "markdown",
   "metadata": {},
   "source": [
    "By Charlie Smith, University of South Alabama, Fall 2023, BUS 798"
   ]
  },
  {
   "cell_type": "markdown",
   "metadata": {},
   "source": [
    "## 1. Data Selection and Preprocessing\n",
    "Do a lot of initial work here to get the dataset in order. Much of this work was done in previous assignments.\n",
    "\n",
    "Skip down to where it says \"Machine Learning Application\" to see steps 2 through 7 of this assignment."
   ]
  },
  {
   "cell_type": "code",
   "execution_count": 2,
   "metadata": {},
   "outputs": [
    {
     "name": "stderr",
     "output_type": "stream",
     "text": [
      "[nltk_data] Downloading package stopwords to C:\\Users\\MCOB PHD\n",
      "[nltk_data]     14\\AppData\\Roaming\\nltk_data...\n",
      "[nltk_data]   Package stopwords is already up-to-date!\n"
     ]
    },
    {
     "data": {
      "text/plain": [
       "True"
      ]
     },
     "execution_count": 2,
     "metadata": {},
     "output_type": "execute_result"
    }
   ],
   "source": [
    "# Importing pandas for numerical variable analysis and os, numpy, string, and nltk for text variable analysis.\n",
    "\n",
    "import pandas as pd\n",
    "import os as os\n",
    "import numpy as np\n",
    "import string as string\n",
    "import nltk\n",
    "from nltk.corpus import stopwords\n",
    "#nltk.download('stopwords')\n"
   ]
  },
  {
   "cell_type": "markdown",
   "metadata": {},
   "source": [
    "### 1.2 Reading in Beige Books"
   ]
  },
  {
   "cell_type": "code",
   "execution_count": 2,
   "metadata": {},
   "outputs": [],
   "source": [
    "# Reading in the Beige Books texts as a dataframe\n",
    "    # Also including the filename so we can know which region, month, and year it's from\n",
    "\n",
    "# Setting the directory where the text files of the Beige Books are stored\n",
    "directory_path = \"C:/Users/MCOB PHD 14/Dropbox/Charlie's Dissertation/Beige Books\"\n",
    "\n",
    "# Create empty lists to store text and file names\n",
    "textDF = []\n",
    "file_names = []\n",
    "\n",
    "# Loop through the files in the directory\n",
    "for filename in os.listdir(directory_path):\n",
    "    if filename.endswith(\".txt\"):\n",
    "        with open(os.path.join(directory_path, filename), 'r', encoding='utf-8') as file:\n",
    "            # Append the text to the text_data list\n",
    "            textDF.append(file.read())\n",
    "            # Append the file name to the file_names list\n",
    "            file_names.append(filename)\n",
    "\n",
    "# Create a DataFrame from the text and file_names lists\n",
    "data = {'text': textDF, 'file_name': file_names}\n",
    "BeigeBookDF = pd.DataFrame(data)"
   ]
  },
  {
   "cell_type": "code",
   "execution_count": 3,
   "metadata": {},
   "outputs": [],
   "source": [
    "# Import the nltk vader package for sentiment analysis\n",
    "from nltk.sentiment.vader import SentimentIntensityAnalyzer\n",
    "# Initialize the sentiment analyzer\n",
    "analyzer = SentimentIntensityAnalyzer()"
   ]
  },
  {
   "cell_type": "code",
   "execution_count": 101,
   "metadata": {},
   "outputs": [
    {
     "data": {
      "text/html": [
       "<div>\n",
       "<style scoped>\n",
       "    .dataframe tbody tr th:only-of-type {\n",
       "        vertical-align: middle;\n",
       "    }\n",
       "\n",
       "    .dataframe tbody tr th {\n",
       "        vertical-align: top;\n",
       "    }\n",
       "\n",
       "    .dataframe thead th {\n",
       "        text-align: right;\n",
       "    }\n",
       "</style>\n",
       "<table border=\"1\" class=\"dataframe\">\n",
       "  <thead>\n",
       "    <tr style=\"text-align: right;\">\n",
       "      <th></th>\n",
       "      <th>text</th>\n",
       "      <th>file_name</th>\n",
       "      <th>compound_score</th>\n",
       "      <th>sentiment</th>\n",
       "      <th>Year</th>\n",
       "      <th>City</th>\n",
       "      <th>MonthCode</th>\n",
       "      <th>District</th>\n",
       "      <th>MonthName</th>\n",
       "      <th>MonthNumerical</th>\n",
       "      <th>Date</th>\n",
       "    </tr>\n",
       "  </thead>\n",
       "  <tbody>\n",
       "    <tr>\n",
       "      <th>0</th>\n",
       "      <td>December 9, 1970\\nThe economy of the Southeast...</td>\n",
       "      <td>1970_at (1).txt</td>\n",
       "      <td>0.9929</td>\n",
       "      <td>positive</td>\n",
       "      <td>1970</td>\n",
       "      <td>at</td>\n",
       "      <td>1</td>\n",
       "      <td>6.0</td>\n",
       "      <td>December</td>\n",
       "      <td>12</td>\n",
       "      <td>1970-12-01</td>\n",
       "    </tr>\n",
       "    <tr>\n",
       "      <th>1</th>\n",
       "      <td>November 11, 1970\\nOur directors report a weak...</td>\n",
       "      <td>1970_at (2).txt</td>\n",
       "      <td>0.9286</td>\n",
       "      <td>positive</td>\n",
       "      <td>1970</td>\n",
       "      <td>at</td>\n",
       "      <td>2</td>\n",
       "      <td>6.0</td>\n",
       "      <td>October</td>\n",
       "      <td>10</td>\n",
       "      <td>1970-10-01</td>\n",
       "    </tr>\n",
       "    <tr>\n",
       "      <th>2</th>\n",
       "      <td>October 14, 1970\\nA midsummer business recover...</td>\n",
       "      <td>1970_at (3).txt</td>\n",
       "      <td>-0.9748</td>\n",
       "      <td>negative</td>\n",
       "      <td>1970</td>\n",
       "      <td>at</td>\n",
       "      <td>3</td>\n",
       "      <td>6.0</td>\n",
       "      <td>September</td>\n",
       "      <td>09</td>\n",
       "      <td>1970-09-01</td>\n",
       "    </tr>\n",
       "    <tr>\n",
       "      <th>3</th>\n",
       "      <td>September 9, 1970\\nThe consensus of directors,...</td>\n",
       "      <td>1970_at (4).txt</td>\n",
       "      <td>-0.9872</td>\n",
       "      <td>negative</td>\n",
       "      <td>1970</td>\n",
       "      <td>at</td>\n",
       "      <td>4</td>\n",
       "      <td>6.0</td>\n",
       "      <td>July</td>\n",
       "      <td>07</td>\n",
       "      <td>1970-07-01</td>\n",
       "    </tr>\n",
       "    <tr>\n",
       "      <th>4</th>\n",
       "      <td>August 12, 1970\\nThis report is based on a spe...</td>\n",
       "      <td>1970_at (5).txt</td>\n",
       "      <td>0.9520</td>\n",
       "      <td>positive</td>\n",
       "      <td>1970</td>\n",
       "      <td>at</td>\n",
       "      <td>5</td>\n",
       "      <td>6.0</td>\n",
       "      <td>June</td>\n",
       "      <td>06</td>\n",
       "      <td>1970-06-01</td>\n",
       "    </tr>\n",
       "  </tbody>\n",
       "</table>\n",
       "</div>"
      ],
      "text/plain": [
       "                                                text        file_name  \\\n",
       "0  December 9, 1970\\nThe economy of the Southeast...  1970_at (1).txt   \n",
       "1  November 11, 1970\\nOur directors report a weak...  1970_at (2).txt   \n",
       "2  October 14, 1970\\nA midsummer business recover...  1970_at (3).txt   \n",
       "3  September 9, 1970\\nThe consensus of directors,...  1970_at (4).txt   \n",
       "4  August 12, 1970\\nThis report is based on a spe...  1970_at (5).txt   \n",
       "\n",
       "   compound_score sentiment  Year City MonthCode  District  MonthName  \\\n",
       "0          0.9929  positive  1970   at         1       6.0   December   \n",
       "1          0.9286  positive  1970   at         2       6.0    October   \n",
       "2         -0.9748  negative  1970   at         3       6.0  September   \n",
       "3         -0.9872  negative  1970   at         4       6.0       July   \n",
       "4          0.9520  positive  1970   at         5       6.0       June   \n",
       "\n",
       "  MonthNumerical       Date  \n",
       "0             12 1970-12-01  \n",
       "1             10 1970-10-01  \n",
       "2             09 1970-09-01  \n",
       "3             07 1970-07-01  \n",
       "4             06 1970-06-01  "
      ]
     },
     "execution_count": 101,
     "metadata": {},
     "output_type": "execute_result"
    }
   ],
   "source": [
    "BeigeBookDF.head()"
   ]
  },
  {
   "cell_type": "code",
   "execution_count": 4,
   "metadata": {},
   "outputs": [],
   "source": [
    "# Create the function and run it on the Beige Book dataframe\n",
    "def analyze_sentiment(BeigeBookDF):\n",
    "    sid = SentimentIntensityAnalyzer()\n",
    "    sentiment_scores = sid.polarity_scores(BeigeBookDF)\n",
    "    \n",
    "    compound_score = sentiment_scores['compound']\n",
    "    \n",
    "    if compound_score >= 0.05:\n",
    "        sentiment = 'positive'\n",
    "    elif compound_score <= -0.05:\n",
    "        sentiment = 'negative'\n",
    "    else:\n",
    "        sentiment = 'neutral'\n",
    "    \n",
    "    return compound_score, sentiment\n",
    "\n",
    "BeigeBookDF['compound_score'], BeigeBookDF['sentiment'] = zip(*BeigeBookDF['text'].apply(analyze_sentiment))\n"
   ]
  },
  {
   "cell_type": "markdown",
   "metadata": {},
   "source": [
    "### 1.3 DV - Macroeconomic index score"
   ]
  },
  {
   "cell_type": "code",
   "execution_count": 3,
   "metadata": {},
   "outputs": [
    {
     "data": {
      "text/html": [
       "<div>\n",
       "<style scoped>\n",
       "    .dataframe tbody tr th:only-of-type {\n",
       "        vertical-align: middle;\n",
       "    }\n",
       "\n",
       "    .dataframe tbody tr th {\n",
       "        vertical-align: top;\n",
       "    }\n",
       "\n",
       "    .dataframe thead th {\n",
       "        text-align: right;\n",
       "    }\n",
       "</style>\n",
       "<table border=\"1\" class=\"dataframe\">\n",
       "  <thead>\n",
       "    <tr style=\"text-align: right;\">\n",
       "      <th></th>\n",
       "      <th>Date</th>\n",
       "      <th>USPHCI</th>\n",
       "      <th>District 1</th>\n",
       "      <th>District 2</th>\n",
       "      <th>District 3</th>\n",
       "      <th>District 4</th>\n",
       "      <th>District 5</th>\n",
       "      <th>District 6</th>\n",
       "      <th>District 7</th>\n",
       "      <th>District 8</th>\n",
       "      <th>District 9</th>\n",
       "      <th>District 10</th>\n",
       "      <th>District 11</th>\n",
       "      <th>District 12</th>\n",
       "    </tr>\n",
       "  </thead>\n",
       "  <tbody>\n",
       "    <tr>\n",
       "      <th>0</th>\n",
       "      <td>4/1/1979</td>\n",
       "      <td>46.14</td>\n",
       "      <td>0.22</td>\n",
       "      <td>9.92</td>\n",
       "      <td>11.87</td>\n",
       "      <td>16.25</td>\n",
       "      <td>-0.15</td>\n",
       "      <td>-2.42</td>\n",
       "      <td>15.90</td>\n",
       "      <td>11.08</td>\n",
       "      <td>4.86</td>\n",
       "      <td>3.98</td>\n",
       "      <td>-5.66</td>\n",
       "      <td>-5.63</td>\n",
       "    </tr>\n",
       "    <tr>\n",
       "      <th>1</th>\n",
       "      <td>5/1/1979</td>\n",
       "      <td>46.37</td>\n",
       "      <td>0.22</td>\n",
       "      <td>9.82</td>\n",
       "      <td>11.79</td>\n",
       "      <td>16.14</td>\n",
       "      <td>-0.24</td>\n",
       "      <td>-2.51</td>\n",
       "      <td>15.80</td>\n",
       "      <td>10.93</td>\n",
       "      <td>4.79</td>\n",
       "      <td>3.90</td>\n",
       "      <td>-5.73</td>\n",
       "      <td>-5.70</td>\n",
       "    </tr>\n",
       "    <tr>\n",
       "      <th>2</th>\n",
       "      <td>6/1/1979</td>\n",
       "      <td>46.50</td>\n",
       "      <td>0.30</td>\n",
       "      <td>9.79</td>\n",
       "      <td>11.79</td>\n",
       "      <td>16.09</td>\n",
       "      <td>-0.27</td>\n",
       "      <td>-2.53</td>\n",
       "      <td>15.70</td>\n",
       "      <td>10.83</td>\n",
       "      <td>4.76</td>\n",
       "      <td>3.86</td>\n",
       "      <td>-5.71</td>\n",
       "      <td>-5.65</td>\n",
       "    </tr>\n",
       "    <tr>\n",
       "      <th>3</th>\n",
       "      <td>7/1/1979</td>\n",
       "      <td>46.62</td>\n",
       "      <td>0.28</td>\n",
       "      <td>9.66</td>\n",
       "      <td>11.69</td>\n",
       "      <td>15.90</td>\n",
       "      <td>-0.29</td>\n",
       "      <td>-2.62</td>\n",
       "      <td>15.49</td>\n",
       "      <td>10.62</td>\n",
       "      <td>4.65</td>\n",
       "      <td>3.81</td>\n",
       "      <td>-5.67</td>\n",
       "      <td>-5.62</td>\n",
       "    </tr>\n",
       "    <tr>\n",
       "      <th>4</th>\n",
       "      <td>8/1/1979</td>\n",
       "      <td>46.68</td>\n",
       "      <td>0.43</td>\n",
       "      <td>9.67</td>\n",
       "      <td>11.62</td>\n",
       "      <td>15.83</td>\n",
       "      <td>-0.32</td>\n",
       "      <td>-2.54</td>\n",
       "      <td>15.23</td>\n",
       "      <td>10.52</td>\n",
       "      <td>4.59</td>\n",
       "      <td>3.83</td>\n",
       "      <td>-5.57</td>\n",
       "      <td>-5.60</td>\n",
       "    </tr>\n",
       "  </tbody>\n",
       "</table>\n",
       "</div>"
      ],
      "text/plain": [
       "       Date  USPHCI  District 1  District 2  District 3  District 4  \\\n",
       "0  4/1/1979   46.14        0.22        9.92       11.87       16.25   \n",
       "1  5/1/1979   46.37        0.22        9.82       11.79       16.14   \n",
       "2  6/1/1979   46.50        0.30        9.79       11.79       16.09   \n",
       "3  7/1/1979   46.62        0.28        9.66       11.69       15.90   \n",
       "4  8/1/1979   46.68        0.43        9.67       11.62       15.83   \n",
       "\n",
       "   District 5  District 6  District 7  District 8  District 9  District 10  \\\n",
       "0       -0.15       -2.42       15.90       11.08        4.86         3.98   \n",
       "1       -0.24       -2.51       15.80       10.93        4.79         3.90   \n",
       "2       -0.27       -2.53       15.70       10.83        4.76         3.86   \n",
       "3       -0.29       -2.62       15.49       10.62        4.65         3.81   \n",
       "4       -0.32       -2.54       15.23       10.52        4.59         3.83   \n",
       "\n",
       "   District 11  District 12  \n",
       "0        -5.66        -5.63  \n",
       "1        -5.73        -5.70  \n",
       "2        -5.71        -5.65  \n",
       "3        -5.67        -5.62  \n",
       "4        -5.57        -5.60  "
      ]
     },
     "execution_count": 3,
     "metadata": {},
     "output_type": "execute_result"
    }
   ],
   "source": [
    "# Reading in the data\n",
    "districtDiffs = pd.read_csv('district_diffs.csv', encoding='latin1')\n",
    "districtDiffs.head()"
   ]
  },
  {
   "cell_type": "code",
   "execution_count": 4,
   "metadata": {},
   "outputs": [
    {
     "name": "stdout",
     "output_type": "stream",
     "text": [
      "DV Mean: 2.0042464040025005\n",
      "DV Median: 0.985\n"
     ]
    }
   ],
   "source": [
    "# Want to calculate overall mean for the combined districts\n",
    "# Select the columns you want to include in the mean calculation\n",
    "district_columns = ['District 1', 'District 2', 'District 3', 'District 4', 'District 5', 'District 6', 'District 7', 'District 8', 'District 9', 'District 10', 'District 11', 'District 12']\n",
    "\n",
    "# Calculate the overall summary statistics\n",
    "dv_mean = districtDiffs[district_columns].mean().mean()\n",
    "dv_median = districtDiffs[district_columns].median().median()\n",
    "    # Mode omitted because it's not really meaningful to calculate the mode of a continuous variable like this.\n",
    "\n",
    "\n",
    "# Print the overall mean\n",
    "print(\"DV Mean:\", dv_mean)\n",
    "print(\"DV Median:\", dv_median)\n"
   ]
  },
  {
   "cell_type": "markdown",
   "metadata": {},
   "source": [
    "### 1.4 - Merging datasets"
   ]
  },
  {
   "cell_type": "code",
   "execution_count": 5,
   "metadata": {},
   "outputs": [],
   "source": [
    "# Changing the Date variable to read as a datetime\n",
    "districtDiffs['Date'] = pd.to_datetime(districtDiffs['Date'])"
   ]
  },
  {
   "cell_type": "code",
   "execution_count": 6,
   "metadata": {},
   "outputs": [
    {
     "name": "stdout",
     "output_type": "stream",
     "text": [
      "           Date  USPHCI  District  Value\n",
      "0    1979-04-01   46.14         1   0.22\n",
      "1    1979-04-01   46.14         2   9.92\n",
      "2    1979-04-01   46.14         3  11.87\n",
      "3    1979-04-01   46.14         4  16.25\n",
      "4    1979-04-01   46.14         5  -0.15\n",
      "...         ...     ...       ...    ...\n",
      "6391 2023-08-01  138.76         8  -1.86\n",
      "6392 2023-08-01  138.76         9   9.02\n",
      "6393 2023-08-01  138.76        10   7.18\n",
      "6394 2023-08-01  138.76        11  23.24\n",
      "6395 2023-08-01  138.76        12  23.50\n",
      "\n",
      "[6396 rows x 4 columns]\n"
     ]
    }
   ],
   "source": [
    "# Reshape districtDiffs dataframe from wide to long\n",
    "districtLong = pd.melt(districtDiffs, id_vars=[\"Date\", \"USPHCI\"], var_name=\"District\", value_name=\"Value\")\n",
    "\n",
    "# Extract the numeric part from the \"District\" names and convert to integers\n",
    "districtLong[\"District\"] = districtLong[\"District\"].str.extract(r'(\\d+)').astype(int)\n",
    "\n",
    "# Sort the DataFrame by \"Date\" and \"District\" columns\n",
    "districtLong = districtLong.sort_values(by=[\"Date\", \"District\"])\n",
    "\n",
    "# Reset the index\n",
    "districtLong.reset_index(drop=True, inplace=True)\n",
    "\n",
    "# Display the long-format DataFrame\n",
    "print(districtLong)\n"
   ]
  },
  {
   "cell_type": "code",
   "execution_count": 9,
   "metadata": {},
   "outputs": [],
   "source": [
    "# Define a mapping of city abbreviations to district numbers\n",
    "city_to_district = {\n",
    "    \"bo\": 1,\n",
    "    \"ny\": 2,\n",
    "    \"ph\": 3,\n",
    "    \"cl\": 4,\n",
    "    \"ri\": 5,\n",
    "    \"at\": 6,\n",
    "    \"ch\": 7,\n",
    "    \"sl\": 8,\n",
    "    \"mn\": 9,\n",
    "    \"kc\": 10,\n",
    "    \"da\": 11,\n",
    "    \"sf\": 12,\n",
    "}\n",
    "\n",
    "# Define a mapping of month codes (as named in the original text files of the Beige Books) to month names\n",
    "month_to_name = {\n",
    "    \"1\": \"December\",\n",
    "    \"2\": \"October\",\n",
    "    \"3\": \"September\",\n",
    "    \"4\": \"July\",\n",
    "    \"5\": \"June\",\n",
    "    \"6\": \"May\",\n",
    "    \"7\": \"March\",\n",
    "    \"8\": \"January\",\n",
    "}\n",
    "\n",
    "# Define a mapping of month names to month numbers\n",
    "name_to_month_numerical = {\n",
    "    \"December\": \"12\",\n",
    "    \"October\": \"10\",\n",
    "    \"September\": \"09\",\n",
    "    \"July\": \"07\",\n",
    "    \"June\": \"06\",\n",
    "    \"May\": \"05\",\n",
    "    \"March\": \"03\",\n",
    "    \"January\": \"01\",\n",
    "}\n"
   ]
  },
  {
   "cell_type": "code",
   "execution_count": 10,
   "metadata": {},
   "outputs": [],
   "source": [
    "# Create a new dataframe that is a copy of BeigeBookDF\n",
    "bbDF = BeigeBookDF\n",
    "\n",
    "# Extract the year, city, and month code into separate columns\n",
    "bbDF[['Year', 'City', 'MonthCode']] = BeigeBookDF['file_name'].str.extract(r'(\\d{4})_(\\w{2}) \\((\\d)\\).txt')\n",
    "\n",
    "# Map the city abbreviations to district numbers\n",
    "bbDF['District'] = bbDF['City'].map(city_to_district)\n",
    "\n",
    "# Map the month code to month names\n",
    "bbDF['MonthName'] = bbDF['MonthCode'].map(month_to_name)\n",
    "\n",
    "# Map the month names to numerical month numbers\n",
    "bbDF['MonthNumerical'] = bbDF['MonthName'].map(name_to_month_numerical)\n",
    "\n",
    "# Create a new column with the formatted date\n",
    "bbDF['Date'] = bbDF['Year'] + '-' + BeigeBookDF['MonthNumerical'] + '-01'"
   ]
  },
  {
   "cell_type": "code",
   "execution_count": 11,
   "metadata": {},
   "outputs": [],
   "source": [
    "# Convert the 'Date' column to a datetime data type\n",
    "bbDF['Date'] = pd.to_datetime(bbDF['Date'])"
   ]
  },
  {
   "cell_type": "code",
   "execution_count": 12,
   "metadata": {},
   "outputs": [
    {
     "name": "stdout",
     "output_type": "stream",
     "text": [
      "           Date  USPHCI  District  Value  \\\n",
      "0    1979-05-01   46.37         1   0.22   \n",
      "1    1979-05-01   46.37         2   9.82   \n",
      "2    1979-05-01   46.37         3  11.79   \n",
      "3    1979-05-01   46.37         4  16.14   \n",
      "4    1979-05-01   46.37         5  -0.24   \n",
      "...         ...     ...       ...    ...   \n",
      "4237 2023-06-01  138.24         8  -1.41   \n",
      "4238 2023-06-01  138.24         9   9.65   \n",
      "4239 2023-06-01  138.24        10   7.46   \n",
      "4240 2023-06-01  138.24        11  22.99   \n",
      "4241 2023-06-01  138.24        12  23.25   \n",
      "\n",
      "                                                   text        file_name  \\\n",
      "0      May 16, 1979\\nBusiness activity in the First ...  1979_bo (6).txt   \n",
      "1      May 16, 1979 \\nSecond District business activ...  1979_ny (6).txt   \n",
      "2      May 16, 1979 \\nThird District economic activi...  1979_ph (6).txt   \n",
      "3      May 16, 1979 \\nManufacturing activity in the ...  1979_cl (6).txt   \n",
      "4      May 16, 1979 \\nMost indications are that Fift...  1979_ri (6).txt   \n",
      "...                                                 ...              ...   \n",
      "4237  May 31, 2023\\nSummary of Economic Activity\\nEc...  2023_sl (5).txt   \n",
      "4238  May 31, 2023\\nSummary of Economic Activity\\nEc...  2023_mn (5).txt   \n",
      "4239  May 31, 2023\\nSummary of Economic Activity\\nTo...  2023_kc (5).txt   \n",
      "4240  May 31, 2023\\nSummary of Economic Activity\\nTh...  2023_da (5).txt   \n",
      "4241  May 31, 2023\\nSummary of Economic Activity\\nEc...  2023_sf (5).txt   \n",
      "\n",
      "      compound_score sentiment  Year City MonthCode MonthName MonthNumerical  \n",
      "0             0.8284  positive  1979   bo         6       May             05  \n",
      "1             0.9868  positive  1979   ny         6       May             05  \n",
      "2             0.9954  positive  1979   ph         6       May             05  \n",
      "3             0.3092  positive  1979   cl         6       May             05  \n",
      "4             0.9954  positive  1979   ri         6       May             05  \n",
      "...              ...       ...   ...  ...       ...       ...            ...  \n",
      "4237          0.9717  positive  2023   sl         5      June             06  \n",
      "4238          0.9986  positive  2023   mn         5      June             06  \n",
      "4239          0.9995  positive  2023   kc         5      June             06  \n",
      "4240          0.9976  positive  2023   da         5      June             06  \n",
      "4241          0.9774  positive  2023   sf         5      June             06  \n",
      "\n",
      "[4242 rows x 13 columns]\n"
     ]
    }
   ],
   "source": [
    "# Use the merge function to join the DataFrames based on the 'Date' and 'District' columns\n",
    "bbMerged = districtLong.merge(bbDF, on=['Date', 'District'])\n",
    "\n",
    "# Print the resulting DataFrame\n",
    "print(bbMerged)\n"
   ]
  },
  {
   "cell_type": "code",
   "execution_count": 13,
   "metadata": {},
   "outputs": [],
   "source": [
    "# Going to rename the Value column and drop the 'FormattedDate' column\n",
    "\n",
    "bbMerged = bbMerged.rename(columns={'Value': 'econ_index'})"
   ]
  },
  {
   "cell_type": "code",
   "execution_count": 14,
   "metadata": {},
   "outputs": [
    {
     "name": "stdout",
     "output_type": "stream",
     "text": [
      "          count      mean       std    min     25%    50%      75%    max\n",
      "District                                                                 \n",
      "1         352.0  1.938835  5.053444 -12.24 -0.8525  0.315   3.1825  18.14\n",
      "2         354.0  2.546695  5.237715 -20.98 -0.8250  0.805   8.1750  11.54\n",
      "3         353.0  2.228385  6.222225 -18.44 -3.0400  1.900   7.7200  11.79\n",
      "4         354.0  3.932627  6.678119 -15.99 -2.2675  5.005  10.0425  16.14\n",
      "5         354.0  0.809153  3.345896  -3.15 -1.2200 -0.480   1.4725  11.34\n",
      "6         354.0  0.036299  4.699060  -3.99 -2.7900 -2.220   0.5075  14.65\n",
      "7         354.0  3.906780  6.571178 -19.63 -2.3425  4.795  10.0425  15.80\n",
      "8         353.0  3.041530  3.772731  -6.99 -0.5300  2.140   6.5200  10.93\n",
      "9         354.0  2.654689  3.029284  -8.35  0.7700  1.940   3.9025  12.11\n",
      "10        353.0  1.808895  2.492047  -1.82 -0.3300  1.170   3.6900   8.69\n",
      "11        354.0  1.364887  8.659141  -8.00 -5.0200 -3.050   9.1125  22.99\n",
      "12        353.0 -0.404419  8.444640  -6.96 -5.9400 -5.470   0.8800  23.89\n"
     ]
    }
   ],
   "source": [
    "# Going to calculate the average score by date\n",
    "\n",
    "# Group the DataFrame by \"Date\" and calculate the mean for each group\n",
    "\n",
    "grouped_data = bbMerged.groupby('District')['econ_index'].describe()\n",
    "print(grouped_data)"
   ]
  },
  {
   "cell_type": "code",
   "execution_count": 15,
   "metadata": {},
   "outputs": [],
   "source": [
    "from nltk.tokenize import sent_tokenize, word_tokenize"
   ]
  },
  {
   "cell_type": "markdown",
   "metadata": {},
   "source": [
    "### 1.5 Cosine Similarity and PageRank approach\n",
    "This is related to working toward identifying key phrases within the texts that help predict economic outcomes.\n",
    "\n",
    "I didn't end up using this section now but am leaving it in because I might come back to it in the future."
   ]
  },
  {
   "cell_type": "code",
   "execution_count": 16,
   "metadata": {},
   "outputs": [],
   "source": [
    "### Create tokenized sentences\n",
    "bbMerged['sentences'] = bbMerged['text'].apply(nltk.sent_tokenize)"
   ]
  },
  {
   "cell_type": "code",
   "execution_count": 17,
   "metadata": {},
   "outputs": [],
   "source": [
    "from sklearn.feature_extraction.text import TfidfVectorizer\n",
    "from sklearn.metrics.pairwise import cosine_similarity\n",
    "import pandas as pd\n",
    "\n",
    "# Sample DataFrame with tokenized sentences in 'sentences' column\n",
    "# bbMerged = ...\n",
    "\n",
    "# Step 1: Preprocess sentences (e.g., using NLTK for tokenization)\n",
    "# Assuming you have already done the preprocessing and tokenization\n",
    "\n",
    "# Step 2: Vectorize sentences using TF-IDF\n",
    "tfidf_vectorizer = TfidfVectorizer()\n",
    "tfidf_matrix = tfidf_vectorizer.fit_transform(bbMerged['sentences'].apply(lambda x: ' '.join(x)))\n",
    "\n",
    "# Step 3: Calculate the cosine similarity matrix\n",
    "cosine_sim_matrix = cosine_similarity(tfidf_matrix, tfidf_matrix)\n",
    "\n",
    "# Create a DataFrame from the cosine similarity matrix\n",
    "cosine_sim_df = pd.DataFrame(cosine_sim_matrix, columns=bbMerged.index, index=bbMerged.index)\n",
    "\n",
    "# Now, cosine_sim_df contains the cosine similarity scores between each pair of sentences.\n"
   ]
  },
  {
   "cell_type": "code",
   "execution_count": 18,
   "metadata": {},
   "outputs": [],
   "source": [
    "import networkx as nx\n",
    "import numpy as np\n",
    "\n",
    "# Create a graph with sentences as nodes and cosine similarity scores as edges\n",
    "G = nx.Graph()\n",
    "num_sentences = len(bbMerged)\n",
    "\n",
    "for i in range(num_sentences):\n",
    "    for j in range(i + 1, num_sentences):\n",
    "        similarity = cosine_sim_matrix[i][j]\n",
    "        if similarity > 0.0:  # You may choose a threshold to include only relevant edges\n",
    "            G.add_edge(i, j, weight=similarity)\n",
    "\n",
    "# Calculate PageRank scores\n",
    "page_rank_scores = nx.pagerank(G, weight='weight')\n",
    "\n",
    "# Sort sentences by PageRank score (importance)\n",
    "sorted_sentences = sorted(page_rank_scores.items(), key=lambda x: x[1], reverse=True)\n",
    "\n",
    "# Extract the most important sentences\n",
    "num_top_sentences = 5  # You can change this value as needed\n",
    "top_sentence_indices = [index for index, score in sorted_sentences[:num_top_sentences]]\n",
    "\n",
    "# Get the actual sentences from the DataFrame\n",
    "top_sentences = [bbMerged['sentences'][index] for index in top_sentence_indices]\n",
    "\n",
    "# Now, top_sentences contains the most important sentences based on PageRank scores.\n"
   ]
  },
  {
   "cell_type": "markdown",
   "metadata": {},
   "source": [
    "### 1.6 Keyword Extraction approach\n",
    "\n",
    "Calculate the most important trigrams (three-word phrases) in the corpus using a Term Frequency-Inverse Document Frequency approach.\n",
    "\n",
    "The goal is to create an independent variable that includes the sentiment in sentences immediately surrounding these key phrases."
   ]
  },
  {
   "cell_type": "code",
   "execution_count": 19,
   "metadata": {},
   "outputs": [],
   "source": [
    "import pandas as pd\n",
    "import nltk\n",
    "from nltk.corpus import stopwords\n",
    "from nltk.tokenize import word_tokenize\n",
    "import string"
   ]
  },
  {
   "cell_type": "code",
   "execution_count": 20,
   "metadata": {},
   "outputs": [
    {
     "name": "stderr",
     "output_type": "stream",
     "text": [
      "[nltk_data] Downloading package stopwords to C:\\Users\\MCOB PHD\n",
      "[nltk_data]     14\\AppData\\Roaming\\nltk_data...\n",
      "[nltk_data]   Package stopwords is already up-to-date!\n"
     ]
    }
   ],
   "source": [
    "# Going to prepare the text for analysis by ...\n",
    "    # Tokenizing\n",
    "    # Converting to lowercase\n",
    "    # Removing punctuation\n",
    "    # Removing stopwords (common words like 'the' 'and' 'to' etc.)\n",
    "# bbMerged = ...\n",
    "\n",
    "# Step 1: Tokenization\n",
    "def tokenize_text(text):\n",
    "    tokens = word_tokenize(text)\n",
    "    return tokens\n",
    "\n",
    "# Step 2: Lowercasing\n",
    "def lowercase_text(tokens):\n",
    "    return [token.lower() for token in tokens]\n",
    "\n",
    "# Step 3: Removing Punctuation\n",
    "def remove_punctuation(tokens):\n",
    "    table = str.maketrans('', '', string.punctuation)\n",
    "    return [token.translate(table) for token in tokens]\n",
    "\n",
    "# Step 4: Removing Stopwords\n",
    "nltk.download('stopwords')\n",
    "stop_words = set(stopwords.words('english'))\n",
    "def remove_stopwords(tokens):\n",
    "    return [token for token in tokens if token not in stop_words]\n",
    "\n",
    "# Apply preprocessing steps to the 'text' column in the DataFrame\n",
    "bbMerged['preprocessed_text'] = bbMerged['text'].apply(tokenize_text)\n",
    "bbMerged['preprocessed_text'] = bbMerged['preprocessed_text'].apply(lowercase_text)\n",
    "bbMerged['preprocessed_text'] = bbMerged['preprocessed_text'].apply(remove_punctuation)\n",
    "bbMerged['preprocessed_text'] = bbMerged['preprocessed_text'].apply(remove_stopwords)\n"
   ]
  },
  {
   "cell_type": "code",
   "execution_count": 21,
   "metadata": {},
   "outputs": [],
   "source": [
    "from sklearn.feature_extraction.text import TfidfVectorizer\n",
    "\n",
    "# Initialize the TF-IDF vectorizer\n",
    "tfidf_vectorizer = TfidfVectorizer()\n",
    "\n",
    "# Fit and transform the preprocessed text to obtain TF-IDF vectors\n",
    "tfidf_matrix = tfidf_vectorizer.fit_transform(bbMerged['preprocessed_text'].apply(' '.join))\n",
    "\n",
    "# Now, tfidf_matrix contains the TF-IDF vectors for the preprocessed text in your DataFrame.\n",
    "\n",
    "# If you want to see the feature names (terms) corresponding to the columns of the TF-IDF matrix, you can do:\n",
    "feature_names = tfidf_vectorizer.get_feature_names_out()\n",
    "\n",
    "# You can also create a DataFrame from the TF-IDF matrix to inspect the TF-IDF values:\n",
    "tfidf_df = pd.DataFrame(data=tfidf_matrix.toarray(), columns=feature_names)\n",
    "\n",
    "# The 'tfidf_df' DataFrame contains the TF-IDF values for each term in each document.\n"
   ]
  },
  {
   "cell_type": "code",
   "execution_count": 22,
   "metadata": {},
   "outputs": [],
   "source": [
    "# Doing trigrams\n",
    "    # Change the range, for example, to (1, 3) if want to do single words, two-word phrases, and three-word phrases\n",
    "    # In this case, three may be best\n",
    "\n",
    "from sklearn.feature_extraction.text import TfidfVectorizer\n",
    "\n",
    "# Initialize the TF-IDF vectorizer with your chosen n-gram range\n",
    "ngram_range = (3, 3)  # Example: Use unigrams and bigrams and trigrams\n",
    "tfidf_vectorizer = TfidfVectorizer(ngram_range=ngram_range)\n",
    "\n",
    "# Fit and transform the preprocessed text to obtain TF-IDF vectors\n",
    "tfidf_matrix = tfidf_vectorizer.fit_transform(bbMerged['preprocessed_text'].apply(' '.join))\n",
    "\n",
    "# Now, tfidf_matrix contains the TF-IDF vectors with the specified n-grams.\n"
   ]
  },
  {
   "cell_type": "code",
   "execution_count": 23,
   "metadata": {},
   "outputs": [],
   "source": [
    "# Get the feature names (terms) corresponding to the columns of the TF-IDF matrix\n",
    "feature_names = tfidf_vectorizer.get_feature_names_out()\n",
    "\n",
    "# Calculate the TF-IDF scores for each feature\n",
    "tfidf_scores = tfidf_matrix.sum(axis=0).A1  # A1 converts the result to a 1-D array\n",
    "\n",
    "# Create a DataFrame to represent features and their TF-IDF scores\n",
    "tfidf_df = pd.DataFrame({'feature': feature_names, 'tfidf_score': tfidf_scores})\n",
    "\n",
    "# Sort the features by TF-IDF scores in descending order to identify the most important features\n",
    "top_features = tfidf_df.sort_values(by='tfidf_score', ascending=False)\n",
    "\n",
    "# Now, 'top_features' contains the most important trigrams based on TF-IDF scores."
   ]
  },
  {
   "cell_type": "code",
   "execution_count": 24,
   "metadata": {},
   "outputs": [
    {
     "data": {
      "text/html": [
       "<div>\n",
       "<style scoped>\n",
       "    .dataframe tbody tr th:only-of-type {\n",
       "        vertical-align: middle;\n",
       "    }\n",
       "\n",
       "    .dataframe tbody tr th {\n",
       "        vertical-align: top;\n",
       "    }\n",
       "\n",
       "    .dataframe thead th {\n",
       "        text-align: right;\n",
       "    }\n",
       "</style>\n",
       "<table border=\"1\" class=\"dataframe\">\n",
       "  <thead>\n",
       "    <tr style=\"text-align: right;\">\n",
       "      <th></th>\n",
       "      <th>feature</th>\n",
       "      <th>tfidf_score</th>\n",
       "    </tr>\n",
       "  </thead>\n",
       "  <tbody>\n",
       "    <tr>\n",
       "      <th>0</th>\n",
       "      <td>000 barrels per</td>\n",
       "      <td>0.039697</td>\n",
       "    </tr>\n",
       "    <tr>\n",
       "      <th>1</th>\n",
       "      <td>007 percentage points</td>\n",
       "      <td>0.045291</td>\n",
       "    </tr>\n",
       "    <tr>\n",
       "      <th>2</th>\n",
       "      <td>01 2017 summary</td>\n",
       "      <td>0.374503</td>\n",
       "    </tr>\n",
       "    <tr>\n",
       "      <th>3</th>\n",
       "      <td>01 percent 11</td>\n",
       "      <td>0.043779</td>\n",
       "    </tr>\n",
       "    <tr>\n",
       "      <th>4</th>\n",
       "      <td>01 percent 63</td>\n",
       "      <td>0.043779</td>\n",
       "    </tr>\n",
       "    <tr>\n",
       "      <th>...</th>\n",
       "      <td>...</td>\n",
       "      <td>...</td>\n",
       "    </tr>\n",
       "    <tr>\n",
       "      <th>1834805</th>\n",
       "      <td>zooming along financial</td>\n",
       "      <td>0.043610</td>\n",
       "    </tr>\n",
       "    <tr>\n",
       "      <th>1834806</th>\n",
       "      <td>zoos botanical gardens</td>\n",
       "      <td>0.044611</td>\n",
       "    </tr>\n",
       "    <tr>\n",
       "      <th>1834807</th>\n",
       "      <td>â½ point led</td>\n",
       "      <td>0.038297</td>\n",
       "    </tr>\n",
       "    <tr>\n",
       "      <th>1834808</th>\n",
       "      <td>â½ point september</td>\n",
       "      <td>0.038421</td>\n",
       "    </tr>\n",
       "    <tr>\n",
       "      <th>1834809</th>\n",
       "      <td>œend homes sales</td>\n",
       "      <td>0.034556</td>\n",
       "    </tr>\n",
       "  </tbody>\n",
       "</table>\n",
       "<p>1834810 rows × 2 columns</p>\n",
       "</div>"
      ],
      "text/plain": [
       "                         feature  tfidf_score\n",
       "0                000 barrels per     0.039697\n",
       "1          007 percentage points     0.045291\n",
       "2                01 2017 summary     0.374503\n",
       "3                  01 percent 11     0.043779\n",
       "4                  01 percent 63     0.043779\n",
       "...                          ...          ...\n",
       "1834805  zooming along financial     0.043610\n",
       "1834806   zoos botanical gardens     0.044611\n",
       "1834807             â½ point led     0.038297\n",
       "1834808       â½ point september     0.038421\n",
       "1834809         œend homes sales     0.034556\n",
       "\n",
       "[1834810 rows x 2 columns]"
      ]
     },
     "execution_count": 24,
     "metadata": {},
     "output_type": "execute_result"
    }
   ],
   "source": [
    "tfidf_df"
   ]
  },
  {
   "cell_type": "code",
   "execution_count": 25,
   "metadata": {},
   "outputs": [],
   "source": [
    "# These are the top 100 phrases, and I export them to a CSV file to review in Excel.\n",
    "\n",
    "top_100_features = top_features.head(100)\n",
    "\n",
    "# Save the extracted DataFrame to a CSV file\n",
    "#top_100_features.to_csv('top_100_features.csv', index=False)"
   ]
  },
  {
   "cell_type": "code",
   "execution_count": 72,
   "metadata": {},
   "outputs": [
    {
     "data": {
      "text/html": [
       "<div>\n",
       "<style scoped>\n",
       "    .dataframe tbody tr th:only-of-type {\n",
       "        vertical-align: middle;\n",
       "    }\n",
       "\n",
       "    .dataframe tbody tr th {\n",
       "        vertical-align: top;\n",
       "    }\n",
       "\n",
       "    .dataframe thead th {\n",
       "        text-align: right;\n",
       "    }\n",
       "</style>\n",
       "<table border=\"1\" class=\"dataframe\">\n",
       "  <thead>\n",
       "    <tr style=\"text-align: right;\">\n",
       "      <th></th>\n",
       "      <th>feature</th>\n",
       "      <th>tfidf_score</th>\n",
       "    </tr>\n",
       "  </thead>\n",
       "  <tbody>\n",
       "    <tr>\n",
       "      <th>260930</th>\n",
       "      <td>commercial real estate</td>\n",
       "      <td>35.115460</td>\n",
       "    </tr>\n",
       "    <tr>\n",
       "      <th>1547474</th>\n",
       "      <td>since last report</td>\n",
       "      <td>33.690837</td>\n",
       "    </tr>\n",
       "    <tr>\n",
       "      <th>1060970</th>\n",
       "      <td>new york city</td>\n",
       "      <td>24.112179</td>\n",
       "    </tr>\n",
       "    <tr>\n",
       "      <th>1402677</th>\n",
       "      <td>residential real estate</td>\n",
       "      <td>23.210421</td>\n",
       "    </tr>\n",
       "    <tr>\n",
       "      <th>1548040</th>\n",
       "      <td>since previous report</td>\n",
       "      <td>21.413953</td>\n",
       "    </tr>\n",
       "    <tr>\n",
       "      <th>...</th>\n",
       "      <td>...</td>\n",
       "      <td>...</td>\n",
       "    </tr>\n",
       "    <tr>\n",
       "      <th>1422245</th>\n",
       "      <td>retail trade services</td>\n",
       "      <td>4.878914</td>\n",
       "    </tr>\n",
       "    <tr>\n",
       "      <th>54338</th>\n",
       "      <td>activity third district</td>\n",
       "      <td>4.821993</td>\n",
       "    </tr>\n",
       "    <tr>\n",
       "      <th>1155361</th>\n",
       "      <td>past three months</td>\n",
       "      <td>4.815877</td>\n",
       "    </tr>\n",
       "    <tr>\n",
       "      <th>1690329</th>\n",
       "      <td>third district banks</td>\n",
       "      <td>4.742081</td>\n",
       "    </tr>\n",
       "    <tr>\n",
       "      <th>259876</th>\n",
       "      <td>commercial industrial lending</td>\n",
       "      <td>4.723824</td>\n",
       "    </tr>\n",
       "  </tbody>\n",
       "</table>\n",
       "<p>100 rows × 2 columns</p>\n",
       "</div>"
      ],
      "text/plain": [
       "                               feature  tfidf_score\n",
       "260930          commercial real estate    35.115460\n",
       "1547474              since last report    33.690837\n",
       "1060970                  new york city    24.112179\n",
       "1402677        residential real estate    23.210421\n",
       "1548040          since previous report    21.413953\n",
       "...                                ...          ...\n",
       "1422245          retail trade services     4.878914\n",
       "54338          activity third district     4.821993\n",
       "1155361              past three months     4.815877\n",
       "1690329           third district banks     4.742081\n",
       "259876   commercial industrial lending     4.723824\n",
       "\n",
       "[100 rows x 2 columns]"
      ]
     },
     "execution_count": 72,
     "metadata": {},
     "output_type": "execute_result"
    }
   ],
   "source": [
    "top_100_features"
   ]
  },
  {
   "cell_type": "markdown",
   "metadata": {},
   "source": [
    "### 1.7 Mean Compound Score\n",
    "\n",
    "Instead of a compound score for the whole document, which tends toward extremes of -1 and 1, I calculate the score for each sentence in each document.\n",
    "\n",
    "This allows for some flexibility in calculating different distributions (quartiles and deciles) of the sentence scores within each Beige Book."
   ]
  },
  {
   "cell_type": "code",
   "execution_count": 26,
   "metadata": {},
   "outputs": [],
   "source": [
    "import os\n",
    "import pandas as pd\n",
    "from nltk.sentiment.vader import SentimentIntensityAnalyzer\n",
    "from nltk.tokenize import sent_tokenize\n"
   ]
  },
  {
   "cell_type": "code",
   "execution_count": 27,
   "metadata": {},
   "outputs": [],
   "source": [
    "sia = SentimentIntensityAnalyzer()\n",
    "\n",
    "def calculate_sentiment_scores(text):\n",
    "    sentences = sent_tokenize(text)\n",
    "    scores = []\n",
    "\n",
    "    for sentence in sentences:\n",
    "        sentiment_score = sia.polarity_scores(sentence)\n",
    "        scores.append(sentiment_score)\n",
    "\n",
    "    return scores\n"
   ]
  },
  {
   "cell_type": "code",
   "execution_count": 28,
   "metadata": {},
   "outputs": [],
   "source": [
    "results = []"
   ]
  },
  {
   "cell_type": "code",
   "execution_count": 29,
   "metadata": {},
   "outputs": [],
   "source": [
    "for filename in os.listdir(directory_path):\n",
    "    if filename.endswith(\".txt\"):  # Assuming your text files have a .txt extension\n",
    "        file_path = os.path.join(directory_path, filename)\n",
    "        with open(file_path, 'r') as file:\n",
    "            text = file.read()\n",
    "        \n",
    "        sentiment_scores = calculate_sentiment_scores(text)\n",
    "        results.append({\n",
    "            'File': filename,\n",
    "            'Sentiment Scores': sentiment_scores\n",
    "        })\n"
   ]
  },
  {
   "cell_type": "code",
   "execution_count": 30,
   "metadata": {},
   "outputs": [],
   "source": [
    "# Going to do the above for every document\n",
    "    # Going to start with the bbMerged file, which already has Beige Book documents listed by city and date\n",
    "    # Going to create a new df that drops some of the extra stuff leftover in bbMerged\n",
    "\n",
    "bbSimple = bbMerged\n",
    "bbSimple.drop('sentiment', axis=1, inplace=True)\n",
    "bbSimple.drop('file_name', axis=1, inplace=True)\n",
    "bbSimple.drop('compound_score', axis=1, inplace=True)\n",
    "bbSimple.drop('MonthCode', axis=1, inplace=True)"
   ]
  },
  {
   "cell_type": "code",
   "execution_count": 31,
   "metadata": {},
   "outputs": [],
   "source": [
    "# Now calculating the compound score for each sentence in each Beige Book\n",
    "    # Then saving that as a list within the bbSimple dataframe\n",
    "\n",
    "# Initialize the SentimentIntensityAnalyzer\n",
    "sid = SentimentIntensityAnalyzer()\n",
    "\n",
    "# Function to calculate the compound sentiment score\n",
    "def calculate_sentiment(text):\n",
    "    sentences = sent_tokenize(text)\n",
    "    compound_scores = [sid.polarity_scores(sentence)['compound'] for sentence in sentences]\n",
    "    return compound_scores\n",
    "\n",
    "# Assuming 'bbSimple' is your DataFrame\n",
    "bbSimple['compound_sentiment'] = bbSimple['text'].apply(calculate_sentiment)\n"
   ]
  },
  {
   "cell_type": "code",
   "execution_count": 32,
   "metadata": {},
   "outputs": [],
   "source": [
    "# Example: Calculate the mean and median sentiment scores for each document\n",
    "# bbSimple['mean_sentiment'] = bbSimple['compound_sentiment'].apply(lambda x: sum(x) / len(x) if len(x) > 0 else 0)\n",
    "# bbSimple['median_sentiment'] = bbSimple['compound_sentiment'].apply(lambda x: sorted(x)[len(x) // 2] if len(x) > 0 else 0)\n",
    "\n",
    "bbSimple['mean_sentiment'] = bbSimple['compound_sentiment'].apply(lambda x: sum(x) / len(x) if len(x) > 0 else 0)\n",
    "bbSimple['median_sentiment'] = bbSimple['compound_sentiment'].apply(lambda x: sorted(x)[len(x) // 2] if len(x) > 0 else 0)"
   ]
  },
  {
   "cell_type": "code",
   "execution_count": 33,
   "metadata": {},
   "outputs": [
    {
     "data": {
      "image/png": "[encoded data removed]",
      "text/plain": [
       "<Figure size 640x480 with 1 Axes>"
      ]
     },
     "metadata": {},
     "output_type": "display_data"
    }
   ],
   "source": [
    "import matplotlib.pyplot as plt\n",
    "# Example: Create a histogram of compound sentiment scores\n",
    "plt.hist(bbSimple['mean_sentiment'], bins=20)\n",
    "plt.xlabel('Mean Sentiment Score')\n",
    "plt.ylabel('Frequency')\n",
    "plt.show()\n"
   ]
  },
  {
   "cell_type": "code",
   "execution_count": 34,
   "metadata": {},
   "outputs": [],
   "source": [
    "# Calculate deciles\n",
    "\n",
    "import numpy as np\n",
    "\n",
    "# Define a list of desired deciles (10th, 20th, ..., 90th percentiles)\n",
    "deciles = [10, 20, 30, 40, 50, 60, 70, 80, 90]\n",
    "\n",
    "# Calculate the specified deciles for each document\n",
    "for decile in deciles:\n",
    "    column_name = f'{decile}th_decile_sentiment'\n",
    "    bbSimple[column_name] = bbSimple['compound_sentiment'].apply(lambda x: np.percentile(x, decile) if len(x) > 0 else 0)\n"
   ]
  },
  {
   "cell_type": "code",
   "execution_count": 35,
   "metadata": {},
   "outputs": [],
   "source": [
    "# Doing quartiles as well\n",
    "\n",
    "import numpy as np\n",
    "\n",
    "# DbbSimple[['econ_index', 'compound_sentiment', 'mean_sentiment', 'IQR_sentiment']].median()efine a list of desired quartiles (25th, 50th, and 75th percentiles)\n",
    "quartiles = [25, 50, 75]\n",
    "\n",
    "# Calculate the specified quartiles for each document\n",
    "for quartile in quartiles:\n",
    "    column_name = f'{quartile}th_quartile_sentiment'\n",
    "    bbSimple[column_name] = bbSimple['compound_sentiment'].apply(lambda x: np.percentile(x, quartile) if len(x) > 0 else 0)\n"
   ]
  },
  {
   "cell_type": "markdown",
   "metadata": {},
   "source": [
    "### 1.8 Economic Index Dummy\n",
    "\n",
    "To set up for a classification model, a dummy is created that equals 1 for positive values of the economic index (DV) and 0 for non-positive values.\n",
    "\n",
    "A 1 indicates a district has a more positive sentiment that month than the national average."
   ]
  },
  {
   "cell_type": "code",
   "execution_count": 36,
   "metadata": {},
   "outputs": [],
   "source": [
    "# Create a new column 'econ_index_dummy' and set it to 1 for positive values and 0 for non-positive values\n",
    "bbSimple['econ_index_dummy'] = bbSimple['econ_index'].apply(lambda x: 1 if x > 0 else 0)\n"
   ]
  },
  {
   "cell_type": "markdown",
   "metadata": {},
   "source": [
    "### 1.9 Interquartile Range\n",
    "\n",
    "Interquartile range gives a measure of the variation in the sentence sentiment scores within a document.\n",
    "\n",
    "This is an IV in the model."
   ]
  },
  {
   "cell_type": "code",
   "execution_count": 37,
   "metadata": {},
   "outputs": [],
   "source": [
    "# Calculating interquartile range\n",
    "bbSimple['IQR_sentiment'] = bbSimple['75th_quartile_sentiment'] - bbSimple['25th_quartile_sentiment']"
   ]
  },
  {
   "cell_type": "markdown",
   "metadata": {},
   "source": [
    "# Machine learning application"
   ]
  },
  {
   "cell_type": "markdown",
   "metadata": {},
   "source": [
    "## 2. Train/Test Split"
   ]
  },
  {
   "cell_type": "code",
   "execution_count": 38,
   "metadata": {},
   "outputs": [],
   "source": [
    "from sklearn.model_selection import train_test_split\n",
    "\n",
    "# Split the data into training and testing sets with an 80/20 ratio\n",
    "train_set, test_set = train_test_split(bbSimple, test_size=0.2, random_state=7)\n",
    "\n",
    "# 'test_size' specifies the proportion of the dataset to include in the test split (0.2 means 20%)\n",
    "# 'random_state' is used to ensure reproducibility, you can set it to any integer value for consistency\n",
    "\n",
    "# You can now use 'train_set' and 'test_set' for your machine learning tasks\n"
   ]
  },
  {
   "cell_type": "code",
   "execution_count": 39,
   "metadata": {},
   "outputs": [],
   "source": [
    "# Assuming 'target_column' is the name of the column you want to predict\n",
    "X_train = train_set.drop(columns=['econ_index_dummy'])\n",
    "y_train = train_set['econ_index_dummy']\n",
    "\n",
    "X_test = test_set.drop(columns=['econ_index_dummy'])\n",
    "y_test = test_set['econ_index_dummy']\n"
   ]
  },
  {
   "cell_type": "code",
   "execution_count": 40,
   "metadata": {},
   "outputs": [],
   "source": [
    "X_train = X_train[['mean_sentiment', 'IQR_sentiment']]\n",
    "X_test = X_test[['mean_sentiment', 'IQR_sentiment']]\n"
   ]
  },
  {
   "cell_type": "markdown",
   "metadata": {},
   "source": [
    "## 3. Model Selection\n",
    "\n",
    "Going to use a random forest to classify whether the economic index for a given month is positive (greater than the national index) or negative (less than the national index).\n",
    "\n",
    "Random forest is an appropriate method for a classification problem like this. However, you could use the economic index score, rather than the dummy, and use a regression setup.\n",
    "\n",
    "Classification was used because the interpretation of the results was more straightforward in this case: What percentage of cases were predicted correctly?"
   ]
  },
  {
   "cell_type": "code",
   "execution_count": 41,
   "metadata": {},
   "outputs": [],
   "source": [
    "from sklearn.ensemble import RandomForestClassifier  # or RandomForestRegressor for regression\n",
    "\n",
    "# Create a Random Forest model\n",
    "model = RandomForestClassifier(n_estimators=100, random_state=7)  # You can adjust hyperparameters as needed"
   ]
  },
  {
   "cell_type": "markdown",
   "metadata": {},
   "source": [
    "## 4. Model Training"
   ]
  },
  {
   "cell_type": "code",
   "execution_count": 42,
   "metadata": {},
   "outputs": [
    {
     "data": {
      "text/plain": [
       "RandomForestClassifier(random_state=7)"
      ]
     },
     "execution_count": 42,
     "metadata": {},
     "output_type": "execute_result"
    }
   ],
   "source": [
    "# Train the model on the training data\n",
    "model.fit(X_train, y_train)\n"
   ]
  },
  {
   "cell_type": "code",
   "execution_count": 43,
   "metadata": {},
   "outputs": [],
   "source": [
    "# Make predictions on the test data\n",
    "predictions = model.predict(X_test)\n"
   ]
  },
  {
   "cell_type": "code",
   "execution_count": 44,
   "metadata": {},
   "outputs": [],
   "source": [
    "from sklearn.metrics import accuracy_score, f1_score, precision_score, recall_score, confusion_matrix, classification_report\n",
    "\n",
    "# For 80/20 test/train split\n",
    "accuracy = accuracy_score(y_test, predictions)\n",
    "f1 = f1_score(y_test, predictions)\n",
    "recall = recall_score(y_test, predictions)\n",
    "precision = precision_score(y_test, predictions)\n"
   ]
  },
  {
   "cell_type": "code",
   "execution_count": 45,
   "metadata": {},
   "outputs": [
    {
     "name": "stdout",
     "output_type": "stream",
     "text": [
      "Accuracy: 0.5182567726737338\n",
      "F1: 0.5752855659397714\n",
      "Recall: 0.5995670995670995\n",
      "Precision: 0.5528942115768463\n"
     ]
    }
   ],
   "source": [
    "print(\"Accuracy:\", accuracy)\n",
    "print(\"F1:\", f1)\n",
    "print(\"Recall:\", recall)\n",
    "print(\"Precision:\", precision)"
   ]
  },
  {
   "cell_type": "code",
   "execution_count": 46,
   "metadata": {},
   "outputs": [
    {
     "data": {
      "image/png": "[encoded data removed]",
      "text/plain": [
       "<Figure size 640x480 with 2 Axes>"
      ]
     },
     "metadata": {},
     "output_type": "display_data"
    }
   ],
   "source": [
    "import seaborn as sns\n",
    "conf_matrix_test_train = confusion_matrix(y_test, predictions)\n",
    "sns.heatmap(conf_matrix_test_train, annot=True, fmt=\"d\", cmap=\"Blues\")\n",
    "plt.xlabel(\"Predicted\")\n",
    "plt.ylabel(\"Actual\")\n",
    "plt.title(\"Figure 1: Confusion Matrix - Test/Train Approach\")\n",
    "#plt.savefig(\"confusion_matrix_testtrain.png\")\n",
    "plt.show()\n"
   ]
  },
  {
   "cell_type": "markdown",
   "metadata": {},
   "source": [
    "### 4.2 - 5-fold cross validation"
   ]
  },
  {
   "cell_type": "code",
   "execution_count": 47,
   "metadata": {},
   "outputs": [],
   "source": [
    "from sklearn.ensemble import RandomForestClassifier  # or RandomForestRegressor for regression\n",
    "from sklearn.model_selection import cross_val_predict, KFold"
   ]
  },
  {
   "cell_type": "code",
   "execution_count": 48,
   "metadata": {},
   "outputs": [],
   "source": [
    "# Preparing data\n",
    "X = bbSimple[['mean_sentiment', 'median_sentiment', 'IQR_sentiment']]  # Specify your features here\n",
    "y = bbSimple['econ_index_dummy']\n"
   ]
  },
  {
   "cell_type": "code",
   "execution_count": 49,
   "metadata": {},
   "outputs": [],
   "source": [
    "model = RandomForestClassifier(n_estimators=100, random_state=7)  # You can adjust hyperparameters as needed\n"
   ]
  },
  {
   "cell_type": "code",
   "execution_count": 50,
   "metadata": {},
   "outputs": [],
   "source": [
    "kf = KFold(n_splits=5, shuffle=True, random_state=42)  # Create a 5-fold cross-validation split\n",
    "\n",
    "# Perform cross-validation and get predictions\n",
    "predictions = cross_val_predict(model, X, y, cv=kf)\n"
   ]
  },
  {
   "cell_type": "markdown",
   "metadata": {},
   "source": [
    "## 5. Model Evaluation"
   ]
  },
  {
   "cell_type": "code",
   "execution_count": 51,
   "metadata": {},
   "outputs": [],
   "source": [
    "# Evaluate the model's performance\n",
    "from sklearn.metrics import accuracy_score, f1_score, precision_score, recall_score  # Use appropriate metrics for your problem\n",
    "\n",
    "accuracy = accuracy_score(y, predictions)\n",
    "f1 = f1_score(y, predictions)\n",
    "precision = precision_score(y, predictions)\n",
    "recall = recall_score(y, predictions)\n"
   ]
  },
  {
   "cell_type": "code",
   "execution_count": 52,
   "metadata": {},
   "outputs": [
    {
     "name": "stdout",
     "output_type": "stream",
     "text": [
      "Accuracy: 0.5372465818010372\n",
      "F1: 0.5950072209614194\n",
      "Precision: 0.5738161559888579\n",
      "Recall: 0.6178234790059983\n"
     ]
    }
   ],
   "source": [
    "print(\"Accuracy:\", accuracy)\n",
    "print(\"F1:\", f1)\n",
    "print(\"Precision:\", precision)\n",
    "print(\"Recall:\", recall)"
   ]
  },
  {
   "cell_type": "code",
   "execution_count": 53,
   "metadata": {},
   "outputs": [
    {
     "name": "stdout",
     "output_type": "stream",
     "text": [
      "Classification Report:\n",
      "              precision    recall  f1-score   support\n",
      "\n",
      "           0       0.48      0.44      0.46      1908\n",
      "           1       0.57      0.62      0.60      2334\n",
      "\n",
      "    accuracy                           0.54      4242\n",
      "   macro avg       0.53      0.53      0.53      4242\n",
      "weighted avg       0.53      0.54      0.53      4242\n",
      "\n"
     ]
    }
   ],
   "source": [
    "from sklearn.metrics import classification_report  # Use appropriate metrics for your problem\n",
    "\n",
    "class_report = classification_report(y, predictions)\n",
    "print(f'Classification Report:\\n{class_report}')\n"
   ]
  },
  {
   "cell_type": "markdown",
   "metadata": {},
   "source": [
    "### 5.2 Cross-validation metric scores"
   ]
  },
  {
   "cell_type": "code",
   "execution_count": 54,
   "metadata": {},
   "outputs": [
    {
     "name": "stdout",
     "output_type": "stream",
     "text": [
      "Cross-validated Accuracy Scores: [0.50647821 0.48881037 0.54716981 0.58018868 0.48938679]\n",
      "Mean Accuracy: 0.5224067715625486\n"
     ]
    }
   ],
   "source": [
    "from sklearn.model_selection import cross_val_score\n",
    "\n",
    "# Perform cross-validation and obtain metric scores (e.g., accuracy)\n",
    "cv_scores = cross_val_score(model, X, y, cv=5)  # cv=5 means 5-fold cross-validation\n",
    "\n",
    "# Print the cross-validated metric scores\n",
    "print(\"Cross-validated Accuracy Scores:\", cv_scores)\n",
    "print(\"Mean Accuracy:\", cv_scores.mean())\n"
   ]
  },
  {
   "cell_type": "markdown",
   "metadata": {},
   "source": [
    "## 6. Results Visualization"
   ]
  },
  {
   "cell_type": "code",
   "execution_count": 55,
   "metadata": {},
   "outputs": [],
   "source": [
    "from sklearn.metrics import confusion_matrix\n",
    "import seaborn as sns\n"
   ]
  },
  {
   "cell_type": "code",
   "execution_count": 56,
   "metadata": {},
   "outputs": [],
   "source": [
    "# Compute the Confusion Matrix:\n",
    "conf_matrix_kfold = confusion_matrix(y, predictions)\n"
   ]
  },
  {
   "cell_type": "code",
   "execution_count": 57,
   "metadata": {},
   "outputs": [
    {
     "data": {
      "image/png": "[encoded data removed]",
      "text/plain": [
       "<Figure size 640x480 with 2 Axes>"
      ]
     },
     "metadata": {},
     "output_type": "display_data"
    }
   ],
   "source": [
    "sns.heatmap(conf_matrix_kfold, annot=True, fmt=\"d\", cmap=\"Blues\")\n",
    "plt.xlabel(\"Predicted\")\n",
    "plt.ylabel(\"Actual\")\n",
    "plt.title(\"Figure 2: Confusion Matrix - k-fold method\")\n",
    "#plt.savefig(\"confusion_matrix_kfold.png\")\n",
    "plt.show()\n"
   ]
  },
  {
   "cell_type": "markdown",
   "metadata": {},
   "source": [
    "### 6.2 - Feature importance plot\n",
    "Want to show how much each predictor mattered."
   ]
  },
  {
   "cell_type": "code",
   "execution_count": 58,
   "metadata": {},
   "outputs": [],
   "source": [
    "import pandas as pd\n",
    "from sklearn.ensemble import RandomForestClassifier\n",
    "from sklearn.model_selection import cross_val_predict, KFold\n",
    "import matplotlib.pyplot as plt\n",
    "import seaborn as sns"
   ]
  },
  {
   "cell_type": "code",
   "execution_count": 59,
   "metadata": {},
   "outputs": [],
   "source": [
    "# Previously defined 'X' and 'y' and 'kf' for 5-fold cross-validation\n",
    "# Create an empty list to store feature importances for each fold\n",
    "feature_importances_list = []\n",
    "\n",
    "for train_idx, test_idx in kf.split(X):\n",
    "    X_train, X_test = X.iloc[train_idx], X.iloc[test_idx]\n",
    "    y_train, y_test = y.iloc[train_idx], y.iloc[test_idx]\n",
    "    \n",
    "    # Create and train a Random Forest model for this fold\n",
    "    model = RandomForestClassifier(n_estimators=100, random_state=7)\n",
    "    model.fit(X_train, y_train)\n",
    "    \n",
    "    # Retrieve and store feature importances for this fold\n",
    "    feature_importances_list.append(model.feature_importances_)\n"
   ]
  },
  {
   "cell_type": "code",
   "execution_count": 60,
   "metadata": {},
   "outputs": [],
   "source": [
    "import numpy as np\n",
    "\n",
    "# Calculate the mean feature importances across all folds\n",
    "mean_feature_importances = np.mean(feature_importances_list, axis=0)\n",
    "\n",
    "# Create a DataFrame with feature names and their mean importances\n",
    "feature_importance_df = pd.DataFrame({'Feature': X.columns, 'Importance': mean_feature_importances})\n",
    "\n",
    "# Sort the DataFrame by importance in descending order\n",
    "feature_importance_df = feature_importance_df.sort_values(by='Importance', ascending=False)\n"
   ]
  },
  {
   "cell_type": "code",
   "execution_count": 61,
   "metadata": {},
   "outputs": [
    {
     "data": {
      "text/html": [
       "<div>\n",
       "<style scoped>\n",
       "    .dataframe tbody tr th:only-of-type {\n",
       "        vertical-align: middle;\n",
       "    }\n",
       "\n",
       "    .dataframe tbody tr th {\n",
       "        vertical-align: top;\n",
       "    }\n",
       "\n",
       "    .dataframe thead th {\n",
       "        text-align: right;\n",
       "    }\n",
       "</style>\n",
       "<table border=\"1\" class=\"dataframe\">\n",
       "  <thead>\n",
       "    <tr style=\"text-align: right;\">\n",
       "      <th></th>\n",
       "      <th>Feature</th>\n",
       "      <th>Importance</th>\n",
       "    </tr>\n",
       "  </thead>\n",
       "  <tbody>\n",
       "    <tr>\n",
       "      <th>0</th>\n",
       "      <td>mean_sentiment</td>\n",
       "      <td>0.517362</td>\n",
       "    </tr>\n",
       "    <tr>\n",
       "      <th>2</th>\n",
       "      <td>IQR_sentiment</td>\n",
       "      <td>0.385042</td>\n",
       "    </tr>\n",
       "    <tr>\n",
       "      <th>1</th>\n",
       "      <td>median_sentiment</td>\n",
       "      <td>0.097597</td>\n",
       "    </tr>\n",
       "  </tbody>\n",
       "</table>\n",
       "</div>"
      ],
      "text/plain": [
       "            Feature  Importance\n",
       "0    mean_sentiment    0.517362\n",
       "2     IQR_sentiment    0.385042\n",
       "1  median_sentiment    0.097597"
      ]
     },
     "execution_count": 61,
     "metadata": {},
     "output_type": "execute_result"
    }
   ],
   "source": [
    "feature_importance_df.head()"
   ]
  },
  {
   "cell_type": "code",
   "execution_count": 62,
   "metadata": {},
   "outputs": [
    {
     "data": {
      "image/png": "[encoded data removed]",
      "text/plain": [
       "<Figure size 1000x600 with 1 Axes>"
      ]
     },
     "metadata": {},
     "output_type": "display_data"
    }
   ],
   "source": [
    "# Set the size of the plot\n",
    "plt.figure(figsize=(10, 6))\n",
    "\n",
    "# Create a bar plot for feature importances\n",
    "plt.barh(feature_importance_df['Feature'], feature_importance_df['Importance'])\n",
    "\n",
    "# Customize the plot\n",
    "plt.xlabel('Feature Importance')\n",
    "plt.ylabel('Feature')\n",
    "plt.title('Figure 3: Feature Importance Plot')\n",
    "plt.tight_layout()\n",
    "# Save the plot\n",
    "#plt.savefig(\"feature_importance.png\")\n",
    "\n",
    "# Show the plot\n",
    "plt.show()\n"
   ]
  },
  {
   "cell_type": "markdown",
   "metadata": {},
   "source": [
    "## 7. Interpretation of Results\n",
    "\n",
    "The model's accuracy is not good; it only correctly predicts whether the economic index is greater or worse than the national average 53.7% of the time. Those results are only marginally better than a guess.\n",
    "\n",
    "However, I expected that with the limited number of variables. Mean sentiment is the most important predictor, followed by interquartile range of the sentiment. Median sentiment does not add much predictive power to the model.\n",
    "\n",
    "My future plan is to improve the model's predictions by adding more predictor variables, namely related to the presence of key trigrams in the document.\n",
    "\n"
   ]
  },
  {
   "cell_type": "markdown",
   "metadata": {},
   "source": [
    "# Creating trigrams"
   ]
  },
  {
   "cell_type": "code",
   "execution_count": 63,
   "metadata": {},
   "outputs": [],
   "source": [
    "import pandas as pd\n",
    "from nltk.sentiment import SentimentIntensityAnalyzer\n",
    "from nltk.tokenize import sent_tokenize\n",
    "\n",
    "trigrams = pd.read_csv(\"trigrams.csv\")"
   ]
  },
  {
   "cell_type": "code",
   "execution_count": 64,
   "metadata": {},
   "outputs": [
    {
     "name": "stdout",
     "output_type": "stream",
     "text": [
      "                      Trigram  Sentiment  \\\n",
      "0      commercial real estate   0.265633   \n",
      "1      commercial real estate   0.163100   \n",
      "2      commercial real estate   0.293600   \n",
      "3      commercial real estate   0.340300   \n",
      "4      commercial real estate   0.018567   \n",
      "...                       ...        ...   \n",
      "14646     tight labor markets   0.000000   \n",
      "14647     tight labor markets  -0.089200   \n",
      "14648     tight labor markets   0.525067   \n",
      "14649     tight labor markets   0.350767   \n",
      "14650     tight labor markets   0.474833   \n",
      "\n",
      "                                                 Context  \\\n",
      "0      Some \\nprojects that would normally be finance...   \n",
      "1      Banking Developments\\n Loan demand is mixed at...   \n",
      "2      Commercial and industrial lending is strong \\n...   \n",
      "3      S&L rates \\non MMDA and Super NOW accounts are...   \n",
      "4      In recent weeks \\nsome signs have emerged that...   \n",
      "...                                                  ...   \n",
      "14646  A ground transportation company in Kentucky re...   \n",
      "14647  Hotels and restaurants, in particular, continu...   \n",
      "14648  January 18, 2023\\nSummary of Economic Activity...   \n",
      "14649  March 8, 2023\\nSummary of Economic Activity\\nE...   \n",
      "14650  The overall outlook rose slightly thanks to ex...   \n",
      "\n",
      "                                                Document       Date  District  \\\n",
      "0       April 15, 1980\\nOn balance, the economy of th... 1980-01-01        11   \n",
      "1       May 13, 1981\\nOverview\\n The District economy... 1981-05-01        10   \n",
      "2       November 10, 1981\\nSummary\\n Economic activit... 1981-10-01        10   \n",
      "3       February 2, 1983\\nOverall, the Eleventh Distr... 1983-01-01        11   \n",
      "4       July 1, 1983\\nIntroduction\\nThe economic reco... 1983-06-01         2   \n",
      "...                                                  ...        ...       ...   \n",
      "14646  September 7, 2022\\nSummary of Economic Activit... 2022-09-01         8   \n",
      "14647  November 30, 2022\\nSummary of Economic Activit... 2022-12-01        12   \n",
      "14648  January 18, 2023\\nSummary of Economic Activity... 2023-01-01         8   \n",
      "14649  March 8, 2023\\nSummary of Economic Activity\\nE... 2023-03-01         8   \n",
      "14650  March 8, 2023\\nSummary of Economic Activity\\nE... 2023-03-01         8   \n",
      "\n",
      "       Year City      Month  \n",
      "0      1980   da    January  \n",
      "1      1981   kc        May  \n",
      "2      1981   kc    October  \n",
      "3      1983   da    January  \n",
      "4      1983   ny       June  \n",
      "...     ...  ...        ...  \n",
      "14646  2022   sl  September  \n",
      "14647  2022   sf   December  \n",
      "14648  2023   sl    January  \n",
      "14649  2023   sl      March  \n",
      "14650  2023   sl      March  \n",
      "\n",
      "[14651 rows x 9 columns]\n"
     ]
    }
   ],
   "source": [
    "# Assuming trigrams is a DataFrame with a column named \"trigram\"\n",
    "# and bbSimple is a DataFrame with columns \"text\", \"Date\", \"District\", \"Year\", \"City\"\n",
    "\n",
    "# Load NLTK's sentiment analyzer\n",
    "sia = SentimentIntensityAnalyzer()\n",
    "\n",
    "# Function to calculate sentiment for a given text\n",
    "def calculate_sentiment(text):\n",
    "    sentences = sent_tokenize(text)\n",
    "    compound_score = 0\n",
    "\n",
    "    for sentence in sentences:\n",
    "        scores = sia.polarity_scores(sentence)\n",
    "        compound_score += scores['compound']\n",
    "\n",
    "    average_compound_score = compound_score / len(sentences)\n",
    "    return average_compound_score\n",
    "\n",
    "# List to store trigram and sentiment information\n",
    "trigram_sentiment_list = []\n",
    "\n",
    "\n",
    "# Loop through each trigram\n",
    "for _, trigram_row in trigrams.iterrows():\n",
    "    trigram = trigram_row['trigram']\n",
    "\n",
    "    # Loop through each document in the subset\n",
    "    for _, doc_row in bbSimple.iterrows():\n",
    "        document = doc_row['text']\n",
    "        date = doc_row['Date']\n",
    "        district = doc_row['District']\n",
    "        year = doc_row['Year']\n",
    "        city = doc_row['City']\n",
    "        month = doc_row['MonthName']\n",
    "\n",
    "        # Tokenize the document into sentences\n",
    "        sentences = sent_tokenize(document)\n",
    "\n",
    "        # Check if the trigram is present in any sentence\n",
    "        for sentence_index, sentence in enumerate(sentences):\n",
    "            if trigram in sentence:\n",
    "                # Extract the surrounding two sentences\n",
    "                trigram_index = sentence_index\n",
    "                start_index = max(0, trigram_index - 1)\n",
    "                end_index = min(len(sentences), trigram_index + 2)\n",
    "                context_sentences = sentences[start_index:end_index]\n",
    "\n",
    "                # Join the sentences to form a paragraph\n",
    "                context_paragraph = ' '.join(context_sentences)\n",
    "\n",
    "                # Calculate sentiment for the extracted context\n",
    "                sentiment_score = calculate_sentiment(context_paragraph)\n",
    "\n",
    "                # Append trigram, sentiment, and context to the list\n",
    "                trigram_sentiment_list.append({\n",
    "                    'Trigram': trigram,\n",
    "                    'Sentiment': sentiment_score,\n",
    "                    'Context': context_paragraph,\n",
    "                    'Document': document,\n",
    "                    'Date': date,\n",
    "                    'District': district,\n",
    "                    'Year': year,\n",
    "                    'City': city,\n",
    "                    'Month': month\n",
    "                })\n",
    "\n",
    "# Create a DataFrame from the list of dictionaries\n",
    "result_df3 = pd.DataFrame(trigram_sentiment_list)\n",
    "\n",
    "# Display the DataFrame\n",
    "print(result_df3)\n",
    "\n",
    "# Export the DataFrame to a CSV file in the default working directory\n",
    "#result_df3.to_csv('trigram_sentiment_results.csv', index=False)\n",
    "\n",
    "# Display a message indicating the export is successful\n",
    "#print('DataFrame successfully exported to trigram_sentiment_results.csv in the default working directory.')\n"
   ]
  },
  {
   "cell_type": "code",
   "execution_count": 65,
   "metadata": {},
   "outputs": [
    {
     "name": "stdout",
     "output_type": "stream",
     "text": [
      "                                  Sentiment                                \\\n",
      "                                      count      mean       std       min   \n",
      "Trigram                                                                     \n",
      "auto dealers reported                 137.0  0.159793  0.223637 -0.362967   \n",
      "business loan demand                  161.0  0.142782  0.242183 -0.630900   \n",
      "capital spending plans                327.0  0.143254  0.221628 -0.534200   \n",
      "commercial construction activity      110.0  0.125422  0.204761 -0.486400   \n",
      "commercial real estate               2719.0  0.157698  0.213211 -0.695000   \n",
      "construction real estate                1.0  0.190633       NaN  0.190633   \n",
      "consumer loan demand                  168.0  0.112396  0.213594 -0.575233   \n",
      "district manufacturing activity         2.0  0.200117  0.303514 -0.014500   \n",
      "existing home sales                   223.0  0.159497  0.220989 -0.422333   \n",
      "higher interest rates                 325.0  0.220749  0.221111 -0.683467   \n",
      "labor market conditions               161.0  0.067779  0.205758 -0.522533   \n",
      "mortgage interest rates               267.0  0.282432  0.204995 -0.533733   \n",
      "natural gas prices                    382.0  0.186851  0.208099 -0.515033   \n",
      "new car sales                         190.0  0.119146  0.213577 -0.489067   \n",
      "new home sales                        246.0  0.156295  0.230363 -0.372533   \n",
      "office vacancy rates                  213.0  0.104706  0.169418 -0.414867   \n",
      "overall loan demand                   225.0  0.131454  0.196824 -0.365467   \n",
      "professional business services         61.0  0.216681  0.162808 -0.199300   \n",
      "real estate activity                 1491.0  0.161310  0.202484 -0.515067   \n",
      "real estate agents                    422.0  0.169462  0.191138 -0.346600   \n",
      "real estate construction               54.0  0.191579  0.215635 -0.346600   \n",
      "real estate contacts                  517.0  0.191429  0.212051 -0.361467   \n",
      "real estate lending                   347.0  0.245651  0.183171 -0.200950   \n",
      "real estate loans                     649.0  0.142140  0.216489 -0.526133   \n",
      "real estate market                   1819.0  0.139468  0.211527 -0.596167   \n",
      "real estate markets                  1263.0  0.131048  0.215218 -0.596167   \n",
      "residential construction activity     243.0  0.190532  0.210004 -0.333700   \n",
      "residential real estate              1225.0  0.161302  0.204274 -0.562033   \n",
      "rising interest rates                 246.0  0.230896  0.205031 -0.318000   \n",
      "tight labor markets                   182.0  0.137196  0.220995 -0.625900   \n",
      "winter wheat crop                     275.0  0.148197  0.253645 -0.609267   \n",
      "\n",
      "                                                                           \\\n",
      "                                        25%       50%       75%       max   \n",
      "Trigram                                                                     \n",
      "auto dealers reported              0.017533  0.156967  0.284000  0.713567   \n",
      "business loan demand              -0.024067  0.138750  0.305867  0.685567   \n",
      "capital spending plans            -0.007667  0.133967  0.280050  0.717433   \n",
      "commercial construction activity  -0.024000  0.132000  0.275392  0.571633   \n",
      "commercial real estate             0.007733  0.164633  0.307300  0.747567   \n",
      "construction real estate           0.190633  0.190633  0.190633  0.190633   \n",
      "consumer loan demand              -0.028300  0.109050  0.236833  0.702600   \n",
      "district manufacturing activity    0.092808  0.200117  0.307425  0.414733   \n",
      "existing home sales                0.000000  0.166667  0.327017  0.678167   \n",
      "higher interest rates              0.059233  0.233833  0.376433  0.808600   \n",
      "labor market conditions           -0.071833  0.096133  0.202000  0.712600   \n",
      "mortgage interest rates            0.175500  0.292367  0.421850  0.780233   \n",
      "natural gas prices                 0.047583  0.189517  0.327533  0.700267   \n",
      "new car sales                     -0.006750  0.115567  0.248883  0.668767   \n",
      "new home sales                     0.000000  0.155850  0.314350  0.668333   \n",
      "office vacancy rates               0.000000  0.095033  0.217500  0.558233   \n",
      "overall loan demand               -0.004833  0.131800  0.271433  0.686967   \n",
      "professional business services     0.140500  0.216200  0.303367  0.598433   \n",
      "real estate activity               0.013317  0.164933  0.309183  0.708900   \n",
      "real estate agents                 0.044458  0.172300  0.303967  0.775950   \n",
      "real estate construction           0.079342  0.178383  0.324017  0.717133   \n",
      "real estate contacts               0.042667  0.203633  0.349400  0.679800   \n",
      "real estate lending                0.113333  0.241967  0.384333  0.710833   \n",
      "real estate loans                 -0.004833  0.131000  0.286900  0.707433   \n",
      "real estate market                 0.000000  0.152933  0.278700  0.797800   \n",
      "real estate markets               -0.007050  0.142100  0.274850  0.797800   \n",
      "residential construction activity  0.040317  0.197133  0.343983  0.615667   \n",
      "residential real estate            0.020733  0.164967  0.303667  0.797800   \n",
      "rising interest rates              0.114350  0.237133  0.359358  0.761100   \n",
      "tight labor markets               -0.012442  0.127267  0.287458  0.684367   \n",
      "winter wheat crop                 -0.032433  0.170567  0.347883  0.701567   \n",
      "\n",
      "                                  District                                    \\\n",
      "                                     count       mean       std   min    25%   \n",
      "Trigram                                                                        \n",
      "auto dealers reported                137.0   6.014599  2.464410   2.0   4.00   \n",
      "business loan demand                 161.0   6.546584  3.344679   1.0   3.00   \n",
      "capital spending plans               327.0   5.733945  3.912326   1.0   2.00   \n",
      "commercial construction activity     110.0   8.072727  3.377500   1.0   6.00   \n",
      "commercial real estate              2719.0   7.107025  3.617361   1.0   4.00   \n",
      "construction real estate               1.0   9.000000       NaN   9.0   9.00   \n",
      "consumer loan demand                 168.0   5.785714  2.714218   2.0   4.00   \n",
      "district manufacturing activity        2.0  10.000000  0.000000  10.0  10.00   \n",
      "existing home sales                  223.0   5.771300  2.528519   1.0   3.00   \n",
      "higher interest rates                325.0   6.600000  3.200116   1.0   4.00   \n",
      "labor market conditions              161.0   6.807453  3.415984   1.0   4.00   \n",
      "mortgage interest rates              267.0   6.142322  2.747926   1.0   4.00   \n",
      "natural gas prices                   382.0   9.455497  2.327933   1.0   9.00   \n",
      "new car sales                        190.0   7.073684  2.613526   2.0   4.00   \n",
      "new home sales                       246.0   6.422764  2.352621   2.0   6.00   \n",
      "office vacancy rates                 213.0   5.314554  3.585824   1.0   2.00   \n",
      "overall loan demand                  225.0   7.857778  3.239991   2.0   6.00   \n",
      "professional business services        61.0   8.081967  1.864538   4.0   9.00   \n",
      "real estate activity                1491.0   7.790744  2.731216   1.0   6.00   \n",
      "real estate agents                   422.0   4.895735  2.364329   2.0   3.00   \n",
      "real estate construction              54.0   6.129630  3.592688   1.0   3.00   \n",
      "real estate contacts                 517.0   5.029014  2.598660   1.0   3.00   \n",
      "real estate lending                  347.0   5.971182  3.414400   1.0   3.00   \n",
      "real estate loans                    649.0   8.280431  2.769700   1.0   7.00   \n",
      "real estate market                  1819.0   5.581089  4.059702   1.0   2.00   \n",
      "real estate markets                 1263.0   5.258907  4.109278   1.0   2.00   \n",
      "residential construction activity    243.0   7.736626  3.283533   1.0   6.00   \n",
      "residential real estate             1225.0   6.847347  3.846785   1.0   3.00   \n",
      "rising interest rates                246.0   6.146341  3.485674   1.0   4.00   \n",
      "tight labor markets                  182.0   6.516484  3.674197   1.0   3.25   \n",
      "winter wheat crop                    275.0   9.403636  1.133750   4.0   8.00   \n",
      "\n",
      "                                                     \n",
      "                                    50%   75%   max  \n",
      "Trigram                                              \n",
      "auto dealers reported               6.0   8.0  11.0  \n",
      "business loan demand                7.0   8.0  12.0  \n",
      "capital spending plans              6.0  10.0  12.0  \n",
      "commercial construction activity    9.0  11.0  12.0  \n",
      "commercial real estate              8.0  10.0  12.0  \n",
      "construction real estate            9.0   9.0   9.0  \n",
      "consumer loan demand                5.0   7.0  12.0  \n",
      "district manufacturing activity    10.0  10.0  10.0  \n",
      "existing home sales                 6.0   7.0  12.0  \n",
      "higher interest rates               6.0   9.0  12.0  \n",
      "labor market conditions             7.0   9.0  12.0  \n",
      "mortgage interest rates             6.0   7.0  12.0  \n",
      "natural gas prices                 10.0  11.0  12.0  \n",
      "new car sales                       8.0   9.0  12.0  \n",
      "new home sales                      6.0   7.0  12.0  \n",
      "office vacancy rates                5.0   8.0  12.0  \n",
      "overall loan demand                10.0  10.0  12.0  \n",
      "professional business services      9.0   9.0   9.0  \n",
      "real estate activity                8.0  10.0  12.0  \n",
      "real estate agents                  4.0   6.0  12.0  \n",
      "real estate construction            4.0  10.0  12.0  \n",
      "real estate contacts                6.0   6.0  11.0  \n",
      "real estate lending                 4.0  10.0  12.0  \n",
      "real estate loans                  10.0  10.0  12.0  \n",
      "real estate market                  5.0   9.0  12.0  \n",
      "real estate markets                 3.0   9.0  12.0  \n",
      "residential construction activity   7.0  11.0  12.0  \n",
      "residential real estate             8.0  10.0  12.0  \n",
      "rising interest rates               5.0  10.0  12.0  \n",
      "tight labor markets                 8.0   9.0  12.0  \n",
      "winter wheat crop                  10.0  10.0  11.0  \n"
     ]
    }
   ],
   "source": [
    "# Group by 'Trigram' and calculate summary statistics\n",
    "summary_stats = result_df3.groupby('Trigram').describe()\n",
    "\n",
    "# Display the summary statistics\n",
    "print(summary_stats)\n"
   ]
  },
  {
   "cell_type": "code",
   "execution_count": 66,
   "metadata": {},
   "outputs": [],
   "source": [
    "# Mean of each trigram's sentiment + all other trigrams' sentiment found in a document\n",
    "    # Some documents don't have any Trigrams; some have multiple\n",
    "mean_sentiments = result_df3.groupby(['Document'])['Sentiment'].mean().reset_index()\n"
   ]
  },
  {
   "cell_type": "code",
   "execution_count": 67,
   "metadata": {},
   "outputs": [],
   "source": [
    "mean_sentiments2 = result_df3.groupby(['Document', 'Context'])['Sentiment'].mean().reset_index()"
   ]
  },
  {
   "cell_type": "code",
   "execution_count": 68,
   "metadata": {},
   "outputs": [
    {
     "data": {
      "text/html": [
       "<div>\n",
       "<style scoped>\n",
       "    .dataframe tbody tr th:only-of-type {\n",
       "        vertical-align: middle;\n",
       "    }\n",
       "\n",
       "    .dataframe tbody tr th {\n",
       "        vertical-align: top;\n",
       "    }\n",
       "\n",
       "    .dataframe thead th {\n",
       "        text-align: right;\n",
       "    }\n",
       "</style>\n",
       "<table border=\"1\" class=\"dataframe\">\n",
       "  <thead>\n",
       "    <tr style=\"text-align: right;\">\n",
       "      <th></th>\n",
       "      <th>Sentiment</th>\n",
       "    </tr>\n",
       "  </thead>\n",
       "  <tbody>\n",
       "    <tr>\n",
       "      <th>count</th>\n",
       "      <td>10780.000000</td>\n",
       "    </tr>\n",
       "    <tr>\n",
       "      <th>mean</th>\n",
       "      <td>0.160859</td>\n",
       "    </tr>\n",
       "    <tr>\n",
       "      <th>std</th>\n",
       "      <td>0.213397</td>\n",
       "    </tr>\n",
       "    <tr>\n",
       "      <th>min</th>\n",
       "      <td>-0.695000</td>\n",
       "    </tr>\n",
       "    <tr>\n",
       "      <th>25%</th>\n",
       "      <td>0.010400</td>\n",
       "    </tr>\n",
       "    <tr>\n",
       "      <th>50%</th>\n",
       "      <td>0.164633</td>\n",
       "    </tr>\n",
       "    <tr>\n",
       "      <th>75%</th>\n",
       "      <td>0.309400</td>\n",
       "    </tr>\n",
       "    <tr>\n",
       "      <th>max</th>\n",
       "      <td>0.808600</td>\n",
       "    </tr>\n",
       "  </tbody>\n",
       "</table>\n",
       "</div>"
      ],
      "text/plain": [
       "          Sentiment\n",
       "count  10780.000000\n",
       "mean       0.160859\n",
       "std        0.213397\n",
       "min       -0.695000\n",
       "25%        0.010400\n",
       "50%        0.164633\n",
       "75%        0.309400\n",
       "max        0.808600"
      ]
     },
     "execution_count": 68,
     "metadata": {},
     "output_type": "execute_result"
    }
   ],
   "source": [
    "mean_sentiments2.describe()"
   ]
  },
  {
   "cell_type": "code",
   "execution_count": 69,
   "metadata": {},
   "outputs": [],
   "source": [
    "# Rename the 'Sentiment' column to 'Sentiment_Trigram'\n",
    "mean_sentiments = mean_sentiments.rename(columns={'Sentiment': 'sentiment_trigram'})\n"
   ]
  },
  {
   "cell_type": "code",
   "execution_count": 70,
   "metadata": {},
   "outputs": [],
   "source": [
    "# Merge mean_sentiments back to bbSimple based on the common columns 'text' and 'Document'\n",
    "bbTri = pd.merge(bbSimple, mean_sentiments, left_on='text', right_on='Document', how='left')\n",
    "\n",
    "# Drop the duplicate 'Document' column, which is now redundant\n",
    "bbTri = bbTri.drop('Document', axis=1)"
   ]
  },
  {
   "cell_type": "code",
   "execution_count": 82,
   "metadata": {},
   "outputs": [],
   "source": [
    "bbTri['sentiment_trigram'] = bbTri['sentiment_trigram'].fillna(0)"
   ]
  },
  {
   "cell_type": "code",
   "execution_count": 89,
   "metadata": {},
   "outputs": [
    {
     "data": {
      "text/html": [
       "<div>\n",
       "<style scoped>\n",
       "    .dataframe tbody tr th:only-of-type {\n",
       "        vertical-align: middle;\n",
       "    }\n",
       "\n",
       "    .dataframe tbody tr th {\n",
       "        vertical-align: top;\n",
       "    }\n",
       "\n",
       "    .dataframe thead th {\n",
       "        text-align: right;\n",
       "    }\n",
       "</style>\n",
       "<table border=\"1\" class=\"dataframe\">\n",
       "  <thead>\n",
       "    <tr style=\"text-align: right;\">\n",
       "      <th></th>\n",
       "      <th>USPHCI</th>\n",
       "      <th>District</th>\n",
       "      <th>econ_index</th>\n",
       "      <th>mean_sentiment</th>\n",
       "      <th>median_sentiment</th>\n",
       "      <th>10th_decile_sentiment</th>\n",
       "      <th>20th_decile_sentiment</th>\n",
       "      <th>30th_decile_sentiment</th>\n",
       "      <th>40th_decile_sentiment</th>\n",
       "      <th>50th_decile_sentiment</th>\n",
       "      <th>60th_decile_sentiment</th>\n",
       "      <th>70th_decile_sentiment</th>\n",
       "      <th>80th_decile_sentiment</th>\n",
       "      <th>90th_decile_sentiment</th>\n",
       "      <th>25th_quartile_sentiment</th>\n",
       "      <th>50th_quartile_sentiment</th>\n",
       "      <th>75th_quartile_sentiment</th>\n",
       "      <th>econ_index_dummy</th>\n",
       "      <th>IQR_sentiment</th>\n",
       "      <th>sentiment_trigram</th>\n",
       "    </tr>\n",
       "  </thead>\n",
       "  <tbody>\n",
       "    <tr>\n",
       "      <th>count</th>\n",
       "      <td>4242.000000</td>\n",
       "      <td>4242.000000</td>\n",
       "      <td>4242.000000</td>\n",
       "      <td>4242.000000</td>\n",
       "      <td>4242.000000</td>\n",
       "      <td>4242.000000</td>\n",
       "      <td>4242.000000</td>\n",
       "      <td>4242.000000</td>\n",
       "      <td>4242.000000</td>\n",
       "      <td>4242.000000</td>\n",
       "      <td>4242.000000</td>\n",
       "      <td>4242.000000</td>\n",
       "      <td>4242.000000</td>\n",
       "      <td>4242.000000</td>\n",
       "      <td>4242.000000</td>\n",
       "      <td>4242.000000</td>\n",
       "      <td>4242.000000</td>\n",
       "      <td>4242.000000</td>\n",
       "      <td>4242.000000</td>\n",
       "      <td>4242.000000</td>\n",
       "    </tr>\n",
       "    <tr>\n",
       "      <th>mean</th>\n",
       "      <td>85.881443</td>\n",
       "      <td>6.500943</td>\n",
       "      <td>1.989022</td>\n",
       "      <td>0.127853</td>\n",
       "      <td>0.089875</td>\n",
       "      <td>-0.299687</td>\n",
       "      <td>-0.118792</td>\n",
       "      <td>-0.028262</td>\n",
       "      <td>0.014729</td>\n",
       "      <td>0.085321</td>\n",
       "      <td>0.200253</td>\n",
       "      <td>0.322246</td>\n",
       "      <td>0.438618</td>\n",
       "      <td>0.572135</td>\n",
       "      <td>-0.063031</td>\n",
       "      <td>0.085321</td>\n",
       "      <td>0.380590</td>\n",
       "      <td>0.550212</td>\n",
       "      <td>0.443621</td>\n",
       "      <td>0.123576</td>\n",
       "    </tr>\n",
       "    <tr>\n",
       "      <th>std</th>\n",
       "      <td>25.915295</td>\n",
       "      <td>3.450888</td>\n",
       "      <td>5.834020</td>\n",
       "      <td>0.081771</td>\n",
       "      <td>0.120031</td>\n",
       "      <td>0.147512</td>\n",
       "      <td>0.130615</td>\n",
       "      <td>0.077813</td>\n",
       "      <td>0.070296</td>\n",
       "      <td>0.117192</td>\n",
       "      <td>0.138825</td>\n",
       "      <td>0.121257</td>\n",
       "      <td>0.101297</td>\n",
       "      <td>0.093078</td>\n",
       "      <td>0.103966</td>\n",
       "      <td>0.117192</td>\n",
       "      <td>0.110018</td>\n",
       "      <td>0.497531</td>\n",
       "      <td>0.107984</td>\n",
       "      <td>0.166468</td>\n",
       "    </tr>\n",
       "    <tr>\n",
       "      <th>min</th>\n",
       "      <td>46.370000</td>\n",
       "      <td>1.000000</td>\n",
       "      <td>-20.980000</td>\n",
       "      <td>-0.197844</td>\n",
       "      <td>-0.270000</td>\n",
       "      <td>-0.791000</td>\n",
       "      <td>-0.624900</td>\n",
       "      <td>-0.493900</td>\n",
       "      <td>-0.340000</td>\n",
       "      <td>-0.271600</td>\n",
       "      <td>-0.085920</td>\n",
       "      <td>0.000000</td>\n",
       "      <td>0.000000</td>\n",
       "      <td>0.253110</td>\n",
       "      <td>-0.578775</td>\n",
       "      <td>-0.271600</td>\n",
       "      <td>0.000000</td>\n",
       "      <td>0.000000</td>\n",
       "      <td>0.000000</td>\n",
       "      <td>-0.695000</td>\n",
       "    </tr>\n",
       "    <tr>\n",
       "      <th>25%</th>\n",
       "      <td>64.050000</td>\n",
       "      <td>4.000000</td>\n",
       "      <td>-2.140000</td>\n",
       "      <td>0.075606</td>\n",
       "      <td>0.000000</td>\n",
       "      <td>-0.402220</td>\n",
       "      <td>-0.215865</td>\n",
       "      <td>0.000000</td>\n",
       "      <td>0.000000</td>\n",
       "      <td>0.000000</td>\n",
       "      <td>0.050010</td>\n",
       "      <td>0.273200</td>\n",
       "      <td>0.381800</td>\n",
       "      <td>0.510600</td>\n",
       "      <td>-0.115400</td>\n",
       "      <td>0.000000</td>\n",
       "      <td>0.318200</td>\n",
       "      <td>0.000000</td>\n",
       "      <td>0.381800</td>\n",
       "      <td>0.000000</td>\n",
       "    </tr>\n",
       "    <tr>\n",
       "      <th>50%</th>\n",
       "      <td>88.700000</td>\n",
       "      <td>6.500000</td>\n",
       "      <td>0.600000</td>\n",
       "      <td>0.132182</td>\n",
       "      <td>0.000000</td>\n",
       "      <td>-0.313760</td>\n",
       "      <td>-0.087120</td>\n",
       "      <td>0.000000</td>\n",
       "      <td>0.000000</td>\n",
       "      <td>0.000000</td>\n",
       "      <td>0.244840</td>\n",
       "      <td>0.339700</td>\n",
       "      <td>0.444120</td>\n",
       "      <td>0.575585</td>\n",
       "      <td>0.000000</td>\n",
       "      <td>0.000000</td>\n",
       "      <td>0.383025</td>\n",
       "      <td>1.000000</td>\n",
       "      <td>0.440400</td>\n",
       "      <td>0.112766</td>\n",
       "    </tr>\n",
       "    <tr>\n",
       "      <th>75%</th>\n",
       "      <td>102.850000</td>\n",
       "      <td>9.000000</td>\n",
       "      <td>6.267500</td>\n",
       "      <td>0.182429</td>\n",
       "      <td>0.177900</td>\n",
       "      <td>-0.210910</td>\n",
       "      <td>0.000000</td>\n",
       "      <td>0.000000</td>\n",
       "      <td>0.000000</td>\n",
       "      <td>0.177700</td>\n",
       "      <td>0.309320</td>\n",
       "      <td>0.397880</td>\n",
       "      <td>0.507260</td>\n",
       "      <td>0.638240</td>\n",
       "      <td>0.000000</td>\n",
       "      <td>0.177700</td>\n",
       "      <td>0.453188</td>\n",
       "      <td>1.000000</td>\n",
       "      <td>0.509800</td>\n",
       "      <td>0.236796</td>\n",
       "    </tr>\n",
       "    <tr>\n",
       "      <th>max</th>\n",
       "      <td>138.240000</td>\n",
       "      <td>12.000000</td>\n",
       "      <td>23.890000</td>\n",
       "      <td>0.401186</td>\n",
       "      <td>0.526700</td>\n",
       "      <td>0.000000</td>\n",
       "      <td>0.112920</td>\n",
       "      <td>0.318200</td>\n",
       "      <td>0.401900</td>\n",
       "      <td>0.483550</td>\n",
       "      <td>0.634540</td>\n",
       "      <td>0.727180</td>\n",
       "      <td>0.836880</td>\n",
       "      <td>0.873040</td>\n",
       "      <td>0.318200</td>\n",
       "      <td>0.483550</td>\n",
       "      <td>0.788675</td>\n",
       "      <td>1.000000</td>\n",
       "      <td>0.994250</td>\n",
       "      <td>0.704417</td>\n",
       "    </tr>\n",
       "  </tbody>\n",
       "</table>\n",
       "</div>"
      ],
      "text/plain": [
       "            USPHCI     District   econ_index  mean_sentiment  \\\n",
       "count  4242.000000  4242.000000  4242.000000     4242.000000   \n",
       "mean     85.881443     6.500943     1.989022        0.127853   \n",
       "std      25.915295     3.450888     5.834020        0.081771   \n",
       "min      46.370000     1.000000   -20.980000       -0.197844   \n",
       "25%      64.050000     4.000000    -2.140000        0.075606   \n",
       "50%      88.700000     6.500000     0.600000        0.132182   \n",
       "75%     102.850000     9.000000     6.267500        0.182429   \n",
       "max     138.240000    12.000000    23.890000        0.401186   \n",
       "\n",
       "       median_sentiment  10th_decile_sentiment  20th_decile_sentiment  \\\n",
       "count       4242.000000            4242.000000            4242.000000   \n",
       "mean           0.089875              -0.299687              -0.118792   \n",
       "std            0.120031               0.147512               0.130615   \n",
       "min           -0.270000              -0.791000              -0.624900   \n",
       "25%            0.000000              -0.402220              -0.215865   \n",
       "50%            0.000000              -0.313760              -0.087120   \n",
       "75%            0.177900              -0.210910               0.000000   \n",
       "max            0.526700               0.000000               0.112920   \n",
       "\n",
       "       30th_decile_sentiment  40th_decile_sentiment  50th_decile_sentiment  \\\n",
       "count            4242.000000            4242.000000            4242.000000   \n",
       "mean               -0.028262               0.014729               0.085321   \n",
       "std                 0.077813               0.070296               0.117192   \n",
       "min                -0.493900              -0.340000              -0.271600   \n",
       "25%                 0.000000               0.000000               0.000000   \n",
       "50%                 0.000000               0.000000               0.000000   \n",
       "75%                 0.000000               0.000000               0.177700   \n",
       "max                 0.318200               0.401900               0.483550   \n",
       "\n",
       "       60th_decile_sentiment  70th_decile_sentiment  80th_decile_sentiment  \\\n",
       "count            4242.000000            4242.000000            4242.000000   \n",
       "mean                0.200253               0.322246               0.438618   \n",
       "std                 0.138825               0.121257               0.101297   \n",
       "min                -0.085920               0.000000               0.000000   \n",
       "25%                 0.050010               0.273200               0.381800   \n",
       "50%                 0.244840               0.339700               0.444120   \n",
       "75%                 0.309320               0.397880               0.507260   \n",
       "max                 0.634540               0.727180               0.836880   \n",
       "\n",
       "       90th_decile_sentiment  25th_quartile_sentiment  \\\n",
       "count            4242.000000              4242.000000   \n",
       "mean                0.572135                -0.063031   \n",
       "std                 0.093078                 0.103966   \n",
       "min                 0.253110                -0.578775   \n",
       "25%                 0.510600                -0.115400   \n",
       "50%                 0.575585                 0.000000   \n",
       "75%                 0.638240                 0.000000   \n",
       "max                 0.873040                 0.318200   \n",
       "\n",
       "       50th_quartile_sentiment  75th_quartile_sentiment  econ_index_dummy  \\\n",
       "count              4242.000000              4242.000000       4242.000000   \n",
       "mean                  0.085321                 0.380590          0.550212   \n",
       "std                   0.117192                 0.110018          0.497531   \n",
       "min                  -0.271600                 0.000000          0.000000   \n",
       "25%                   0.000000                 0.318200          0.000000   \n",
       "50%                   0.000000                 0.383025          1.000000   \n",
       "75%                   0.177700                 0.453188          1.000000   \n",
       "max                   0.483550                 0.788675          1.000000   \n",
       "\n",
       "       IQR_sentiment  sentiment_trigram  \n",
       "count    4242.000000        4242.000000  \n",
       "mean        0.443621           0.123576  \n",
       "std         0.107984           0.166468  \n",
       "min         0.000000          -0.695000  \n",
       "25%         0.381800           0.000000  \n",
       "50%         0.440400           0.112766  \n",
       "75%         0.509800           0.236796  \n",
       "max         0.994250           0.704417  "
      ]
     },
     "execution_count": 89,
     "metadata": {},
     "output_type": "execute_result"
    }
   ],
   "source": [
    "bbTri.describe()"
   ]
  },
  {
   "cell_type": "code",
   "execution_count": 90,
   "metadata": {},
   "outputs": [],
   "source": [
    "from sklearn.model_selection import train_test_split\n",
    "\n",
    "# Split the data into training and testing sets with an 80/20 ratio\n",
    "train_tri, test_tri = train_test_split(bbTri, test_size=0.2, random_state=7)\n",
    "\n",
    "# 'test_size' specifies the proportion of the dataset to include in the test split (0.2 means 20%)\n",
    "# 'random_state' is used to ensure reproducibility, you can set it to any integer value for consistency\n",
    "\n",
    "# You can now use 'train_set' and 'test_set' for your machine learning tasks\n"
   ]
  },
  {
   "cell_type": "code",
   "execution_count": 91,
   "metadata": {},
   "outputs": [],
   "source": [
    "# Assuming 'target_column' is the name of the column you want to predict\n",
    "X_train_tri = train_tri.drop(columns=['econ_index_dummy'])\n",
    "y_train_tri = train_tri['econ_index_dummy']\n",
    "\n",
    "X_test_tri = test_tri.drop(columns=['econ_index_dummy'])\n",
    "y_test_tri = test_tri['econ_index_dummy']\n"
   ]
  },
  {
   "cell_type": "code",
   "execution_count": 92,
   "metadata": {},
   "outputs": [],
   "source": [
    "X_train_tri = X_train_tri[['mean_sentiment', 'IQR_sentiment', 'median_sentiment','sentiment_trigram']]\n",
    "X_test_tri = X_test_tri[['mean_sentiment', 'IQR_sentiment', 'median_sentiment','sentiment_trigram']]\n"
   ]
  },
  {
   "cell_type": "code",
   "execution_count": 93,
   "metadata": {},
   "outputs": [],
   "source": [
    "from sklearn.ensemble import RandomForestClassifier  # or RandomForestRegressor for regression\n",
    "\n",
    "# Create a Random Forest model\n",
    "model_tri = RandomForestClassifier(n_estimators=100, random_state=7)  # You can adjust hyperparameters as needed"
   ]
  },
  {
   "cell_type": "code",
   "execution_count": 94,
   "metadata": {},
   "outputs": [
    {
     "data": {
      "text/plain": [
       "RandomForestClassifier(random_state=7)"
      ]
     },
     "execution_count": 94,
     "metadata": {},
     "output_type": "execute_result"
    }
   ],
   "source": [
    "# Train the model on the training data\n",
    "model_tri.fit(X_train_tri, y_train_tri)\n"
   ]
  },
  {
   "cell_type": "code",
   "execution_count": 96,
   "metadata": {},
   "outputs": [],
   "source": [
    "# Make predictions on the test data\n",
    "predictions = model_tri.predict(X_test_tri)\n"
   ]
  },
  {
   "cell_type": "code",
   "execution_count": 97,
   "metadata": {},
   "outputs": [],
   "source": [
    "from sklearn.metrics import accuracy_score, f1_score, precision_score, recall_score, confusion_matrix, classification_report\n",
    "\n",
    "# For 80/20 test/train split\n",
    "accuracy = accuracy_score(y_test_tri, predictions)\n",
    "f1 = f1_score(y_test_tri, predictions)\n",
    "recall = recall_score(y_test_tri, predictions)\n",
    "precision = precision_score(y_test_tri, predictions)\n"
   ]
  },
  {
   "cell_type": "code",
   "execution_count": 98,
   "metadata": {},
   "outputs": [
    {
     "name": "stdout",
     "output_type": "stream",
     "text": [
      "Accuracy: 0.5453474676089517\n",
      "F1: 0.6124497991967871\n",
      "Recall: 0.6601731601731602\n",
      "Precision: 0.5711610486891385\n"
     ]
    }
   ],
   "source": [
    "print(\"Accuracy:\", accuracy)\n",
    "print(\"F1:\", f1)\n",
    "print(\"Recall:\", recall)\n",
    "print(\"Precision:\", precision)"
   ]
  },
  {
   "cell_type": "code",
   "execution_count": 99,
   "metadata": {},
   "outputs": [
    {
     "data": {
      "text/html": [
       "<div>\n",
       "<style scoped>\n",
       "    .dataframe tbody tr th:only-of-type {\n",
       "        vertical-align: middle;\n",
       "    }\n",
       "\n",
       "    .dataframe tbody tr th {\n",
       "        vertical-align: top;\n",
       "    }\n",
       "\n",
       "    .dataframe thead th {\n",
       "        text-align: right;\n",
       "    }\n",
       "</style>\n",
       "<table border=\"1\" class=\"dataframe\">\n",
       "  <thead>\n",
       "    <tr style=\"text-align: right;\">\n",
       "      <th></th>\n",
       "      <th>Date</th>\n",
       "      <th>USPHCI</th>\n",
       "      <th>District</th>\n",
       "      <th>econ_index</th>\n",
       "      <th>text</th>\n",
       "      <th>Year</th>\n",
       "      <th>City</th>\n",
       "      <th>MonthName</th>\n",
       "      <th>MonthNumerical</th>\n",
       "      <th>sentences</th>\n",
       "      <th>...</th>\n",
       "      <th>60th_decile_sentiment</th>\n",
       "      <th>70th_decile_sentiment</th>\n",
       "      <th>80th_decile_sentiment</th>\n",
       "      <th>90th_decile_sentiment</th>\n",
       "      <th>25th_quartile_sentiment</th>\n",
       "      <th>50th_quartile_sentiment</th>\n",
       "      <th>75th_quartile_sentiment</th>\n",
       "      <th>econ_index_dummy</th>\n",
       "      <th>IQR_sentiment</th>\n",
       "      <th>sentiment_trigram</th>\n",
       "    </tr>\n",
       "  </thead>\n",
       "  <tbody>\n",
       "    <tr>\n",
       "      <th>0</th>\n",
       "      <td>1979-05-01</td>\n",
       "      <td>46.37</td>\n",
       "      <td>1</td>\n",
       "      <td>0.22</td>\n",
       "      <td>May 16, 1979\\nBusiness activity in the First ...</td>\n",
       "      <td>1979</td>\n",
       "      <td>bo</td>\n",
       "      <td>May</td>\n",
       "      <td>05</td>\n",
       "      <td>[ May 16, 1979\\nBusiness activity in the First...</td>\n",
       "      <td>...</td>\n",
       "      <td>0.21472</td>\n",
       "      <td>0.38582</td>\n",
       "      <td>0.53680</td>\n",
       "      <td>0.64602</td>\n",
       "      <td>-0.0258</td>\n",
       "      <td>0.0000</td>\n",
       "      <td>0.40190</td>\n",
       "      <td>1</td>\n",
       "      <td>0.42770</td>\n",
       "      <td>0.00000</td>\n",
       "    </tr>\n",
       "    <tr>\n",
       "      <th>1</th>\n",
       "      <td>1979-05-01</td>\n",
       "      <td>46.37</td>\n",
       "      <td>2</td>\n",
       "      <td>9.82</td>\n",
       "      <td>May 16, 1979 \\nSecond District business activ...</td>\n",
       "      <td>1979</td>\n",
       "      <td>ny</td>\n",
       "      <td>May</td>\n",
       "      <td>05</td>\n",
       "      <td>[ May 16, 1979 \\nSecond District business acti...</td>\n",
       "      <td>...</td>\n",
       "      <td>0.27320</td>\n",
       "      <td>0.34000</td>\n",
       "      <td>0.42150</td>\n",
       "      <td>0.55420</td>\n",
       "      <td>0.0000</td>\n",
       "      <td>0.1761</td>\n",
       "      <td>0.37150</td>\n",
       "      <td>1</td>\n",
       "      <td>0.37150</td>\n",
       "      <td>0.07155</td>\n",
       "    </tr>\n",
       "    <tr>\n",
       "      <th>2</th>\n",
       "      <td>1979-05-01</td>\n",
       "      <td>46.37</td>\n",
       "      <td>3</td>\n",
       "      <td>11.79</td>\n",
       "      <td>May 16, 1979 \\nThird District economic activi...</td>\n",
       "      <td>1979</td>\n",
       "      <td>ph</td>\n",
       "      <td>May</td>\n",
       "      <td>05</td>\n",
       "      <td>[ May 16, 1979 \\nThird District economic activ...</td>\n",
       "      <td>...</td>\n",
       "      <td>0.11406</td>\n",
       "      <td>0.31820</td>\n",
       "      <td>0.39990</td>\n",
       "      <td>0.57485</td>\n",
       "      <td>0.0000</td>\n",
       "      <td>0.0000</td>\n",
       "      <td>0.37135</td>\n",
       "      <td>1</td>\n",
       "      <td>0.37135</td>\n",
       "      <td>0.16600</td>\n",
       "    </tr>\n",
       "    <tr>\n",
       "      <th>3</th>\n",
       "      <td>1979-05-01</td>\n",
       "      <td>46.37</td>\n",
       "      <td>4</td>\n",
       "      <td>16.14</td>\n",
       "      <td>May 16, 1979 \\nManufacturing activity in the ...</td>\n",
       "      <td>1979</td>\n",
       "      <td>cl</td>\n",
       "      <td>May</td>\n",
       "      <td>05</td>\n",
       "      <td>[ May 16, 1979 \\nManufacturing activity in the...</td>\n",
       "      <td>...</td>\n",
       "      <td>0.00000</td>\n",
       "      <td>0.10100</td>\n",
       "      <td>0.30932</td>\n",
       "      <td>0.39371</td>\n",
       "      <td>-0.2291</td>\n",
       "      <td>0.0000</td>\n",
       "      <td>0.20450</td>\n",
       "      <td>1</td>\n",
       "      <td>0.43360</td>\n",
       "      <td>0.00000</td>\n",
       "    </tr>\n",
       "    <tr>\n",
       "      <th>4</th>\n",
       "      <td>1979-05-01</td>\n",
       "      <td>46.37</td>\n",
       "      <td>5</td>\n",
       "      <td>-0.24</td>\n",
       "      <td>May 16, 1979 \\nMost indications are that Fift...</td>\n",
       "      <td>1979</td>\n",
       "      <td>ri</td>\n",
       "      <td>May</td>\n",
       "      <td>05</td>\n",
       "      <td>[ May 16, 1979 \\nMost indications are that Fif...</td>\n",
       "      <td>...</td>\n",
       "      <td>0.27320</td>\n",
       "      <td>0.45880</td>\n",
       "      <td>0.54230</td>\n",
       "      <td>0.70960</td>\n",
       "      <td>-0.0387</td>\n",
       "      <td>0.0857</td>\n",
       "      <td>0.50225</td>\n",
       "      <td>0</td>\n",
       "      <td>0.54095</td>\n",
       "      <td>0.00000</td>\n",
       "    </tr>\n",
       "  </tbody>\n",
       "</table>\n",
       "<p>5 rows × 29 columns</p>\n",
       "</div>"
      ],
      "text/plain": [
       "        Date  USPHCI  District  econ_index  \\\n",
       "0 1979-05-01   46.37         1        0.22   \n",
       "1 1979-05-01   46.37         2        9.82   \n",
       "2 1979-05-01   46.37         3       11.79   \n",
       "3 1979-05-01   46.37         4       16.14   \n",
       "4 1979-05-01   46.37         5       -0.24   \n",
       "\n",
       "                                                text  Year City MonthName  \\\n",
       "0   May 16, 1979\\nBusiness activity in the First ...  1979   bo       May   \n",
       "1   May 16, 1979 \\nSecond District business activ...  1979   ny       May   \n",
       "2   May 16, 1979 \\nThird District economic activi...  1979   ph       May   \n",
       "3   May 16, 1979 \\nManufacturing activity in the ...  1979   cl       May   \n",
       "4   May 16, 1979 \\nMost indications are that Fift...  1979   ri       May   \n",
       "\n",
       "  MonthNumerical                                          sentences  ...  \\\n",
       "0             05  [ May 16, 1979\\nBusiness activity in the First...  ...   \n",
       "1             05  [ May 16, 1979 \\nSecond District business acti...  ...   \n",
       "2             05  [ May 16, 1979 \\nThird District economic activ...  ...   \n",
       "3             05  [ May 16, 1979 \\nManufacturing activity in the...  ...   \n",
       "4             05  [ May 16, 1979 \\nMost indications are that Fif...  ...   \n",
       "\n",
       "  60th_decile_sentiment 70th_decile_sentiment  80th_decile_sentiment  \\\n",
       "0               0.21472               0.38582                0.53680   \n",
       "1               0.27320               0.34000                0.42150   \n",
       "2               0.11406               0.31820                0.39990   \n",
       "3               0.00000               0.10100                0.30932   \n",
       "4               0.27320               0.45880                0.54230   \n",
       "\n",
       "   90th_decile_sentiment  25th_quartile_sentiment  50th_quartile_sentiment  \\\n",
       "0                0.64602                  -0.0258                   0.0000   \n",
       "1                0.55420                   0.0000                   0.1761   \n",
       "2                0.57485                   0.0000                   0.0000   \n",
       "3                0.39371                  -0.2291                   0.0000   \n",
       "4                0.70960                  -0.0387                   0.0857   \n",
       "\n",
       "   75th_quartile_sentiment  econ_index_dummy  IQR_sentiment  sentiment_trigram  \n",
       "0                  0.40190                 1        0.42770            0.00000  \n",
       "1                  0.37150                 1        0.37150            0.07155  \n",
       "2                  0.37135                 1        0.37135            0.16600  \n",
       "3                  0.20450                 1        0.43360            0.00000  \n",
       "4                  0.50225                 0        0.54095            0.00000  \n",
       "\n",
       "[5 rows x 29 columns]"
      ]
     },
     "execution_count": 99,
     "metadata": {},
     "output_type": "execute_result"
    }
   ],
   "source": [
    "bbTri.head()"
   ]
  }
 ],
 "metadata": {
  "kernelspec": {
   "display_name": "base",
   "language": "python",
   "name": "python3"
  },
  "language_info": {
   "codemirror_mode": {
    "name": "ipython",
    "version": 3
   },
   "file_extension": ".py",
   "mimetype": "text/x-python",
   "name": "python",
   "nbconvert_exporter": "python",
   "pygments_lexer": "ipython3",
   "version": "3.9.13"
  }
 },
 "nbformat": 4,
 "nbformat_minor": 2
}
