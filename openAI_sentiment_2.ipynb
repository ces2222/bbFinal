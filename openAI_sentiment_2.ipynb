{
 "cells": [
  {
   "cell_type": "code",
   "execution_count": 1,
   "metadata": {},
   "outputs": [],
   "source": [
    "import openai as OpenAI\n",
    "import json\n",
    "import os\n",
    "import re\n",
    "from nltk import sent_tokenize\n",
    "\n",
    "\n",
    "# Set your OpenAI API key\n",
    "def initialize_openai():\n",
    "    OpenAI.api_key = os.getenv(\"OPENAI_API_KEY\")\n",
    "    return OpenAI()\n"
   ]
  },
  {
   "cell_type": "code",
   "execution_count": null,
   "metadata": {},
   "outputs": [],
   "source": [
    "def calculate_sentiment(sentence):\n",
    "    response = OpenAI.Completion.create(\n",
    "        engine=\"text-davinci-003\",\n",
    "        prompt=f\"Sentiment analysis: {sentence}\",\n",
    "        max_tokens=50\n",
    "    )\n",
    "    \n",
    "    sentiment = response['choices'][0]['text'].strip()\n",
    "    return sentiment\n",
    "\n",
    "def process_beige_book(beige_book):\n",
    "    full_text = beige_book.get('full_text', '')\n",
    "    sentences = beige_book.get('sentences', [])\n",
    "    sentiments = []\n",
    "\n",
    "    for sentence in sentences:\n",
    "        # Calculate sentiment for each sentence\n",
    "        sentiment = calculate_sentiment(sentence)\n",
    "        sentiments.append(sentiment)\n",
    "\n",
    "    # Add the calculated sentiments to the original data\n",
    "    beige_book['sentiments'] = sentiments\n",
    "\n",
    "    return beige_book\n",
    "\n",
    "def process_all_beige_books(jsondata):\n",
    "    for key, beige_book in jsondata.items():\n",
    "        # Process each Beige Book document individually\n",
    "        processed_beige_book = process_beige_book(beige_book)\n",
    "\n",
    "        # Update the original data with the processed data\n",
    "        jsondata[key] = processed_beige_book\n",
    "\n",
    "    return jsondata\n",
    "\n",
    "def main():\n",
    "    # Load your existing JSON data from the file\n",
    "    with open('output.json', 'r') as file:\n",
    "        jsondata = json.load(file)\n",
    "\n",
    "    # Process all Beige Books one by one\n",
    "    updated_jsondata = process_all_beige_books(jsondata)\n",
    "\n",
    "    # Save the updated JSON data back to the file\n",
    "    with open('output.json', 'w') as file:\n",
    "        json.dump(updated_jsondata, file, indent=2)\n",
    "\n",
    "if __name__ == \"__main__\":\n",
    "    main()\n"
   ]
  }
 ],
 "metadata": {
  "kernelspec": {
   "display_name": "base",
   "language": "python",
   "name": "python3"
  },
  "language_info": {
   "codemirror_mode": {
    "name": "ipython",
    "version": 3
   },
   "file_extension": ".py",
   "mimetype": "text/x-python",
   "name": "python",
   "nbconvert_exporter": "python",
   "pygments_lexer": "ipython3",
   "version": "3.11.5"
  }
 },
 "nbformat": 4,
 "nbformat_minor": 2
}
