{
 "cells": [
  {
   "cell_type": "code",
   "execution_count": 1,
   "metadata": {},
   "outputs": [],
   "source": [
    "import spacy\n",
    "import pandas as pd\n",
    "import os\n",
    "from utils import *"
   ]
  },
  {
   "cell_type": "code",
   "execution_count": 24,
   "metadata": {},
   "outputs": [],
   "source": [
    "sentence = \"Tourism activity continued to improve, although some Districts reported slight slowing in consumer travel, and a few Districts noted an uptick in business travel.\""
   ]
  },
  {
   "cell_type": "code",
   "execution_count": 25,
   "metadata": {},
   "outputs": [
    {
     "data": {
      "text/plain": [
       "({'Tourism': 'NOUN',\n",
       "  'activity': 'NOUN',\n",
       "  'continued': 'VERB',\n",
       "  'to': 'PART',\n",
       "  'improve': 'VERB',\n",
       "  'although': 'SCONJ',\n",
       "  'some': 'DET',\n",
       "  'Districts': 'PROPN',\n",
       "  'reported': 'VERB',\n",
       "  'slight': 'ADJ',\n",
       "  'slowing': 'NOUN',\n",
       "  'in': 'ADP',\n",
       "  'consumer': 'NOUN',\n",
       "  'travel': 'NOUN',\n",
       "  'and': 'CCONJ',\n",
       "  'a': 'DET',\n",
       "  'few': 'ADJ',\n",
       "  'noted': 'VERB',\n",
       "  'an': 'DET',\n",
       "  'uptick': 'NOUN',\n",
       "  'business': 'NOUN'},\n",
       " {})"
      ]
     },
     "execution_count": 25,
     "metadata": {},
     "output_type": "execute_result"
    }
   ],
   "source": [
    "basic_sentence_function(sentence)"
   ]
  },
  {
   "cell_type": "code",
   "execution_count": 26,
   "metadata": {},
   "outputs": [],
   "source": [
    "my_dictionary_name, my_ner_dictionary = basic_sentence_function(sentence)"
   ]
  },
  {
   "cell_type": "code",
   "execution_count": 27,
   "metadata": {},
   "outputs": [
    {
     "data": {
      "text/plain": [
       "{}"
      ]
     },
     "execution_count": 27,
     "metadata": {},
     "output_type": "execute_result"
    }
   ],
   "source": [
    "my_ner_dictionary"
   ]
  },
  {
   "cell_type": "code",
   "execution_count": 28,
   "metadata": {},
   "outputs": [
    {
     "data": {
      "text/plain": [
       "{'Tourism': 'NOUN',\n",
       " 'activity': 'NOUN',\n",
       " 'continued': 'VERB',\n",
       " 'to': 'PART',\n",
       " 'improve': 'VERB',\n",
       " 'although': 'SCONJ',\n",
       " 'some': 'DET',\n",
       " 'Districts': 'PROPN',\n",
       " 'reported': 'VERB',\n",
       " 'slight': 'ADJ',\n",
       " 'slowing': 'NOUN',\n",
       " 'in': 'ADP',\n",
       " 'consumer': 'NOUN',\n",
       " 'travel': 'NOUN',\n",
       " 'and': 'CCONJ',\n",
       " 'a': 'DET',\n",
       " 'few': 'ADJ',\n",
       " 'noted': 'VERB',\n",
       " 'an': 'DET',\n",
       " 'uptick': 'NOUN',\n",
       " 'business': 'NOUN'}"
      ]
     },
     "execution_count": 28,
     "metadata": {},
     "output_type": "execute_result"
    }
   ],
   "source": [
    "my_dictionary_name"
   ]
  }
 ],
 "metadata": {
  "kernelspec": {
   "display_name": "base",
   "language": "python",
   "name": "python3"
  },
  "language_info": {
   "codemirror_mode": {
    "name": "ipython",
    "version": 3
   },
   "file_extension": ".py",
   "mimetype": "text/x-python",
   "name": "python",
   "nbconvert_exporter": "python",
   "pygments_lexer": "ipython3",
   "version": "3.9.13"
  }
 },
 "nbformat": 4,
 "nbformat_minor": 2
}
