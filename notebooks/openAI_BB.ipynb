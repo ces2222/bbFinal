{
 "cells": [
  {
   "cell_type": "code",
   "execution_count": 1,
   "metadata": {},
   "outputs": [],
   "source": [
    "# Importing text data of Beige Books in a JSON dictionary using json_setup.py\n",
    "from json_setup import main\n",
    "jsondata = main()\n"
   ]
  },
  {
   "cell_type": "code",
   "execution_count": 2,
   "metadata": {},
   "outputs": [],
   "source": [
    "# Importing code that calls upon ChatGPT that's in the call_gpt.py file and call_gpt_2.py\n",
    "    # call_gpt.py is an optimized version of call_gpt_2 that is designed to reduce processing times and number of tokens\n",
    "    # However, they seem to run about the same\n",
    "from call_gpt import call_gpt\n",
    "from call_gpt_2 import call_gpt_2"
   ]
  },
  {
   "cell_type": "markdown",
   "metadata": {},
   "source": [
    "# Selecting key topics for GPT to identify in Beige Books\n",
    "\n",
    "Frunza (2020) says, \"In essence, the most important economic aspects in the (FOMC) statement are federal funds rate, household spending, inflation, unemployment, economic activity, fixed investment, and labor market conditions.\"\n",
    "\n",
    "We will have ChatGPT find sentences related to those topics. We will make changes:\n",
    "1. change federal funds rate to credit conditions\n",
    "2. consolidate labor market and unemployment\n",
    "3. economic activity is just too broad; will remove it"
   ]
  },
  {
   "cell_type": "code",
   "execution_count": 21,
   "metadata": {},
   "outputs": [
    {
     "name": "stdout",
     "output_type": "stream",
     "text": [
      "['July 12, 2023\\n\\nSummary of Economic Activity\\nThe Eleventh District economy continued to expand modestly buoyed by gains in the service sector and single-family housing.', 'Manufacturing output and retail sales fell.', 'Credit conditions tightened further, and loan demand continued to decline.', 'Drilling activity dipped due to lower oil and gas prices, while recent rains boosted district agricultural conditions.', 'Local nonprofits continued to cite higher demand for assistance.']\n"
     ]
    }
   ],
   "source": [
    "# Specify sentences from a random Beige Book\n",
    "    # To make this run faster, just do it for a few sentences\n",
    "\n",
    "sentences = jsondata['2023_da (4).txt']['sentences'][0:5]\n",
    "print(sentences)"
   ]
  },
  {
   "cell_type": "code",
   "execution_count": 7,
   "metadata": {},
   "outputs": [],
   "source": [
    "new_sentences_2 = []\n",
    "\n",
    "for sentence in sentences:\n",
    "    completion = call_gpt_2(sentence)\n",
    "    content = completion.choices[0].message\n",
    "    new_sentences_2.append((sentence, content))"
   ]
  },
  {
   "cell_type": "code",
   "execution_count": 9,
   "metadata": {},
   "outputs": [
    {
     "data": {
      "text/plain": [
       "ChatCompletion(id='chatcmpl-8RluBQavchD5FUzKJGrHJw5x8ThpZ', choices=[Choice(finish_reason='stop', index=0, message=ChatCompletionMessage(content=\"{'credit_conditions': 0, 'household_spending': 0, 'inflation': 0, 'investment': 0, 'labor_market': 0}\", role='assistant', function_call=None, tool_calls=None))], created=1701629695, model='gpt-3.5-turbo-0613', object='chat.completion', system_fingerprint=None, usage=CompletionUsage(completion_tokens=37, prompt_tokens=448, total_tokens=485))"
      ]
     },
     "execution_count": 9,
     "metadata": {},
     "output_type": "execute_result"
    }
   ],
   "source": [
    "# This one took 16.9 seconds to run and used 37 completion tokens and 448 prompt tokens, 485 total\n",
    "#ChatCompletion(id='chatcmpl-8RluBQavchD5FUzKJGrHJw5x8ThpZ', choices=[Choice(finish_reason='stop', index=0, message=ChatCompletionMessage(content=\"{'credit_conditions': 0, 'household_spending': 0, 'inflation': 0, 'investment': 0, 'labor_market': 0}\", role='assistant', function_call=None, tool_calls=None))], created=1701629695, model='gpt-3.5-turbo-0613', object='chat.completion', system_fingerprint=None, usage=CompletionUsage(completion_tokens=37, prompt_tokens=448, total_tokens=485))"
   ]
  },
  {
   "cell_type": "code",
   "execution_count": 4,
   "metadata": {},
   "outputs": [],
   "source": [
    "new_sentences = []\n",
    "\n",
    "for sentence in sentences:\n",
    "    completion = call_gpt(sentence)\n",
    "    content = completion.choices[0].message\n",
    "    new_sentences.append((sentence, content))"
   ]
  },
  {
   "cell_type": "code",
   "execution_count": 5,
   "metadata": {},
   "outputs": [
    {
     "data": {
      "text/plain": [
       "ChatCompletion(id='chatcmpl-8Rm3rTUZ2r0RLkXlI6aGGDA9UhZIW', choices=[Choice(finish_reason='stop', index=0, message=ChatCompletionMessage(content=\"{'credit_conditions': 0, 'household_spending': 0, 'inflation': 0, 'investment': 0, 'labor_market': 0}\", role='assistant', function_call=None, tool_calls=None))], created=1701630295, model='gpt-3.5-turbo-0613', object='chat.completion', system_fingerprint=None, usage=CompletionUsage(completion_tokens=37, prompt_tokens=392, total_tokens=429))"
      ]
     },
     "execution_count": 5,
     "metadata": {},
     "output_type": "execute_result"
    }
   ],
   "source": [
    "# This one took 13.5 seconds and used 37 completion tokens but only 392 prompt tokens, 429 total\n",
    "    # Reduced the length of some of the prompts\n",
    "# ChatCompletion(id='chatcmpl-8Rm3rTUZ2r0RLkXlI6aGGDA9UhZIW', choices=[Choice(finish_reason='stop', index=0, message=ChatCompletionMessage(content=\"{'credit_conditions': 0, 'household_spending': 0, 'inflation': 0, 'investment': 0, 'labor_market': 0}\", role='assistant', function_call=None, tool_calls=None))], created=1701630295, model='gpt-3.5-turbo-0613', object='chat.completion', system_fingerprint=None, usage=CompletionUsage(completion_tokens=37, prompt_tokens=392, total_tokens=429))\n",
    "# However, this one misclassified one sentence as related to the labor market that wasn't.\n",
    "    # the call_gpt_2 model got it right"
   ]
  },
  {
   "cell_type": "code",
   "execution_count": 8,
   "metadata": {},
   "outputs": [
    {
     "name": "stdout",
     "output_type": "stream",
     "text": [
      "[('November 29, 2023\\n\\nSummary of Economic Activity\\nTwelfth District economic activity softened slightly during the October to mid-November reporting period.', ChatCompletionMessage(content=\"{'credit_conditions': 0, 'household_spending': 0, 'inflation': 0, 'investment': 0, 'labor_market': 1}\", role='assistant', function_call=None, tool_calls=None)), ('Labor market tightness eased moderately, and employment levels remained generally steady.', ChatCompletionMessage(content=\"{'credit_conditions': 0, 'household_spending': 0, 'inflation': 0, 'investment': 0, 'labor_market': 1}\", role='assistant', function_call=None, tool_calls=None)), ('Wages and prices rose at a slower pace relative to the previous reporting period.', ChatCompletionMessage(content=\"{'credit_conditions': 0, 'household_spending': 0, 'inflation': 1, 'investment': 0, 'labor_market': 0}\", role='assistant', function_call=None, tool_calls=None)), ('Retail sales were flat, and activity in the services sectors picked up slightly.', ChatCompletionMessage(content=\"{'credit_conditions': 0, 'household_spending': 1, 'inflation': 0, 'investment': 0, 'labor_market': 0}\", role='assistant', function_call=None, tool_calls=None)), ('Demand for manufactured products remained largely unchanged, while conditions in agriculture and resource-related sectors were mixed.', ChatCompletionMessage(content=\"{'credit_conditions': 0, 'household_spending': 0, 'inflation': 0, 'investment': 0, 'labor_market': 0}\", role='assistant', function_call=None, tool_calls=None))]\n",
      "[('November 29, 2023\\n\\nSummary of Economic Activity\\nTwelfth District economic activity softened slightly during the October to mid-November reporting period.', ChatCompletionMessage(content=\"{'credit_conditions': 0, 'household_spending': 0, 'inflation': 0, 'investment': 0, 'labor_market': 0}\", role='assistant', function_call=None, tool_calls=None)), ('Labor market tightness eased moderately, and employment levels remained generally steady.', ChatCompletionMessage(content=\"{'credit_conditions': 0, 'household_spending': 0, 'inflation': 0, 'investment': 0, 'labor_market': 1}\", role='assistant', function_call=None, tool_calls=None)), ('Wages and prices rose at a slower pace relative to the previous reporting period.', ChatCompletionMessage(content=\"{'credit_conditions': 0, 'household_spending': 0, 'inflation': 1, 'investment': 0, 'labor_market': 0}\", role='assistant', function_call=None, tool_calls=None)), ('Retail sales were flat, and activity in the services sectors picked up slightly.', ChatCompletionMessage(content=\"{'credit_conditions': 0, 'household_spending': 1, 'inflation': 0, 'investment': 0, 'labor_market': 0}\", role='assistant', function_call=None, tool_calls=None)), ('Demand for manufactured products remained largely unchanged, while conditions in agriculture and resource-related sectors were mixed.', ChatCompletionMessage(content=\"{'credit_conditions': 0, 'household_spending': 0, 'inflation': 0, 'investment': 0, 'labor_market': 0}\", role='assistant', function_call=None, tool_calls=None))]\n"
     ]
    }
   ],
   "source": [
    "print(new_sentences)\n",
    "print(new_sentences_2)"
   ]
  },
  {
   "cell_type": "code",
   "execution_count": null,
   "metadata": {},
   "outputs": [],
   "source": []
  },
  {
   "cell_type": "markdown",
   "metadata": {},
   "source": [
    "## Zero-shot prompt\n",
    "\n",
    "Just give it instructions, without any labeled examples.\n",
    "\n",
    "Do it for both:\n",
    "1. Classification of economic types\n",
    "2. Sentiment scores"
   ]
  },
  {
   "cell_type": "code",
   "execution_count": 9,
   "metadata": {},
   "outputs": [],
   "source": [
    "from call_gpt_zero_shot import call_gpt_zero"
   ]
  },
  {
   "cell_type": "code",
   "execution_count": 14,
   "metadata": {},
   "outputs": [],
   "source": [
    "new_sentences_zero = []\n",
    "\n",
    "for sentence in sentences:\n",
    "    completion = call_gpt_zero(sentence)\n",
    "    content = completion.choices[0].message\n",
    "    new_sentences_zero.append((sentence, content))"
   ]
  },
  {
   "cell_type": "code",
   "execution_count": 15,
   "metadata": {},
   "outputs": [
    {
     "name": "stdout",
     "output_type": "stream",
     "text": [
      "[('November 29, 2023\\n\\nSummary of Economic Activity\\nTwelfth District economic activity softened slightly during the October to mid-November reporting period.', ChatCompletionMessage(content='{\\n  \"credit_conditions\": 0,\\n  \"household_spending\": 0,\\n  \"inflation\": 0,\\n  \"investment\": 0,\\n  \"labor_market_conditions\": 0\\n}', role='assistant', function_call=None, tool_calls=None)), ('Labor market tightness eased moderately, and employment levels remained generally steady.', ChatCompletionMessage(content='{\"credit_conditions\": 0, \"household_spending\": 0, \"inflation\": 0, \"investment\": 0, \"labor_market_conditions\": 1}', role='assistant', function_call=None, tool_calls=None)), ('Wages and prices rose at a slower pace relative to the previous reporting period.', ChatCompletionMessage(content='{\\n  \"credit conditions\": 0,\\n  \"household spending\": 0,\\n  \"inflation\": 1,\\n  \"investment\": 0,\\n  \"labor market conditions\": 0\\n}', role='assistant', function_call=None, tool_calls=None)), ('Retail sales were flat, and activity in the services sectors picked up slightly.', ChatCompletionMessage(content='{\\n  \"credit conditions\": 0,\\n  \"household spending\": 1,\\n  \"inflation\": 0,\\n  \"investment\": 1,\\n  \"labor market conditions\": 0\\n}', role='assistant', function_call=None, tool_calls=None)), ('Demand for manufactured products remained largely unchanged, while conditions in agriculture and resource-related sectors were mixed.', ChatCompletionMessage(content='{\\n  \"credit_conditions\": 0,\\n  \"household_spending\": 0,\\n  \"inflation\": 0,\\n  \"investment\": 0,\\n  \"labor_market_conditions\": 0\\n}', role='assistant', function_call=None, tool_calls=None))]\n",
      "[('November 29, 2023\\n\\nSummary of Economic Activity\\nTwelfth District economic activity softened slightly during the October to mid-November reporting period.', ChatCompletionMessage(content=\"{'credit_conditions': 0, 'household_spending': 0, 'inflation': 0, 'investment': 0, 'labor_market': 1}\", role='assistant', function_call=None, tool_calls=None)), ('Labor market tightness eased moderately, and employment levels remained generally steady.', ChatCompletionMessage(content=\"{'credit_conditions': 0, 'household_spending': 0, 'inflation': 0, 'investment': 0, 'labor_market': 1}\", role='assistant', function_call=None, tool_calls=None)), ('Wages and prices rose at a slower pace relative to the previous reporting period.', ChatCompletionMessage(content=\"{'credit_conditions': 0, 'household_spending': 0, 'inflation': 1, 'investment': 0, 'labor_market': 0}\", role='assistant', function_call=None, tool_calls=None)), ('Retail sales were flat, and activity in the services sectors picked up slightly.', ChatCompletionMessage(content=\"{'credit_conditions': 0, 'household_spending': 1, 'inflation': 0, 'investment': 0, 'labor_market': 0}\", role='assistant', function_call=None, tool_calls=None)), ('Demand for manufactured products remained largely unchanged, while conditions in agriculture and resource-related sectors were mixed.', ChatCompletionMessage(content=\"{'credit_conditions': 0, 'household_spending': 0, 'inflation': 0, 'investment': 0, 'labor_market': 0}\", role='assistant', function_call=None, tool_calls=None))]\n",
      "[('November 29, 2023\\n\\nSummary of Economic Activity\\nTwelfth District economic activity softened slightly during the October to mid-November reporting period.', ChatCompletionMessage(content=\"{'credit_conditions': 0, 'household_spending': 0, 'inflation': 0, 'investment': 0, 'labor_market': 0}\", role='assistant', function_call=None, tool_calls=None)), ('Labor market tightness eased moderately, and employment levels remained generally steady.', ChatCompletionMessage(content=\"{'credit_conditions': 0, 'household_spending': 0, 'inflation': 0, 'investment': 0, 'labor_market': 1}\", role='assistant', function_call=None, tool_calls=None)), ('Wages and prices rose at a slower pace relative to the previous reporting period.', ChatCompletionMessage(content=\"{'credit_conditions': 0, 'household_spending': 0, 'inflation': 1, 'investment': 0, 'labor_market': 0}\", role='assistant', function_call=None, tool_calls=None)), ('Retail sales were flat, and activity in the services sectors picked up slightly.', ChatCompletionMessage(content=\"{'credit_conditions': 0, 'household_spending': 1, 'inflation': 0, 'investment': 0, 'labor_market': 0}\", role='assistant', function_call=None, tool_calls=None)), ('Demand for manufactured products remained largely unchanged, while conditions in agriculture and resource-related sectors were mixed.', ChatCompletionMessage(content=\"{'credit_conditions': 0, 'household_spending': 0, 'inflation': 0, 'investment': 0, 'labor_market': 0}\", role='assistant', function_call=None, tool_calls=None))]\n"
     ]
    }
   ],
   "source": [
    "print(new_sentences_zero)\n",
    "print(new_sentences)\n",
    "print(new_sentences_2)"
   ]
  },
  {
   "cell_type": "code",
   "execution_count": 17,
   "metadata": {},
   "outputs": [],
   "source": [
    "# Run time is 14.4 seconds, so not that much different\n",
    "# Performance is about the same\n",
    "    # Has a few false identifications, perhaps, though, but it's hard to tell with limited sample\n",
    "    # Has a weird \\n in the json; not sure what that's about but it's fixable\n",
    "# MAIN BENEFIT: COST\n",
    "    # Only 124 total tokens: 45 completion and 79 prompt"
   ]
  },
  {
   "cell_type": "code",
   "execution_count": 18,
   "metadata": {},
   "outputs": [],
   "source": [
    "from call_gpt_zero_shot_sentiment import call_gpt_zero_sentiment"
   ]
  },
  {
   "cell_type": "code",
   "execution_count": 23,
   "metadata": {},
   "outputs": [],
   "source": [
    "new_sentences_sentiment = []\n",
    "\n",
    "for sentence in sentences:\n",
    "    completion = call_gpt_zero_sentiment(sentence)\n",
    "    content = completion.choices[0].message\n",
    "    new_sentences_sentiment.append((sentence, content))"
   ]
  },
  {
   "cell_type": "code",
   "execution_count": 24,
   "metadata": {},
   "outputs": [
    {
     "data": {
      "text/plain": [
       "[('July 12, 2023\\n\\nSummary of Economic Activity\\nThe Eleventh District economy continued to expand modestly buoyed by gains in the service sector and single-family housing.',\n",
       "  ChatCompletionMessage(content='{\\n  \"Eleventh District economy\": 0.6,\\n  \"service sector\": 0.5,\\n  \"single-family housing\": 0.7\\n}', role='assistant', function_call=None, tool_calls=None)),\n",
       " ('Manufacturing output and retail sales fell.',\n",
       "  ChatCompletionMessage(content='{\\n  \"manufacturing output\": -0.8,\\n  \"retail sales\": -0.9\\n}', role='assistant', function_call=None, tool_calls=None)),\n",
       " ('Credit conditions tightened further, and loan demand continued to decline.',\n",
       "  ChatCompletionMessage(content='{\\n  \"credit conditions\": -0.8,\\n  \"loan demand\": -0.6\\n}', role='assistant', function_call=None, tool_calls=None)),\n",
       " ('Drilling activity dipped due to lower oil and gas prices, while recent rains boosted district agricultural conditions.',\n",
       "  ChatCompletionMessage(content='{\"oil_and_gas_prices\": -0.5, \"agricultural_conditions\": 0.7}', role='assistant', function_call=None, tool_calls=None)),\n",
       " ('Local nonprofits continued to cite higher demand for assistance.',\n",
       "  ChatCompletionMessage(content='{\\n  \"economy\": 0.5\\n}', role='assistant', function_call=None, tool_calls=None))]"
      ]
     },
     "execution_count": 24,
     "metadata": {},
     "output_type": "execute_result"
    }
   ],
   "source": [
    "new_sentences_sentiment\n",
    "\n",
    "# Works remarkably well!"
   ]
  },
  {
   "cell_type": "code",
   "execution_count": 26,
   "metadata": {},
   "outputs": [],
   "source": [
    "# Just do an overall sentence score, not by topic\n",
    "\n",
    "from call_gpt_zero_shot_sentiment2 import call_gpt_zero_sentiment2"
   ]
  },
  {
   "cell_type": "code",
   "execution_count": 27,
   "metadata": {},
   "outputs": [],
   "source": [
    "new_sentences_sentiment2 = []\n",
    "\n",
    "for sentence in sentences:\n",
    "    completion = call_gpt_zero_sentiment2(sentence)\n",
    "    content = completion.choices[0].message\n",
    "    new_sentences_sentiment2.append((sentence, content))"
   ]
  },
  {
   "cell_type": "code",
   "execution_count": 28,
   "metadata": {},
   "outputs": [
    {
     "data": {
      "text/plain": [
       "[('July 12, 2023\\n\\nSummary of Economic Activity\\nThe Eleventh District economy continued to expand modestly buoyed by gains in the service sector and single-family housing.',\n",
       "  ChatCompletionMessage(content='Sentiment Score: 0.6', role='assistant', function_call=None, tool_calls=None)),\n",
       " ('Manufacturing output and retail sales fell.',\n",
       "  ChatCompletionMessage(content='Sentiment score: -0.8', role='assistant', function_call=None, tool_calls=None)),\n",
       " ('Credit conditions tightened further, and loan demand continued to decline.',\n",
       "  ChatCompletionMessage(content='Sentiment score: -0.7', role='assistant', function_call=None, tool_calls=None)),\n",
       " ('Drilling activity dipped due to lower oil and gas prices, while recent rains boosted district agricultural conditions.',\n",
       "  ChatCompletionMessage(content='Sentiment Score: 0.5', role='assistant', function_call=None, tool_calls=None)),\n",
       " ('Local nonprofits continued to cite higher demand for assistance.',\n",
       "  ChatCompletionMessage(content='0.6', role='assistant', function_call=None, tool_calls=None))]"
      ]
     },
     "execution_count": 28,
     "metadata": {},
     "output_type": "execute_result"
    }
   ],
   "source": [
    "new_sentences_sentiment2\n",
    "# Again, seems to work well overall\n",
    "    # But I think the topic approach is better because it can detect different ideas within a sentence\n",
    "    # For example: \"Drilling activity dipped due to lower oil and gas prices, while recent rains boosted district agricultural conditions.\"\n",
    "        # Drill activity is a negative\n",
    "        # But ag conditions are a positive\n",
    "        # Combined score is 0.5\n",
    "        # But the topic model created a topic for:\n",
    "            # oil_and_gas_prices = -0.5\n",
    "            # agricultural_conditions = 0.7\n"
   ]
  },
  {
   "cell_type": "markdown",
   "metadata": {},
   "source": [
    "# Now need:\n",
    "    Merge results data back into the original JSON\n",
    "    Do classification/sentiment for more than one Beige Book\n",
    "        Must speed up the process: Took 4 minutes-plus for one Beige Book; I need to do > 4,000\n",
    "        Finnal model will use gpt-4 turbo, gpt-4-1106-preview or gpt-4\n",
    "    Create a way to change the input instructions without having to alter the .py code file.\n",
    "        Allow for specifiying the instructions within the Jupyter Notebook\n",
    "# Could do:\n",
    "    By Sector:\n",
    "        Balke & Petersen (2002) used:\n",
    "            Retail\n",
    "            Manufacturing\n",
    "            Finance or banking\n",
    "            Construction\n",
    "            Natural resources (agriculture, petroleum, mining, gas, lumber)\n",
    "                Natural resources tends to be anti-cyclical\n",
    "    Embedding calculations\n",
    "        This would open the power of ChatGPT to do other calculations once you have the embeddings\n",
    "        OpenAI recommends using text-embedding-ada-002\n",
    "            Says it's best and cheapest\n",
    "    Compare zero-shot to prompting\n",
    "        Do the labeled prompts add any value?"
   ]
  },
  {
   "cell_type": "markdown",
   "metadata": {},
   "source": []
  }
 ],
 "metadata": {
  "kernelspec": {
   "display_name": "base",
   "language": "python",
   "name": "python3"
  },
  "language_info": {
   "codemirror_mode": {
    "name": "ipython",
    "version": 3
   },
   "file_extension": ".py",
   "mimetype": "text/x-python",
   "name": "python",
   "nbconvert_exporter": "python",
   "pygments_lexer": "ipython3",
   "version": "3.11.5"
  }
 },
 "nbformat": 4,
 "nbformat_minor": 2
}
