{
 "cells": [
  {
   "cell_type": "code",
   "execution_count": 1,
   "metadata": {},
   "outputs": [],
   "source": [
    "from json_setup import main\n"
   ]
  },
  {
   "cell_type": "code",
   "execution_count": 2,
   "metadata": {},
   "outputs": [],
   "source": [
    "json_data = main()"
   ]
  },
  {
   "cell_type": "code",
   "execution_count": 3,
   "metadata": {},
   "outputs": [],
   "source": [
    "from lda import run_lda"
   ]
  },
  {
   "cell_type": "code",
   "execution_count": 4,
   "metadata": {},
   "outputs": [
    {
     "name": "stdout",
     "output_type": "stream",
     "text": [
      "[(0, '0.016*\"continued\" + 0.015*\"reported\" + 0.014*\"contacts\" + 0.014*\"new\" + 0.012*\"activity\" + 0.011*\"growth\" + 0.010*\"remained\" + 0.009*\"firms\" + 0.009*\"prices\" + 0.008*\"noted\"'), (1, '0.016*\"sales\" + 0.010*\"district\" + 0.009*\"percent\" + 0.008*\"report\" + 0.007*\"new\" + 0.006*\"demand\" + 0.005*\"prices\" + 0.005*\"business\" + 0.005*\"year\" + 0.005*\"construction\"'), (2, '0.021*\"reported\" + 0.017*\"contacts\" + 0.011*\"activity\" + 0.011*\"district\" + 0.011*\"increased\" + 0.011*\"prices\" + 0.009*\"remained\" + 0.008*\"sales\" + 0.008*\"real\" + 0.008*\"demand\"'), (3, '0.022*\"demand\" + 0.015*\"activity\" + 0.014*\"contacts\" + 0.013*\"remained\" + 0.012*\"continued\" + 0.011*\"reported\" + 0.011*\"services\" + 0.009*\"recent\" + 0.008*\"conditions\" + 0.008*\"noted\"'), (4, '0.018*\"reported\" + 0.018*\"activity\" + 0.016*\"demand\" + 0.013*\"districts\" + 0.013*\"prices\" + 0.012*\"sales\" + 0.011*\"continued\" + 0.011*\"contacts\" + 0.010*\"remained\" + 0.010*\"noted\"')]\n"
     ]
    }
   ],
   "source": [
    "topics = run_lda(num_topics=5, num_words=10)\n",
    "print(topics)\n"
   ]
  },
  {
   "cell_type": "code",
   "execution_count": 5,
   "metadata": {},
   "outputs": [
    {
     "name": "stdout",
     "output_type": "stream",
     "text": [
      "(0, '0.016*\"continued\" + 0.015*\"reported\" + 0.014*\"contacts\" + 0.014*\"new\" + 0.012*\"activity\" + 0.011*\"growth\" + 0.010*\"remained\" + 0.009*\"firms\" + 0.009*\"prices\" + 0.008*\"noted\"')\n",
      "(1, '0.016*\"sales\" + 0.010*\"district\" + 0.009*\"percent\" + 0.008*\"report\" + 0.007*\"new\" + 0.006*\"demand\" + 0.005*\"prices\" + 0.005*\"business\" + 0.005*\"year\" + 0.005*\"construction\"')\n",
      "(2, '0.021*\"reported\" + 0.017*\"contacts\" + 0.011*\"activity\" + 0.011*\"district\" + 0.011*\"increased\" + 0.011*\"prices\" + 0.009*\"remained\" + 0.008*\"sales\" + 0.008*\"real\" + 0.008*\"demand\"')\n",
      "(3, '0.022*\"demand\" + 0.015*\"activity\" + 0.014*\"contacts\" + 0.013*\"remained\" + 0.012*\"continued\" + 0.011*\"reported\" + 0.011*\"services\" + 0.009*\"recent\" + 0.008*\"conditions\" + 0.008*\"noted\"')\n",
      "(4, '0.018*\"reported\" + 0.018*\"activity\" + 0.016*\"demand\" + 0.013*\"districts\" + 0.013*\"prices\" + 0.012*\"sales\" + 0.011*\"continued\" + 0.011*\"contacts\" + 0.010*\"remained\" + 0.010*\"noted\"')\n"
     ]
    }
   ],
   "source": [
    "for topic in topics:\n",
    "    print(topic)\n"
   ]
  },
  {
   "cell_type": "code",
   "execution_count": 13,
   "metadata": {},
   "outputs": [],
   "source": [
    "import pandas as pd\n",
    "import spacy\n",
    "import gensim\n",
    "from spacy.lang.en import English\n",
    "from gensim import corpora\n",
    "from gensim.models import LdaModel\n",
    "from gensim.parsing.preprocessing import STOPWORDS\n",
    "from json_setup import main\n",
    "import pyLDAvis.gensim_models as gensimvis\n",
    "import pyLDAvis"
   ]
  },
  {
   "cell_type": "code",
   "execution_count": 14,
   "metadata": {},
   "outputs": [
    {
     "ename": "NameError",
     "evalue": "name 'corpus' is not defined",
     "output_type": "error",
     "traceback": [
      "\u001b[1;31m---------------------------------------------------------------------------\u001b[0m",
      "\u001b[1;31mNameError\u001b[0m                                 Traceback (most recent call last)",
      "\u001b[1;32mc:\\Users\\MCOB PHD 14\\Desktop\\bbFinal\\lda.ipynb Cell 7\u001b[0m line \u001b[0;36m1\n\u001b[1;32m----> <a href='vscode-notebook-cell:/c%3A/Users/MCOB%20PHD%2014/Desktop/bbFinal/lda.ipynb#X12sZmlsZQ%3D%3D?line=0'>1</a>\u001b[0m lda_model \u001b[39m=\u001b[39m LdaModel(corpus, num_topics\u001b[39m=\u001b[39mnum_topics, id2word\u001b[39m=\u001b[39mdictionary, passes\u001b[39m=\u001b[39m\u001b[39m15\u001b[39m)\n",
      "\u001b[1;31mNameError\u001b[0m: name 'corpus' is not defined"
     ]
    }
   ],
   "source": [
    "lda_model = LdaModel(corpus, num_topics=num_topics, id2word=dictionary, passes=15)"
   ]
  },
  {
   "cell_type": "code",
   "execution_count": 7,
   "metadata": {},
   "outputs": [
    {
     "ename": "NameError",
     "evalue": "name 'lda_model' is not defined",
     "output_type": "error",
     "traceback": [
      "\u001b[1;31m---------------------------------------------------------------------------\u001b[0m",
      "\u001b[1;31mNameError\u001b[0m                                 Traceback (most recent call last)",
      "\u001b[1;32mc:\\Users\\MCOB PHD 14\\Desktop\\bbFinal\\lda.ipynb Cell 6\u001b[0m line \u001b[0;36m5\n\u001b[0;32m      <a href='vscode-notebook-cell:/c%3A/Users/MCOB%20PHD%2014/Desktop/bbFinal/lda.ipynb#X11sZmlsZQ%3D%3D?line=1'>2</a>\u001b[0m \u001b[39mimport\u001b[39;00m \u001b[39mpyLDAvis\u001b[39;00m\n\u001b[0;32m      <a href='vscode-notebook-cell:/c%3A/Users/MCOB%20PHD%2014/Desktop/bbFinal/lda.ipynb#X11sZmlsZQ%3D%3D?line=3'>4</a>\u001b[0m \u001b[39m# Visualize the topics\u001b[39;00m\n\u001b[1;32m----> <a href='vscode-notebook-cell:/c%3A/Users/MCOB%20PHD%2014/Desktop/bbFinal/lda.ipynb#X11sZmlsZQ%3D%3D?line=4'>5</a>\u001b[0m vis_data \u001b[39m=\u001b[39m gensimvis\u001b[39m.\u001b[39mprepare(lda_model, corpus, dictionary)\n\u001b[0;32m      <a href='vscode-notebook-cell:/c%3A/Users/MCOB%20PHD%2014/Desktop/bbFinal/lda.ipynb#X11sZmlsZQ%3D%3D?line=5'>6</a>\u001b[0m pyLDAvis\u001b[39m.\u001b[39mdisplay(vis_data)\n",
      "\u001b[1;31mNameError\u001b[0m: name 'lda_model' is not defined"
     ]
    }
   ],
   "source": [
    "import pyLDAvis.gensim_models as gensimvis\n",
    "import pyLDAvis\n",
    "\n",
    "# Visualize the topics\n",
    "vis_data = gensimvis.prepare(lda_model, corpus, dictionary)\n",
    "pyLDAvis.display(vis_data)\n"
   ]
  },
  {
   "cell_type": "code",
   "execution_count": 17,
   "metadata": {},
   "outputs": [
    {
     "ename": "NameError",
     "evalue": "name 'lda_model' is not defined",
     "output_type": "error",
     "traceback": [
      "\u001b[1;31m---------------------------------------------------------------------------\u001b[0m",
      "\u001b[1;31mNameError\u001b[0m                                 Traceback (most recent call last)",
      "\u001b[1;32mc:\\Users\\MCOB PHD 14\\Desktop\\bbFinal\\lda.ipynb Cell 9\u001b[0m line \u001b[0;36m7\n\u001b[0;32m      <a href='vscode-notebook-cell:/c%3A/Users/MCOB%20PHD%2014/Desktop/bbFinal/lda.ipynb#X15sZmlsZQ%3D%3D?line=0'>1</a>\u001b[0m \u001b[39mimport\u001b[39;00m \u001b[39mmatplotlib\u001b[39;00m\u001b[39m.\u001b[39;00m\u001b[39mpyplot\u001b[39;00m \u001b[39mas\u001b[39;00m \u001b[39mplt\u001b[39;00m\n\u001b[0;32m      <a href='vscode-notebook-cell:/c%3A/Users/MCOB%20PHD%2014/Desktop/bbFinal/lda.ipynb#X15sZmlsZQ%3D%3D?line=2'>3</a>\u001b[0m \u001b[39m# Assuming you have already run the LDA analysis and have lda_model\u001b[39;00m\n\u001b[0;32m      <a href='vscode-notebook-cell:/c%3A/Users/MCOB%20PHD%2014/Desktop/bbFinal/lda.ipynb#X15sZmlsZQ%3D%3D?line=3'>4</a>\u001b[0m \u001b[39m# lda_model = LdaModel(corpus, num_topics=num_topics, id2word=dictionary, passes=15)\u001b[39;00m\n\u001b[0;32m      <a href='vscode-notebook-cell:/c%3A/Users/MCOB%20PHD%2014/Desktop/bbFinal/lda.ipynb#X15sZmlsZQ%3D%3D?line=4'>5</a>\u001b[0m \n\u001b[0;32m      <a href='vscode-notebook-cell:/c%3A/Users/MCOB%20PHD%2014/Desktop/bbFinal/lda.ipynb#X15sZmlsZQ%3D%3D?line=5'>6</a>\u001b[0m \u001b[39m# Get the topic weights from lda_model\u001b[39;00m\n\u001b[1;32m----> <a href='vscode-notebook-cell:/c%3A/Users/MCOB%20PHD%2014/Desktop/bbFinal/lda.ipynb#X15sZmlsZQ%3D%3D?line=6'>7</a>\u001b[0m topic_weights \u001b[39m=\u001b[39m lda_model\u001b[39m.\u001b[39mshow_topics(formatted\u001b[39m=\u001b[39m\u001b[39mFalse\u001b[39;00m)\n\u001b[0;32m      <a href='vscode-notebook-cell:/c%3A/Users/MCOB%20PHD%2014/Desktop/bbFinal/lda.ipynb#X15sZmlsZQ%3D%3D?line=8'>9</a>\u001b[0m \u001b[39m# If you want to create a simple bar plot\u001b[39;00m\n\u001b[0;32m     <a href='vscode-notebook-cell:/c%3A/Users/MCOB%20PHD%2014/Desktop/bbFinal/lda.ipynb#X15sZmlsZQ%3D%3D?line=9'>10</a>\u001b[0m topic_labels \u001b[39m=\u001b[39m [\u001b[39mf\u001b[39m\u001b[39m\"\u001b[39m\u001b[39mTopic #\u001b[39m\u001b[39m{\u001b[39;00mi\u001b[39m \u001b[39m\u001b[39m+\u001b[39m\u001b[39m \u001b[39m\u001b[39m1\u001b[39m\u001b[39m}\u001b[39;00m\u001b[39m\"\u001b[39m \u001b[39mfor\u001b[39;00m i \u001b[39min\u001b[39;00m \u001b[39mrange\u001b[39m(\u001b[39mlen\u001b[39m(topic_weights))]\n",
      "\u001b[1;31mNameError\u001b[0m: name 'lda_model' is not defined"
     ]
    }
   ],
   "source": [
    "import matplotlib.pyplot as plt\n",
    "\n",
    "# Assuming you have already run the LDA analysis and have lda_model\n",
    "# lda_model = LdaModel(corpus, num_topics=num_topics, id2word=dictionary, passes=15)\n",
    "\n",
    "# Get the topic weights from lda_model\n",
    "topic_weights = lda_model.show_topics(formatted=False)\n",
    "\n",
    "# If you want to create a simple bar plot\n",
    "topic_labels = [f\"Topic #{i + 1}\" for i in range(len(topic_weights))]\n",
    "topic_weights = [sum(weight for _, weight in topic) for topic in topic_weights]\n",
    "\n",
    "plt.bar(topic_labels, topic_weights)\n",
    "plt.xlabel('Topics')\n",
    "plt.ylabel('Topic Weights')\n",
    "plt.title('Topic Distribution')\n",
    "plt.show()\n"
   ]
  }
 ],
 "metadata": {
  "kernelspec": {
   "display_name": "base",
   "language": "python",
   "name": "python3"
  },
  "language_info": {
   "codemirror_mode": {
    "name": "ipython",
    "version": 3
   },
   "file_extension": ".py",
   "mimetype": "text/x-python",
   "name": "python",
   "nbconvert_exporter": "python",
   "pygments_lexer": "ipython3",
   "version": "3.11.5"
  }
 },
 "nbformat": 4,
 "nbformat_minor": 2
}
