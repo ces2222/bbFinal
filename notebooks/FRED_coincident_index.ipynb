{
 "cells": [
  {
   "cell_type": "code",
   "execution_count": 1,
   "metadata": {},
   "outputs": [],
   "source": [
    "# Setting up FRED access\n",
    "import pandas as pd\n",
    "from fredapi import Fred\n",
    "api_key = \"b40f40a14d67c7903b44700db6b7b6e7\"\n",
    "fred = Fred(api_key=api_key)"
   ]
  },
  {
   "cell_type": "code",
   "execution_count": 2,
   "metadata": {},
   "outputs": [],
   "source": [
    "# Giving the FRED series IDs for coincident index each of the 50 states\n",
    "state_series_ids = [\n",
    "    \"ALPHCI\", \"AKPHCI\", \"AZPHCI\", \"ARPHCI\", \"CAPHCI\", \"COPHCI\", \"CTPHCI\", \"DEPHCI\", \"FLPHCI\", \"GAPHCI\",\n",
    "    \"HIPHCI\", \"IDPHCI\", \"ILPHCI\", \"INPHCI\", \"IAPHCI\", \"KSPHCI\", \"KYPHCI\", \"LAPHCI\", \"MEPHCI\", \"MDPHCI\",\n",
    "    \"MAPHCI\", \"MIPHCI\", \"MNPHCI\", \"MSPHCI\", \"MOPHCI\", \"MTPHCI\", \"NEPHCI\", \"NVPHCI\", \"NHPHCI\", \"NJPHCI\",\n",
    "    \"NMPHCI\", \"NYPHCI\", \"NCPHCI\", \"NDPHCI\", \"OHPHCI\", \"OKPHCI\", \"ORPHCI\", \"PAPHCI\", \"RIPHCI\", \"SCPHCI\",\n",
    "    \"SDPHCI\", \"TNPHCI\", \"TXPHCI\", \"UTPHCI\", \"VTPHCI\", \"VAPHCI\", \"WAPHCI\", \"WVPHCI\", \"WIPHCI\", \"WYPHCI\"\n",
    "    ]\n",
    "\n",
    "state_ids = pd.DataFrame([state_series_ids])"
   ]
  },
  {
   "cell_type": "code",
   "execution_count": 3,
   "metadata": {},
   "outputs": [],
   "source": [
    "# Blank dataframe setup\n",
    "state_coincident_index = pd.DataFrame()\n",
    "\n",
    "# Loop to download data for each state\n",
    "for series_id in state_series_ids:\n",
    "    state_data = fred.get_series(series_id)\n",
    "    state_coincident_index = pd.concat([state_coincident_index, state_data], axis = 1)\n",
    "\n",
    "# Rename columns by state\n",
    "state_coincident_index.columns = state_series_ids"
   ]
  },
  {
   "cell_type": "code",
   "execution_count": 4,
   "metadata": {},
   "outputs": [],
   "source": [
    "# Convert dataset to long format to prepare for joining with other data\n",
    "state_long = state_coincident_index.stack().reset_index()\n",
    "state_long['level_0'] = pd.to_datetime(state_long['level_0'])\n",
    "state_long = state_long.rename(columns={0: 'Coincident_Index', 'level_0': 'Date',   'level_1': 'series_id'})"
   ]
  },
  {
   "cell_type": "code",
   "execution_count": 5,
   "metadata": {},
   "outputs": [],
   "source": [
    "# Reading in shares of economic activity from each state per Fed district\n",
    "state_mapping_data = pd.read_csv(\"state_gdp_shares.csv\")\n",
    "state_mapping_data = pd.DataFrame(state_mapping_data)"
   ]
  },
  {
   "cell_type": "code",
   "execution_count": 6,
   "metadata": {},
   "outputs": [],
   "source": [
    "# Join the mapping data with the coincident index data\n",
    "merged_data = pd.merge(state_long, state_mapping_data, on='series_id', how='left')"
   ]
  },
  {
   "cell_type": "code",
   "execution_count": 7,
   "metadata": {},
   "outputs": [],
   "source": [
    "# Calcuate district coincident scores for each month\n",
    "district_score_by_date = merged_data.groupby(['Date', 'district']).apply(lambda x: (x['Coincident_Index'] * x['share']).sum()).reset_index()\n",
    "\n",
    "# Name column for the coincident index score\n",
    "district_score_by_date.rename(columns={0: 'district_coincident_index'}, inplace=True)   "
   ]
  },
  {
   "cell_type": "code",
   "execution_count": 8,
   "metadata": {},
   "outputs": [],
   "source": [
    "# Pivot the data to wide format\n",
    "district_score_wide = district_score_by_date.pivot(index='Date', columns='district', values='district_coincident_index')\n",
    "\n",
    "# Save the data to a csv file\n",
    "district_score_wide.to_csv('district_coincident_index.csv')"
   ]
  }
 ],
 "metadata": {
  "kernelspec": {
   "display_name": "base",
   "language": "python",
   "name": "python3"
  },
  "language_info": {
   "codemirror_mode": {
    "name": "ipython",
    "version": 3
   },
   "file_extension": ".py",
   "mimetype": "text/x-python",
   "name": "python",
   "nbconvert_exporter": "python",
   "pygments_lexer": "ipython3",
   "version": "3.11.5"
  }
 },
 "nbformat": 4,
 "nbformat_minor": 2
}
