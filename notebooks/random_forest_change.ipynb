{
 "cells": [
  {
   "cell_type": "code",
   "execution_count": 1,
   "metadata": {},
   "outputs": [],
   "source": [
    "# Importing pandas for numerical variable analysis and os, numpy, string, and nltk for text variable analysis.\n",
    "\n",
    "import pandas as pd\n",
    "import os as os\n",
    "import numpy as np\n",
    "import string as string\n",
    "from sklearn.model_selection import train_test_split\n",
    "import matplotlib.pyplot as plt\n",
    " \n",
    "\n",
    "#nltk.download('stopwords')\n"
   ]
  },
  {
   "cell_type": "code",
   "execution_count": 2,
   "metadata": {},
   "outputs": [],
   "source": [
    "bbSimple = pd.read_csv('bbNoTextChange.csv')"
   ]
  },
  {
   "cell_type": "code",
   "execution_count": 3,
   "metadata": {},
   "outputs": [
    {
     "data": {
      "text/plain": [
       "Index(['file_name', 'Date', 'Year', 'District', 'econ_index',\n",
       "       'econ_index_levels', 'USPHCI', 'econ_index_dummy', 'compound_score',\n",
       "       'mean_sentiment', 'median_sentiment', 'IQR_sentiment',\n",
       "       'sentiment_trigram', 'econ_index_change', 'econ_index_change_dummy'],\n",
       "      dtype='object')"
      ]
     },
     "execution_count": 3,
     "metadata": {},
     "output_type": "execute_result"
    }
   ],
   "source": [
    "bbSimple.columns"
   ]
  },
  {
   "cell_type": "code",
   "execution_count": 4,
   "metadata": {},
   "outputs": [
    {
     "data": {
      "text/html": [
       "<div>\n",
       "<style scoped>\n",
       "    .dataframe tbody tr th:only-of-type {\n",
       "        vertical-align: middle;\n",
       "    }\n",
       "\n",
       "    .dataframe tbody tr th {\n",
       "        vertical-align: top;\n",
       "    }\n",
       "\n",
       "    .dataframe thead th {\n",
       "        text-align: right;\n",
       "    }\n",
       "</style>\n",
       "<table border=\"1\" class=\"dataframe\">\n",
       "  <thead>\n",
       "    <tr style=\"text-align: right;\">\n",
       "      <th></th>\n",
       "      <th>Year</th>\n",
       "      <th>District</th>\n",
       "      <th>econ_index</th>\n",
       "      <th>econ_index_levels</th>\n",
       "      <th>USPHCI</th>\n",
       "      <th>econ_index_dummy</th>\n",
       "      <th>compound_score</th>\n",
       "      <th>mean_sentiment</th>\n",
       "      <th>median_sentiment</th>\n",
       "      <th>IQR_sentiment</th>\n",
       "      <th>sentiment_trigram</th>\n",
       "      <th>econ_index_change</th>\n",
       "      <th>econ_index_change_dummy</th>\n",
       "    </tr>\n",
       "  </thead>\n",
       "  <tbody>\n",
       "    <tr>\n",
       "      <th>count</th>\n",
       "      <td>4242.000000</td>\n",
       "      <td>4242.000000</td>\n",
       "      <td>4242.000000</td>\n",
       "      <td>4242.000000</td>\n",
       "      <td>4242.000000</td>\n",
       "      <td>4242.000000</td>\n",
       "      <td>4242.000000</td>\n",
       "      <td>4242.000000</td>\n",
       "      <td>4242.000000</td>\n",
       "      <td>4242.000000</td>\n",
       "      <td>4242.000000</td>\n",
       "      <td>4230.000000</td>\n",
       "      <td>4242.000000</td>\n",
       "    </tr>\n",
       "    <tr>\n",
       "      <th>mean</th>\n",
       "      <td>2000.900519</td>\n",
       "      <td>6.500943</td>\n",
       "      <td>1.989022</td>\n",
       "      <td>87.870464</td>\n",
       "      <td>85.881443</td>\n",
       "      <td>0.550212</td>\n",
       "      <td>0.864181</td>\n",
       "      <td>0.127853</td>\n",
       "      <td>0.089875</td>\n",
       "      <td>0.443621</td>\n",
       "      <td>0.123576</td>\n",
       "      <td>0.304782</td>\n",
       "      <td>0.844177</td>\n",
       "    </tr>\n",
       "    <tr>\n",
       "      <th>std</th>\n",
       "      <td>12.772214</td>\n",
       "      <td>3.450888</td>\n",
       "      <td>5.834020</td>\n",
       "      <td>26.618277</td>\n",
       "      <td>25.915295</td>\n",
       "      <td>0.497531</td>\n",
       "      <td>0.452598</td>\n",
       "      <td>0.081771</td>\n",
       "      <td>0.120031</td>\n",
       "      <td>0.107984</td>\n",
       "      <td>0.166468</td>\n",
       "      <td>1.134742</td>\n",
       "      <td>0.362730</td>\n",
       "    </tr>\n",
       "    <tr>\n",
       "      <th>min</th>\n",
       "      <td>1979.000000</td>\n",
       "      <td>1.000000</td>\n",
       "      <td>-20.980000</td>\n",
       "      <td>40.640000</td>\n",
       "      <td>46.370000</td>\n",
       "      <td>0.000000</td>\n",
       "      <td>-0.998400</td>\n",
       "      <td>-0.197844</td>\n",
       "      <td>-0.270000</td>\n",
       "      <td>0.000000</td>\n",
       "      <td>-0.695000</td>\n",
       "      <td>-27.194756</td>\n",
       "      <td>0.000000</td>\n",
       "    </tr>\n",
       "    <tr>\n",
       "      <th>25%</th>\n",
       "      <td>1990.000000</td>\n",
       "      <td>4.000000</td>\n",
       "      <td>-2.140000</td>\n",
       "      <td>64.915000</td>\n",
       "      <td>64.050000</td>\n",
       "      <td>0.000000</td>\n",
       "      <td>0.987200</td>\n",
       "      <td>0.075606</td>\n",
       "      <td>0.000000</td>\n",
       "      <td>0.381800</td>\n",
       "      <td>0.000000</td>\n",
       "      <td>0.149355</td>\n",
       "      <td>1.000000</td>\n",
       "    </tr>\n",
       "    <tr>\n",
       "      <th>50%</th>\n",
       "      <td>2001.000000</td>\n",
       "      <td>6.500000</td>\n",
       "      <td>0.600000</td>\n",
       "      <td>88.035000</td>\n",
       "      <td>88.700000</td>\n",
       "      <td>1.000000</td>\n",
       "      <td>0.996200</td>\n",
       "      <td>0.132182</td>\n",
       "      <td>0.000000</td>\n",
       "      <td>0.440400</td>\n",
       "      <td>0.112766</td>\n",
       "      <td>0.330879</td>\n",
       "      <td>1.000000</td>\n",
       "    </tr>\n",
       "    <tr>\n",
       "      <th>75%</th>\n",
       "      <td>2012.000000</td>\n",
       "      <td>9.000000</td>\n",
       "      <td>6.267500</td>\n",
       "      <td>103.027500</td>\n",
       "      <td>102.850000</td>\n",
       "      <td>1.000000</td>\n",
       "      <td>0.998300</td>\n",
       "      <td>0.182429</td>\n",
       "      <td>0.177900</td>\n",
       "      <td>0.509800</td>\n",
       "      <td>0.236796</td>\n",
       "      <td>0.558159</td>\n",
       "      <td>1.000000</td>\n",
       "    </tr>\n",
       "    <tr>\n",
       "      <th>max</th>\n",
       "      <td>2023.000000</td>\n",
       "      <td>12.000000</td>\n",
       "      <td>23.890000</td>\n",
       "      <td>161.490000</td>\n",
       "      <td>138.240000</td>\n",
       "      <td>1.000000</td>\n",
       "      <td>0.999900</td>\n",
       "      <td>0.401186</td>\n",
       "      <td>0.526700</td>\n",
       "      <td>0.994250</td>\n",
       "      <td>0.704417</td>\n",
       "      <td>7.901517</td>\n",
       "      <td>1.000000</td>\n",
       "    </tr>\n",
       "  </tbody>\n",
       "</table>\n",
       "</div>"
      ],
      "text/plain": [
       "              Year     District   econ_index  econ_index_levels       USPHCI  \\\n",
       "count  4242.000000  4242.000000  4242.000000        4242.000000  4242.000000   \n",
       "mean   2000.900519     6.500943     1.989022          87.870464    85.881443   \n",
       "std      12.772214     3.450888     5.834020          26.618277    25.915295   \n",
       "min    1979.000000     1.000000   -20.980000          40.640000    46.370000   \n",
       "25%    1990.000000     4.000000    -2.140000          64.915000    64.050000   \n",
       "50%    2001.000000     6.500000     0.600000          88.035000    88.700000   \n",
       "75%    2012.000000     9.000000     6.267500         103.027500   102.850000   \n",
       "max    2023.000000    12.000000    23.890000         161.490000   138.240000   \n",
       "\n",
       "       econ_index_dummy  compound_score  mean_sentiment  median_sentiment  \\\n",
       "count       4242.000000     4242.000000     4242.000000       4242.000000   \n",
       "mean           0.550212        0.864181        0.127853          0.089875   \n",
       "std            0.497531        0.452598        0.081771          0.120031   \n",
       "min            0.000000       -0.998400       -0.197844         -0.270000   \n",
       "25%            0.000000        0.987200        0.075606          0.000000   \n",
       "50%            1.000000        0.996200        0.132182          0.000000   \n",
       "75%            1.000000        0.998300        0.182429          0.177900   \n",
       "max            1.000000        0.999900        0.401186          0.526700   \n",
       "\n",
       "       IQR_sentiment  sentiment_trigram  econ_index_change  \\\n",
       "count    4242.000000        4242.000000        4230.000000   \n",
       "mean        0.443621           0.123576           0.304782   \n",
       "std         0.107984           0.166468           1.134742   \n",
       "min         0.000000          -0.695000         -27.194756   \n",
       "25%         0.381800           0.000000           0.149355   \n",
       "50%         0.440400           0.112766           0.330879   \n",
       "75%         0.509800           0.236796           0.558159   \n",
       "max         0.994250           0.704417           7.901517   \n",
       "\n",
       "       econ_index_change_dummy  \n",
       "count              4242.000000  \n",
       "mean                  0.844177  \n",
       "std                   0.362730  \n",
       "min                   0.000000  \n",
       "25%                   1.000000  \n",
       "50%                   1.000000  \n",
       "75%                   1.000000  \n",
       "max                   1.000000  "
      ]
     },
     "execution_count": 4,
     "metadata": {},
     "output_type": "execute_result"
    }
   ],
   "source": [
    "bbSimple.describe()"
   ]
  },
  {
   "cell_type": "code",
   "execution_count": 44,
   "metadata": {},
   "outputs": [],
   "source": [
    "# Split the data into training and testing sets with an 80/20 ratio\n",
    "train_set, test_set = train_test_split(bbSimple, test_size=0.2, random_state=7)\n",
    "\n",
    "# 'test_size' specifies the proportion of the dataset to include in the test split (0.2 means 20%)\n",
    "# 'random_state' is used to ensure reproducibility, you can set it to any integer value for consistency\n",
    "\n",
    "# You can now use 'train_set' and 'test_set' for your machine learning tasks\n"
   ]
  },
  {
   "cell_type": "code",
   "execution_count": 45,
   "metadata": {},
   "outputs": [],
   "source": [
    "# Assuming 'target_column' is the name of the column you want to predict\n",
    "X_train = train_set.drop(columns=['econ_index_change_dummy'])\n",
    "y_train = train_set['econ_index_change_dummy']\n",
    "\n",
    "X_test = test_set.drop(columns=['econ_index_change_dummy'])\n",
    "y_test = test_set['econ_index_change_dummy']\n"
   ]
  },
  {
   "cell_type": "code",
   "execution_count": 46,
   "metadata": {},
   "outputs": [],
   "source": [
    "X_train = X_train[['mean_sentiment', 'IQR_sentiment', 'median_sentiment', 'compound_score', 'sentiment_trigram']]\n",
    "X_test = X_test[['mean_sentiment', 'IQR_sentiment', 'median_sentiment', 'compound_score', 'sentiment_trigram']]\n"
   ]
  },
  {
   "cell_type": "markdown",
   "metadata": {},
   "source": [
    "## 3. Model Selection and Training"
   ]
  },
  {
   "cell_type": "code",
   "execution_count": 47,
   "metadata": {},
   "outputs": [],
   "source": [
    "from sklearn.ensemble import RandomForestClassifier  # or RandomForestRegressor for regression\n",
    "\n",
    "# Create a Random Forest model\n",
    "rf = RandomForestClassifier(n_estimators=100, random_state=7)  # You can adjust hyperparameters as needed"
   ]
  },
  {
   "cell_type": "code",
   "execution_count": 48,
   "metadata": {},
   "outputs": [
    {
     "data": {
      "text/html": [
       "<style>#sk-container-id-2 {color: black;}#sk-container-id-2 pre{padding: 0;}#sk-container-id-2 div.sk-toggleable {background-color: white;}#sk-container-id-2 label.sk-toggleable__label {cursor: pointer;display: block;width: 100%;margin-bottom: 0;padding: 0.3em;box-sizing: border-box;text-align: center;}#sk-container-id-2 label.sk-toggleable__label-arrow:before {content: \"▸\";float: left;margin-right: 0.25em;color: #696969;}#sk-container-id-2 label.sk-toggleable__label-arrow:hover:before {color: black;}#sk-container-id-2 div.sk-estimator:hover label.sk-toggleable__label-arrow:before {color: black;}#sk-container-id-2 div.sk-toggleable__content {max-height: 0;max-width: 0;overflow: hidden;text-align: left;background-color: #f0f8ff;}#sk-container-id-2 div.sk-toggleable__content pre {margin: 0.2em;color: black;border-radius: 0.25em;background-color: #f0f8ff;}#sk-container-id-2 input.sk-toggleable__control:checked~div.sk-toggleable__content {max-height: 200px;max-width: 100%;overflow: auto;}#sk-container-id-2 input.sk-toggleable__control:checked~label.sk-toggleable__label-arrow:before {content: \"▾\";}#sk-container-id-2 div.sk-estimator input.sk-toggleable__control:checked~label.sk-toggleable__label {background-color: #d4ebff;}#sk-container-id-2 div.sk-label input.sk-toggleable__control:checked~label.sk-toggleable__label {background-color: #d4ebff;}#sk-container-id-2 input.sk-hidden--visually {border: 0;clip: rect(1px 1px 1px 1px);clip: rect(1px, 1px, 1px, 1px);height: 1px;margin: -1px;overflow: hidden;padding: 0;position: absolute;width: 1px;}#sk-container-id-2 div.sk-estimator {font-family: monospace;background-color: #f0f8ff;border: 1px dotted black;border-radius: 0.25em;box-sizing: border-box;margin-bottom: 0.5em;}#sk-container-id-2 div.sk-estimator:hover {background-color: #d4ebff;}#sk-container-id-2 div.sk-parallel-item::after {content: \"\";width: 100%;border-bottom: 1px solid gray;flex-grow: 1;}#sk-container-id-2 div.sk-label:hover label.sk-toggleable__label {background-color: #d4ebff;}#sk-container-id-2 div.sk-serial::before {content: \"\";position: absolute;border-left: 1px solid gray;box-sizing: border-box;top: 0;bottom: 0;left: 50%;z-index: 0;}#sk-container-id-2 div.sk-serial {display: flex;flex-direction: column;align-items: center;background-color: white;padding-right: 0.2em;padding-left: 0.2em;position: relative;}#sk-container-id-2 div.sk-item {position: relative;z-index: 1;}#sk-container-id-2 div.sk-parallel {display: flex;align-items: stretch;justify-content: center;background-color: white;position: relative;}#sk-container-id-2 div.sk-item::before, #sk-container-id-2 div.sk-parallel-item::before {content: \"\";position: absolute;border-left: 1px solid gray;box-sizing: border-box;top: 0;bottom: 0;left: 50%;z-index: -1;}#sk-container-id-2 div.sk-parallel-item {display: flex;flex-direction: column;z-index: 1;position: relative;background-color: white;}#sk-container-id-2 div.sk-parallel-item:first-child::after {align-self: flex-end;width: 50%;}#sk-container-id-2 div.sk-parallel-item:last-child::after {align-self: flex-start;width: 50%;}#sk-container-id-2 div.sk-parallel-item:only-child::after {width: 0;}#sk-container-id-2 div.sk-dashed-wrapped {border: 1px dashed gray;margin: 0 0.4em 0.5em 0.4em;box-sizing: border-box;padding-bottom: 0.4em;background-color: white;}#sk-container-id-2 div.sk-label label {font-family: monospace;font-weight: bold;display: inline-block;line-height: 1.2em;}#sk-container-id-2 div.sk-label-container {text-align: center;}#sk-container-id-2 div.sk-container {/* jupyter's `normalize.less` sets `[hidden] { display: none; }` but bootstrap.min.css set `[hidden] { display: none !important; }` so we also need the `!important` here to be able to override the default hidden behavior on the sphinx rendered scikit-learn.org. See: https://github.com/scikit-learn/scikit-learn/issues/21755 */display: inline-block !important;position: relative;}#sk-container-id-2 div.sk-text-repr-fallback {display: none;}</style><div id=\"sk-container-id-2\" class=\"sk-top-container\"><div class=\"sk-text-repr-fallback\"><pre>RandomForestClassifier(random_state=7)</pre><b>In a Jupyter environment, please rerun this cell to show the HTML representation or trust the notebook. <br />On GitHub, the HTML representation is unable to render, please try loading this page with nbviewer.org.</b></div><div class=\"sk-container\" hidden><div class=\"sk-item\"><div class=\"sk-estimator sk-toggleable\"><input class=\"sk-toggleable__control sk-hidden--visually\" id=\"sk-estimator-id-2\" type=\"checkbox\" checked><label for=\"sk-estimator-id-2\" class=\"sk-toggleable__label sk-toggleable__label-arrow\">RandomForestClassifier</label><div class=\"sk-toggleable__content\"><pre>RandomForestClassifier(random_state=7)</pre></div></div></div></div></div>"
      ],
      "text/plain": [
       "RandomForestClassifier(random_state=7)"
      ]
     },
     "execution_count": 48,
     "metadata": {},
     "output_type": "execute_result"
    }
   ],
   "source": [
    "# Train the model on the training data\n",
    "rf.fit(X_train, y_train)\n"
   ]
  },
  {
   "cell_type": "code",
   "execution_count": 49,
   "metadata": {},
   "outputs": [],
   "source": [
    "# Make predictions on the test data\n",
    "predictions = rf.predict(X_test)\n"
   ]
  },
  {
   "cell_type": "code",
   "execution_count": 50,
   "metadata": {},
   "outputs": [],
   "source": [
    "from sklearn.metrics import accuracy_score, f1_score, precision_score, recall_score, confusion_matrix, classification_report\n",
    "\n",
    "# For 80/20 test/train split\n",
    "accuracy = accuracy_score(y_test, predictions)\n",
    "f1 = f1_score(y_test, predictions)\n",
    "recall = recall_score(y_test, predictions)\n",
    "precision = precision_score(y_test, predictions)\n"
   ]
  },
  {
   "cell_type": "code",
   "execution_count": 51,
   "metadata": {},
   "outputs": [
    {
     "name": "stdout",
     "output_type": "stream",
     "text": [
      "Accuracy: 0.8457008244994111\n",
      "F1: 0.9135313531353135\n",
      "Recall: 0.9719101123595506\n",
      "Precision: 0.8617683686176837\n"
     ]
    }
   ],
   "source": [
    "print(\"Accuracy:\", accuracy)\n",
    "print(\"F1:\", f1)\n",
    "print(\"Recall:\", recall)\n",
    "print(\"Precision:\", precision)"
   ]
  },
  {
   "cell_type": "code",
   "execution_count": 52,
   "metadata": {},
   "outputs": [
    {
     "data": {
      "image/png": "[encoded data removed]",
      "text/plain": [
       "<Figure size 640x480 with 2 Axes>"
      ]
     },
     "metadata": {},
     "output_type": "display_data"
    }
   ],
   "source": [
    "import seaborn as sns\n",
    "conf_matrix_test_train = confusion_matrix(y_test, predictions)\n",
    "sns.heatmap(conf_matrix_test_train, annot=True, fmt=\"d\", cmap=\"Blues\")\n",
    "plt.xlabel(\"Predicted\")\n",
    "plt.ylabel(\"Actual\")\n",
    "plt.title(\"Figure 1: Confusion Matrix - Test/Train Approach\")\n",
    "#plt.savefig(\"confusion_matrix_testtrain.png\")\n",
    "plt.show()\n"
   ]
  },
  {
   "cell_type": "code",
   "execution_count": 53,
   "metadata": {},
   "outputs": [
    {
     "name": "stdout",
     "output_type": "stream",
     "text": [
      "Sensitivity: 0.9719101123595506\n",
      "Specificity: 0.1897810218978102\n"
     ]
    }
   ],
   "source": [
    "TruePositive = 692\n",
    "TrueNegative = 26\n",
    "FalsePositive = 111\n",
    "FalseNegative = 20\n",
    "\n",
    "Precision = TruePositive / (TruePositive + FalsePositive)\n",
    "Recall = TruePositive / (TruePositive + FalseNegative)\n",
    "Sensitivity = Recall\n",
    "Specificity = TrueNegative / (TrueNegative + FalsePositive)\n",
    "\n",
    "print(\"Sensitivity:\", Sensitivity)\n",
    "print(\"Specificity:\", Specificity)"
   ]
  },
  {
   "cell_type": "code",
   "execution_count": 54,
   "metadata": {},
   "outputs": [],
   "source": [
    "# Calculating an ROC curve\n",
    "import numpy as np\n",
    "from sklearn.metrics import roc_curve, roc_auc_score\n",
    "import matplotlib.pylab as plt\n",
    "\n",
    "r_probs = [0 for _ in range(len(y_test))]\n",
    "rf_probs = rf.predict_proba(X_test)\n",
    "\n",
    "# Keep probabilities for positive outcome\n",
    "rf_probs = rf_probs[:,1]\n"
   ]
  },
  {
   "cell_type": "code",
   "execution_count": 55,
   "metadata": {},
   "outputs": [
    {
     "name": "stdout",
     "output_type": "stream",
     "text": [
      "When guessing: AUC is  0.5\n",
      "Random Forest model: AUC is  0.7455558517181989\n"
     ]
    }
   ],
   "source": [
    "# Compute area under the curve\n",
    "r_auc = roc_auc_score(y_test, r_probs)\n",
    "rf_auc = roc_auc_score(y_test, rf_probs)\n",
    "print('When guessing: AUC is ', r_auc)\n",
    "print('Random Forest model: AUC is ', rf_auc)\n"
   ]
  },
  {
   "cell_type": "code",
   "execution_count": 61,
   "metadata": {},
   "outputs": [
    {
     "data": {
      "image/png": "[encoded data removed]",
      "text/plain": [
       "<Figure size 640x480 with 1 Axes>"
      ]
     },
     "metadata": {},
     "output_type": "display_data"
    }
   ],
   "source": [
    "# Plotting the ROC curve\n",
    "\n",
    "# Calulate false positive rate and true positive rate for the guess and the RF\n",
    "r_fpr, r_tpr, r_thresholds = roc_curve(y_test, r_probs)\n",
    "rf_fpr, rf_tpr, rf_thresholds = roc_curve(y_test, rf_probs)\n",
    "\n",
    "# Plot it\n",
    "plt.plot(r_fpr, r_tpr, linestyle='--', label='Guessing (AUC = %0.3f)' % r_auc)\n",
    "plt.plot(rf_fpr, rf_tpr, linestyle='solid', label='Random Forest (AUC = %0.3f)' % rf_auc)\n",
    "\n",
    "# Title and labels\n",
    "plt.title('Figure 3 - ROC curve')\n",
    "plt.xlabel('False Positive Rate')\n",
    "plt.ylabel('True Positive Rate')\n",
    "plt.legend(loc='lower right')\n",
    "plt.savefig(\"ROC_curve.png\")\n",
    "plt.show()"
   ]
  },
  {
   "cell_type": "code",
   "execution_count": 57,
   "metadata": {},
   "outputs": [
    {
     "name": "stdout",
     "output_type": "stream",
     "text": [
      "Optimal Threshold: 0.85\n",
      "Sensitivity at Optimal Threshold: 0.7050561797752809\n",
      "Specificity at Optimal Threshold: 0.7007299270072993\n"
     ]
    }
   ],
   "source": [
    "# Calculating Youden's J Statistic\n",
    "    # J = Sensitivity + Specificity - 1\n",
    "    # Higher values indicate better performance\n",
    "    # Point on ROC that maximizes is often considered optimal\n",
    "    # That is, maximizing the sum of sensitivity and specificity\n",
    "\n",
    "youden_j = rf_tpr - rf_fpr\n",
    "optimal_threshold = rf_thresholds[np.argmax(youden_j)]\n",
    "\n",
    "optimal_sensitivity = rf_tpr[np.argmax(youden_j)]\n",
    "optimal_specificity = 1 - rf_fpr[np.argmax(youden_j)]\n",
    "\n",
    "print(\"Optimal Threshold:\", optimal_threshold)\n",
    "print(\"Sensitivity at Optimal Threshold:\", optimal_sensitivity)\n",
    "print(\"Specificity at Optimal Threshold:\", optimal_specificity)\n",
    "\n",
    "#The 0.85 optimal threshold means to classify values as 1 only if there's a greater than 85% chance that they will be 1.\n",
    "    #This allows the model to predict more zeros."
   ]
  },
  {
   "cell_type": "code",
   "execution_count": 58,
   "metadata": {},
   "outputs": [
    {
     "name": "stdout",
     "output_type": "stream",
     "text": [
      "Threshold: inf, Sensitivity: 0.0000, Specificity: 1.0000\n",
      "Threshold: 1.0000, Sensitivity: 0.0871, Specificity: 0.9635\n",
      "Threshold: 0.9900, Sensitivity: 0.1475, Specificity: 0.9489\n",
      "Threshold: 0.9800, Sensitivity: 0.2233, Specificity: 0.9343\n",
      "Threshold: 0.9700, Sensitivity: 0.2837, Specificity: 0.9270\n",
      "Threshold: 0.9600, Sensitivity: 0.3118, Specificity: 0.8978\n",
      "Threshold: 0.9500, Sensitivity: 0.3511, Specificity: 0.8832\n",
      "Threshold: 0.9400, Sensitivity: 0.3919, Specificity: 0.8613\n",
      "Threshold: 0.9300, Sensitivity: 0.4522, Specificity: 0.8394\n",
      "Threshold: 0.9200, Sensitivity: 0.5014, Specificity: 0.8175\n",
      "Threshold: 0.9100, Sensitivity: 0.5421, Specificity: 0.8029\n",
      "Threshold: 0.9000, Sensitivity: 0.5829, Specificity: 0.7956\n",
      "Threshold: 0.8900, Sensitivity: 0.6138, Specificity: 0.7664\n",
      "Threshold: 0.8800, Sensitivity: 0.6348, Specificity: 0.7518\n",
      "Threshold: 0.8700, Sensitivity: 0.6587, Specificity: 0.7153\n",
      "Threshold: 0.8600, Sensitivity: 0.6840, Specificity: 0.7080\n",
      "Threshold: 0.8500, Sensitivity: 0.7051, Specificity: 0.7007\n",
      "Threshold: 0.8400, Sensitivity: 0.7149, Specificity: 0.6715\n",
      "Threshold: 0.8300, Sensitivity: 0.7275, Specificity: 0.6423\n",
      "Threshold: 0.8200, Sensitivity: 0.7430, Specificity: 0.6058\n",
      "Threshold: 0.8100, Sensitivity: 0.7612, Specificity: 0.5912\n",
      "Threshold: 0.8000, Sensitivity: 0.7753, Specificity: 0.5839\n",
      "Threshold: 0.7900, Sensitivity: 0.7921, Specificity: 0.5693\n",
      "Threshold: 0.7800, Sensitivity: 0.8006, Specificity: 0.5474\n",
      "Threshold: 0.7700, Sensitivity: 0.8160, Specificity: 0.5401\n",
      "Threshold: 0.7600, Sensitivity: 0.8301, Specificity: 0.5182\n",
      "Threshold: 0.7500, Sensitivity: 0.8455, Specificity: 0.4891\n",
      "Threshold: 0.7300, Sensitivity: 0.8652, Specificity: 0.4453\n",
      "Threshold: 0.7200, Sensitivity: 0.8764, Specificity: 0.4380\n",
      "Threshold: 0.7100, Sensitivity: 0.8890, Specificity: 0.4161\n",
      "Threshold: 0.7000, Sensitivity: 0.8989, Specificity: 0.3869\n",
      "Threshold: 0.6900, Sensitivity: 0.9031, Specificity: 0.3796\n",
      "Threshold: 0.6800, Sensitivity: 0.9101, Specificity: 0.3723\n",
      "Threshold: 0.6700, Sensitivity: 0.9157, Specificity: 0.3431\n",
      "Threshold: 0.6600, Sensitivity: 0.9242, Specificity: 0.3285\n",
      "Threshold: 0.6500, Sensitivity: 0.9298, Specificity: 0.3066\n",
      "Threshold: 0.6300, Sensitivity: 0.9354, Specificity: 0.2993\n",
      "Threshold: 0.6100, Sensitivity: 0.9438, Specificity: 0.2993\n",
      "Threshold: 0.6000, Sensitivity: 0.9494, Specificity: 0.2774\n",
      "Threshold: 0.5900, Sensitivity: 0.9522, Specificity: 0.2628\n",
      "Threshold: 0.5800, Sensitivity: 0.9579, Specificity: 0.2628\n",
      "Threshold: 0.5700, Sensitivity: 0.9621, Specificity: 0.2482\n",
      "Threshold: 0.5600, Sensitivity: 0.9649, Specificity: 0.2482\n",
      "Threshold: 0.5500, Sensitivity: 0.9663, Specificity: 0.2336\n",
      "Threshold: 0.5400, Sensitivity: 0.9691, Specificity: 0.2190\n",
      "Threshold: 0.5300, Sensitivity: 0.9691, Specificity: 0.2117\n",
      "Threshold: 0.5200, Sensitivity: 0.9719, Specificity: 0.2044\n",
      "Threshold: 0.5100, Sensitivity: 0.9719, Specificity: 0.1898\n",
      "Threshold: 0.5000, Sensitivity: 0.9733, Specificity: 0.1752\n",
      "Threshold: 0.4900, Sensitivity: 0.9747, Specificity: 0.1533\n",
      "Threshold: 0.4600, Sensitivity: 0.9803, Specificity: 0.1533\n",
      "Threshold: 0.4500, Sensitivity: 0.9817, Specificity: 0.1460\n",
      "Threshold: 0.4300, Sensitivity: 0.9846, Specificity: 0.1460\n",
      "Threshold: 0.4200, Sensitivity: 0.9846, Specificity: 0.1387\n",
      "Threshold: 0.4100, Sensitivity: 0.9860, Specificity: 0.1314\n",
      "Threshold: 0.3800, Sensitivity: 0.9860, Specificity: 0.1168\n",
      "Threshold: 0.3600, Sensitivity: 0.9860, Specificity: 0.1022\n",
      "Threshold: 0.3500, Sensitivity: 0.9874, Specificity: 0.0876\n",
      "Threshold: 0.3400, Sensitivity: 0.9874, Specificity: 0.0803\n",
      "Threshold: 0.3300, Sensitivity: 0.9874, Specificity: 0.0657\n",
      "Threshold: 0.3200, Sensitivity: 0.9874, Specificity: 0.0584\n",
      "Threshold: 0.3000, Sensitivity: 0.9902, Specificity: 0.0584\n",
      "Threshold: 0.2700, Sensitivity: 0.9902, Specificity: 0.0511\n",
      "Threshold: 0.2600, Sensitivity: 0.9916, Specificity: 0.0511\n",
      "Threshold: 0.2300, Sensitivity: 0.9930, Specificity: 0.0438\n",
      "Threshold: 0.2200, Sensitivity: 0.9930, Specificity: 0.0292\n",
      "Threshold: 0.1800, Sensitivity: 0.9958, Specificity: 0.0292\n",
      "Threshold: 0.1700, Sensitivity: 0.9972, Specificity: 0.0219\n",
      "Threshold: 0.1400, Sensitivity: 0.9972, Specificity: 0.0073\n",
      "Threshold: 0.1300, Sensitivity: 0.9986, Specificity: 0.0073\n",
      "Threshold: 0.1200, Sensitivity: 0.9986, Specificity: 0.0000\n",
      "Threshold: 0.1100, Sensitivity: 1.0000, Specificity: 0.0000\n"
     ]
    }
   ],
   "source": [
    "# A tabular form of the ROC\n",
    "    # You can see at the top that specificity is very good but sensitivty very bad\n",
    "        # That is, if you set threshold to 100%: Calculate all as zeros\n",
    "    # as you move down the list, the tradeoff is apparent\n",
    "for i, threshold in enumerate(rf_thresholds):\n",
    "    print(f\"Threshold: {threshold:.4f}, Sensitivity: {rf_tpr[i]:.4f}, Specificity: {1 - rf_fpr[i]:.4f}\")\n"
   ]
  },
  {
   "cell_type": "code",
   "execution_count": 59,
   "metadata": {},
   "outputs": [],
   "source": [
    "# Going to recalculate model using 0.85 threshold\n",
    "\n",
    "threshold_85 = 0.85\n",
    "\n",
    "# Make predictions on the test data\n",
    "predictions_prob = rf.predict_proba(X_test)[:,1]\n",
    "predictions_threshold = (predictions_prob >= threshold_85).astype(int)"
   ]
  },
  {
   "cell_type": "code",
   "execution_count": 60,
   "metadata": {},
   "outputs": [
    {
     "data": {
      "image/png": "[encoded data removed]",
      "text/plain": [
       "<Figure size 640x480 with 2 Axes>"
      ]
     },
     "metadata": {},
     "output_type": "display_data"
    }
   ],
   "source": [
    "conf_matrix_threshold = confusion_matrix(y_test, predictions_threshold)\n",
    "sns.heatmap(conf_matrix_threshold, annot=True, fmt=\"d\", cmap=\"Blues\")\n",
    "plt.xlabel(\"Predicted\")\n",
    "plt.ylabel(\"Actual\")\n",
    "plt.title(\"Figure 4: Confusion Matrix - 0.85 Threshold\")\n",
    "#plt.savefig(\"confusion_matrix_threshold.png\")\n",
    "plt.show()\n"
   ]
  },
  {
   "cell_type": "code",
   "execution_count": 22,
   "metadata": {},
   "outputs": [
    {
     "name": "stdout",
     "output_type": "stream",
     "text": [
      "Sensitivity: 0.7050561797752809\n",
      "Specificity: 0.7007299270072993\n",
      "Accuracy: 0.7043580683156655\n"
     ]
    }
   ],
   "source": [
    "TruePositive = conf_matrix_threshold[1,1]\n",
    "TrueNegative = conf_matrix_threshold[0,0]\n",
    "FalsePositive = conf_matrix_threshold[0,1]\n",
    "FalseNegative = conf_matrix_threshold[1,0]\n",
    "\n",
    "Precision = TruePositive / (TruePositive + FalsePositive)\n",
    "Recall = TruePositive / (TruePositive + FalseNegative)\n",
    "Sensitivity = Recall\n",
    "Specificity = TrueNegative / (TrueNegative + FalsePositive)\n",
    "\n",
    "accuracy = accuracy_score(y_test, predictions_threshold)\n",
    "\n",
    "print(\"Sensitivity:\", Sensitivity)\n",
    "print(\"Specificity:\", Specificity)\n",
    "print(\"Accuracy:\", accuracy)"
   ]
  },
  {
   "cell_type": "markdown",
   "metadata": {},
   "source": [
    "### 4.2 - 5-fold cross validation"
   ]
  },
  {
   "cell_type": "code",
   "execution_count": 23,
   "metadata": {},
   "outputs": [],
   "source": [
    "from sklearn.ensemble import RandomForestClassifier  # or RandomForestRegressor for regression\n",
    "from sklearn.model_selection import cross_val_predict, KFold"
   ]
  },
  {
   "cell_type": "code",
   "execution_count": 24,
   "metadata": {},
   "outputs": [],
   "source": [
    "# Preparing data\n",
    "X = bbSimple[['mean_sentiment', 'median_sentiment', 'IQR_sentiment', 'compound_score', 'sentiment_trigram']]  # Specify your features here\n",
    "y = bbSimple['econ_index_dummy']\n"
   ]
  },
  {
   "cell_type": "code",
   "execution_count": 25,
   "metadata": {},
   "outputs": [],
   "source": [
    "model = RandomForestClassifier(n_estimators=100, random_state=7)  # You can adjust hyperparameters as needed\n"
   ]
  },
  {
   "cell_type": "code",
   "execution_count": 26,
   "metadata": {},
   "outputs": [],
   "source": [
    "kf = KFold(n_splits=5, shuffle=True, random_state=42)  # Create a 5-fold cross-validation split\n",
    "\n",
    "# Perform cross-validation and get predictions\n",
    "predictions = cross_val_predict(model, X, y, cv=kf)\n"
   ]
  },
  {
   "cell_type": "markdown",
   "metadata": {},
   "source": [
    "## 5. Model Evaluation"
   ]
  },
  {
   "cell_type": "code",
   "execution_count": 27,
   "metadata": {},
   "outputs": [],
   "source": [
    "# Evaluate the model's performance\n",
    "from sklearn.metrics import accuracy_score, f1_score, precision_score, recall_score  # Use appropriate metrics for your problem\n",
    "\n",
    "accuracy = accuracy_score(y, predictions)\n",
    "f1 = f1_score(y, predictions)\n",
    "precision = precision_score(y, predictions)\n",
    "recall = recall_score(y, predictions)\n"
   ]
  },
  {
   "cell_type": "code",
   "execution_count": 28,
   "metadata": {},
   "outputs": [
    {
     "name": "stdout",
     "output_type": "stream",
     "text": [
      "Accuracy: 0.5693069306930693\n",
      "F1: 0.6279780085522297\n",
      "Precision: 0.5983701979045402\n",
      "Recall: 0.6606683804627249\n"
     ]
    }
   ],
   "source": [
    "print(\"Accuracy:\", accuracy)\n",
    "print(\"F1:\", f1)\n",
    "print(\"Precision:\", precision)\n",
    "print(\"Recall:\", recall)"
   ]
  },
  {
   "cell_type": "code",
   "execution_count": 29,
   "metadata": {},
   "outputs": [
    {
     "name": "stdout",
     "output_type": "stream",
     "text": [
      "Classification Report:\n",
      "              precision    recall  f1-score   support\n",
      "\n",
      "           0       0.52      0.46      0.49      1908\n",
      "           1       0.60      0.66      0.63      2334\n",
      "\n",
      "    accuracy                           0.57      4242\n",
      "   macro avg       0.56      0.56      0.56      4242\n",
      "weighted avg       0.57      0.57      0.57      4242\n",
      "\n"
     ]
    }
   ],
   "source": [
    "from sklearn.metrics import classification_report  # Use appropriate metrics for your problem\n",
    "\n",
    "class_report = classification_report(y, predictions)\n",
    "print(f'Classification Report:\\n{class_report}')\n"
   ]
  },
  {
   "cell_type": "markdown",
   "metadata": {},
   "source": [
    "### 5.2 Cross-validation metric scores"
   ]
  },
  {
   "cell_type": "code",
   "execution_count": 30,
   "metadata": {},
   "outputs": [
    {
     "name": "stdout",
     "output_type": "stream",
     "text": [
      "Cross-validated Accuracy Scores: [0.53592462 0.51943463 0.53891509 0.54481132 0.47641509]\n",
      "Mean Accuracy: 0.5231001511211858\n"
     ]
    }
   ],
   "source": [
    "from sklearn.model_selection import cross_val_score\n",
    "\n",
    "# Perform cross-validation and obtain metric scores (e.g., accuracy)\n",
    "cv_scores = cross_val_score(model, X, y, cv=5)  # cv=5 means 5-fold cross-validation\n",
    "\n",
    "# Print the cross-validated metric scores\n",
    "print(\"Cross-validated Accuracy Scores:\", cv_scores)\n",
    "print(\"Mean Accuracy:\", cv_scores.mean())\n"
   ]
  },
  {
   "cell_type": "markdown",
   "metadata": {},
   "source": [
    "## 6. Results Visualization"
   ]
  },
  {
   "cell_type": "code",
   "execution_count": 31,
   "metadata": {},
   "outputs": [],
   "source": [
    "from sklearn.metrics import confusion_matrix\n",
    "import seaborn as sns\n"
   ]
  },
  {
   "cell_type": "code",
   "execution_count": 32,
   "metadata": {},
   "outputs": [],
   "source": [
    "# Compute the Confusion Matrix:\n",
    "conf_matrix_kfold = confusion_matrix(y, predictions)\n"
   ]
  },
  {
   "cell_type": "code",
   "execution_count": 33,
   "metadata": {},
   "outputs": [
    {
     "data": {
      "image/png": "[encoded data removed]",
      "text/plain": [
       "<Figure size 640x480 with 2 Axes>"
      ]
     },
     "metadata": {},
     "output_type": "display_data"
    }
   ],
   "source": [
    "sns.heatmap(conf_matrix_kfold, annot=True, fmt=\"d\", cmap=\"Blues\")\n",
    "plt.xlabel(\"Predicted\")\n",
    "plt.ylabel(\"Actual\")\n",
    "plt.title(\"Figure 2: Confusion Matrix - k-fold method\")\n",
    "#plt.savefig(\"confusion_matrix_kfold.png\")\n",
    "plt.show()\n"
   ]
  },
  {
   "cell_type": "code",
   "execution_count": 34,
   "metadata": {},
   "outputs": [
    {
     "name": "stdout",
     "output_type": "stream",
     "text": [
      "Sensitivity: 0.6538131962296486\n",
      "Specificity: 0.47851153039832284\n"
     ]
    }
   ],
   "source": [
    "TruePositiveCF = 1526\n",
    "TrueNegativeCF = 913\n",
    "FalsePositiveCF = 995\n",
    "FalseNegativeCF = 808\n",
    "\n",
    "PrecisionCF = TruePositiveCF / (TruePositiveCF + FalsePositiveCF)\n",
    "RecallCF = TruePositiveCF / (TruePositiveCF + FalseNegativeCF)\n",
    "SensitivityCF = RecallCF\n",
    "SpecificityCF = TrueNegativeCF / (TrueNegativeCF + FalsePositiveCF)\n",
    "\n",
    "print(\"Sensitivity:\", SensitivityCF)\n",
    "print(\"Specificity:\", SpecificityCF)"
   ]
  },
  {
   "cell_type": "markdown",
   "metadata": {},
   "source": [
    "### 6.2 - Feature importance plot\n",
    "Want to show how much each predictor mattered."
   ]
  },
  {
   "cell_type": "code",
   "execution_count": 35,
   "metadata": {},
   "outputs": [],
   "source": [
    "from sklearn.ensemble import RandomForestClassifier\n",
    "from sklearn.model_selection import cross_val_predict, KFold"
   ]
  },
  {
   "cell_type": "code",
   "execution_count": 36,
   "metadata": {},
   "outputs": [],
   "source": [
    "# Previously defined 'X' and 'y' and 'kf' for 5-fold cross-validation\n",
    "# Create an empty list to store feature importances for each fold\n",
    "feature_importances_list = []\n",
    "\n",
    "for train_idx, test_idx in kf.split(X):\n",
    "    X_train, X_test = X.iloc[train_idx], X.iloc[test_idx]\n",
    "    y_train, y_test = y.iloc[train_idx], y.iloc[test_idx]\n",
    "    \n",
    "    # Create and train a Random Forest model for this fold\n",
    "    model = RandomForestClassifier(n_estimators=100, random_state=7)\n",
    "    model.fit(X_train, y_train)\n",
    "    \n",
    "    # Retrieve and store feature importances for this fold\n",
    "    feature_importances_list.append(model.feature_importances_)\n"
   ]
  },
  {
   "cell_type": "code",
   "execution_count": 37,
   "metadata": {},
   "outputs": [],
   "source": [
    "\n",
    "# Calculate the mean feature importances across all folds\n",
    "mean_feature_importances = np.mean(feature_importances_list, axis=0)\n",
    "\n",
    "# Create a DataFrame with feature names and their mean importances\n",
    "feature_importance_df = pd.DataFrame({'Feature': X.columns, 'Importance': mean_feature_importances})\n",
    "\n",
    "# Sort the DataFrame by importance in descending order\n",
    "feature_importance_df = feature_importance_df.sort_values(by='Importance', ascending=False)\n"
   ]
  },
  {
   "cell_type": "code",
   "execution_count": 38,
   "metadata": {},
   "outputs": [
    {
     "data": {
      "text/html": [
       "<div>\n",
       "<style scoped>\n",
       "    .dataframe tbody tr th:only-of-type {\n",
       "        vertical-align: middle;\n",
       "    }\n",
       "\n",
       "    .dataframe tbody tr th {\n",
       "        vertical-align: top;\n",
       "    }\n",
       "\n",
       "    .dataframe thead th {\n",
       "        text-align: right;\n",
       "    }\n",
       "</style>\n",
       "<table border=\"1\" class=\"dataframe\">\n",
       "  <thead>\n",
       "    <tr style=\"text-align: right;\">\n",
       "      <th></th>\n",
       "      <th>Feature</th>\n",
       "      <th>Importance</th>\n",
       "    </tr>\n",
       "  </thead>\n",
       "  <tbody>\n",
       "    <tr>\n",
       "      <th>0</th>\n",
       "      <td>mean_sentiment</td>\n",
       "      <td>0.257180</td>\n",
       "    </tr>\n",
       "    <tr>\n",
       "      <th>4</th>\n",
       "      <td>sentiment_trigram</td>\n",
       "      <td>0.229755</td>\n",
       "    </tr>\n",
       "    <tr>\n",
       "      <th>2</th>\n",
       "      <td>IQR_sentiment</td>\n",
       "      <td>0.223157</td>\n",
       "    </tr>\n",
       "    <tr>\n",
       "      <th>3</th>\n",
       "      <td>compound_score</td>\n",
       "      <td>0.212030</td>\n",
       "    </tr>\n",
       "    <tr>\n",
       "      <th>1</th>\n",
       "      <td>median_sentiment</td>\n",
       "      <td>0.077877</td>\n",
       "    </tr>\n",
       "  </tbody>\n",
       "</table>\n",
       "</div>"
      ],
      "text/plain": [
       "             Feature  Importance\n",
       "0     mean_sentiment    0.257180\n",
       "4  sentiment_trigram    0.229755\n",
       "2      IQR_sentiment    0.223157\n",
       "3     compound_score    0.212030\n",
       "1   median_sentiment    0.077877"
      ]
     },
     "execution_count": 38,
     "metadata": {},
     "output_type": "execute_result"
    }
   ],
   "source": [
    "feature_importance_df.head()"
   ]
  },
  {
   "cell_type": "code",
   "execution_count": 42,
   "metadata": {},
   "outputs": [
    {
     "data": {
      "image/png": "[encoded data removed]",
      "text/plain": [
       "<Figure size 1000x600 with 1 Axes>"
      ]
     },
     "metadata": {},
     "output_type": "display_data"
    }
   ],
   "source": [
    "# Set the size of the plot\n",
    "plt.figure(figsize=(10, 6))\n",
    "\n",
    "# Sort the DataFrame by Importance in descending order\n",
    "feature_importance_df = feature_importance_df.sort_values(by='Importance', ascending=True)\n",
    "\n",
    "# Create a bar plot for feature importances\n",
    "plt.barh(feature_importance_df['Feature'], feature_importance_df['Importance'])\n",
    "\n",
    "# Customize the plot\n",
    "plt.xlabel('Feature Importance')\n",
    "plt.ylabel('Feature')\n",
    "plt.title('Figure 5: Feature Importance Plot')\n",
    "plt.tight_layout()\n",
    "\n",
    "# Save the plot\n",
    "#plt.savefig(\"feature_importance.png\")\n",
    "\n",
    "# Show the plot\n",
    "plt.show()\n"
   ]
  },
  {
   "cell_type": "markdown",
   "metadata": {},
   "source": [
    "## 7. Interpretation of Results\n",
    "\n",
    "The model's accuracy is not good; it only correctly predicts whether the economic index is greater or worse than the national average 53.7% of the time. Those results are only marginally better than a guess.\n",
    "\n",
    "However, I expected that with the limited number of variables. Mean sentiment is the most important predictor, followed by interquartile range of the sentiment. Median sentiment does not add much predictive power to the model.\n",
    "\n",
    "My future plan is to improve the model's predictions by adding more predictor variables, namely related to the presence of key trigrams in the document.\n",
    "\n"
   ]
  }
 ],
 "metadata": {
  "kernelspec": {
   "display_name": "base",
   "language": "python",
   "name": "python3"
  },
  "language_info": {
   "codemirror_mode": {
    "name": "ipython",
    "version": 3
   },
   "file_extension": ".py",
   "mimetype": "text/x-python",
   "name": "python",
   "nbconvert_exporter": "python",
   "pygments_lexer": "ipython3",
   "version": "3.11.5"
  }
 },
 "nbformat": 4,
 "nbformat_minor": 2
}
