{
 "cells": [
  {
   "cell_type": "code",
   "execution_count": 3,
   "metadata": {},
   "outputs": [],
   "source": [
    "import pandas as pd\n",
    "import seaborn as sns\n",
    "import matplotlib.pyplot as plt\n",
    "from sklearn.model_selection import cross_val_score, cross_val_predict\n",
    "from sklearn.metrics import accuracy_score, f1_score, precision_score, recall_score, roc_auc_score, confusion_matrix\n",
    "from sklearn.ensemble import RandomForestClassifier\n",
    "import numpy as np\n",
    "from sklearn.model_selection import train_test_split\n"
   ]
  },
  {
   "cell_type": "code",
   "execution_count": 32,
   "metadata": {},
   "outputs": [],
   "source": [
    "# Reading in data and cleaning it up\n",
    "\n",
    "# read in bbNoText.csv as bbSimple\n",
    "bbSimple = pd.read_csv(\"bbNoText_pop.csv\")\n",
    "\n",
    "# Replace Nan with 0\n",
    "bbSimple.fillna(0, inplace=True)\n",
    "\n",
    "# Change Date to datetime format\n",
    "bbSimple['Date'] = pd.to_datetime(bbSimple['Date'])\n",
    "\n",
    "# Log of population variable to put it on similar scale to other variables\n",
    "bbSimple['population'] = np.log(bbSimple['population'])\n"
   ]
  },
  {
   "cell_type": "code",
   "execution_count": 54,
   "metadata": {},
   "outputs": [],
   "source": [
    "# Split the data into training and testing sets\n",
    "\n",
    "train_set, test_set = train_test_split(bbSimple, test_size=0.2, random_state=755)\n",
    "\n",
    "# Divide up X and Y variables in testing and training sets\n",
    "X_train = train_set.drop(columns=['econ_index_change_dummy','econ_index', 'econ_index_change','Year','District','file_name','Date','sentiment_trigram','variance_sentiment'])\n",
    "y_train = train_set['econ_index_change_dummy']\n",
    "X_test = test_set.drop(columns=['econ_index_change_dummy','econ_index', 'econ_index_change','Year','District','file_name','Date','sentiment_trigram','variance_sentiment'])\n",
    "y_test = test_set['econ_index_change_dummy']"
   ]
  },
  {
   "cell_type": "markdown",
   "metadata": {},
   "source": [
    "## Random forest"
   ]
  },
  {
   "cell_type": "code",
   "execution_count": 55,
   "metadata": {},
   "outputs": [
    {
     "name": "stdout",
     "output_type": "stream",
     "text": [
      "Accuracy: 0.85\n",
      "Precision: 0.88\n",
      "Recall: 0.96\n",
      "Specificity: 0.25\n",
      "AUC: 0.79\n",
      "Confusion Matrix:\n",
      "[[ 36 106]\n",
      " [ 35 763]]\n"
     ]
    }
   ],
   "source": [
    "# Create the Random Forest model\n",
    "model = RandomForestClassifier(n_estimators=100, random_state=755)\n",
    "\n",
    "# Fit the model\n",
    "model.fit(X_train, y_train)\n",
    "\n",
    "# Predict on the test set\n",
    "y_pred = model.predict(X_test)\n",
    "\n",
    "#cv_scores = cross_val_score(model, X, y, cv=k, scoring='accuracy')\n",
    "#cv_predictions = cross_val_predict(model, X, y, cv=k)\n",
    "\n",
    "# Calculate additional metrics\n",
    "accuracyRF = accuracy_score(y_test, y_pred)\n",
    "precisionRF = precision_score(y_test, y_pred)\n",
    "specificityRF = recall_score(y_test, y_pred, pos_label=0)\n",
    "recallRF = recall_score(y_test, y_pred)\n",
    "# Use predicted probabilities for AUC\n",
    "y_prob = model.predict_proba(X_test)[:, 1]\n",
    "aucRF = roc_auc_score(y_test, y_prob)\n",
    "conf_matrixRF = confusion_matrix(y_test, y_pred)\n",
    "\n",
    "# Print the metrics\n",
    "# rounded to 2 decimal places\n",
    "print(\"Accuracy:\", round(accuracyRF, 2))\n",
    "print(\"Precision:\", round(precisionRF, 2))\n",
    "print(\"Recall:\", round(recallRF, 2))\n",
    "print(\"Specificity:\", round(specificityRF, 2))\n",
    "print(\"AUC:\", round(aucRF, 2))\n",
    "print(\"Confusion Matrix:\")\n",
    "print(conf_matrixRF)\n"
   ]
  },
  {
   "cell_type": "markdown",
   "metadata": {},
   "source": [
    "## Support Vector Machine"
   ]
  },
  {
   "cell_type": "code",
   "execution_count": 56,
   "metadata": {},
   "outputs": [
    {
     "name": "stdout",
     "output_type": "stream",
     "text": [
      "Accuracy: 0.85\n",
      "Precision: 0.87\n",
      "Recall: 0.96\n",
      "Specificity: 0.22\n",
      "AUC: 0.68\n",
      "Confusion Matrix:\n",
      "[[ 31 111]\n",
      " [ 34 764]]\n"
     ]
    }
   ],
   "source": [
    "from sklearn.svm import SVC\n",
    "\n",
    "model = SVC(probability=True, random_state=755)\n",
    "model.fit(X_train, y_train)\n",
    "y_pred = model.predict(X_test)\n",
    "\n",
    "# Calculate additional metrics\n",
    "accuracySVM = accuracy_score(y_test, y_pred)\n",
    "precisionSVM = precision_score(y_test, y_pred)\n",
    "specificitySVM = recall_score(y_test, y_pred, pos_label=0)\n",
    "recallSVM = recall_score(y_test, y_pred)\n",
    "# Use predicted probabilities for AUC\n",
    "y_prob = model.predict_proba(X_test)[:, 1]\n",
    "aucSVM = roc_auc_score(y_test, y_prob)\n",
    "conf_matrixSVM = confusion_matrix(y_test, y_pred)\n",
    "\n",
    "# Print the metrics\n",
    "# rounded to 2 decimal places\n",
    "print(\"Accuracy:\", round(accuracySVM, 2))\n",
    "print(\"Precision:\", round(precisionSVM, 2))\n",
    "print(\"Recall:\", round(recallSVM, 2))\n",
    "print(\"Specificity:\", round(specificitySVM, 2))\n",
    "print(\"AUC:\", round(aucSVM, 2))\n",
    "print(\"Confusion Matrix:\")\n",
    "print(conf_matrixSVM)\n"
   ]
  },
  {
   "cell_type": "markdown",
   "metadata": {},
   "source": [
    "## Logistic Regression"
   ]
  },
  {
   "cell_type": "code",
   "execution_count": 57,
   "metadata": {},
   "outputs": [
    {
     "name": "stdout",
     "output_type": "stream",
     "text": [
      "Accuracy: 0.84\n",
      "Precision: 0.87\n",
      "Recall: 0.96\n",
      "Specificity: 0.18\n",
      "AUC: 0.76\n",
      "Confusion Matrix:\n",
      "[[ 25 117]\n",
      " [ 31 767]]\n"
     ]
    }
   ],
   "source": [
    "from sklearn.linear_model import LogisticRegression\n",
    "\n",
    "model = LogisticRegression(random_state=755)\n",
    "model.fit(X_train, y_train)\n",
    "y_pred = model.predict(X_test)\n",
    "\n",
    "# Calculate additional metrics\n",
    "accuracyLogit = accuracy_score(y_test, y_pred)\n",
    "precisionLogit = precision_score(y_test, y_pred)\n",
    "specificityLogit = recall_score(y_test, y_pred, pos_label=0)\n",
    "recallLogit = recall_score(y_test, y_pred)\n",
    "# Use predicted probabilities for AUC\n",
    "y_prob = model.predict_proba(X_test)[:, 1]\n",
    "aucLogit = roc_auc_score(y_test, y_prob)\n",
    "conf_matrixLogit = confusion_matrix(y_test, y_pred)\n",
    "\n",
    "# Print the metrics\n",
    "# rounded to 2 decimal places\n",
    "print(\"Accuracy:\", round(accuracyLogit, 2))\n",
    "print(\"Precision:\", round(precisionLogit, 2))\n",
    "print(\"Recall:\", round(recallLogit, 2))\n",
    "print(\"Specificity:\", round(specificityLogit, 2))\n",
    "print(\"AUC:\", round(aucLogit, 2))\n",
    "print(\"Confusion Matrix:\")\n",
    "print(conf_matrixLogit)"
   ]
  },
  {
   "cell_type": "markdown",
   "metadata": {},
   "source": [
    "## k_Nearest Neighbors"
   ]
  },
  {
   "cell_type": "code",
   "execution_count": 58,
   "metadata": {},
   "outputs": [
    {
     "name": "stdout",
     "output_type": "stream",
     "text": [
      "Accuracy: 0.85\n",
      "Precision: 0.88\n",
      "Recall: 0.95\n",
      "Specificity: 0.28\n",
      "AUC: 0.7\n",
      "Confusion Matrix:\n",
      "[[ 40 102]\n",
      " [ 38 760]]\n"
     ]
    }
   ],
   "source": [
    "from sklearn.neighbors import KNeighborsClassifier\n",
    "\n",
    "model = KNeighborsClassifier(n_neighbors=5)\n",
    "model.fit(X_train, y_train)\n",
    "y_pred = model.predict(X_test)\n",
    "\n",
    "# Calculate additional metrics\n",
    "accuracyKNN = accuracy_score(y_test, y_pred)\n",
    "precisionKNN = precision_score(y_test, y_pred)\n",
    "specificityKNN = recall_score(y_test, y_pred, pos_label=0)\n",
    "recallKNN = recall_score(y_test, y_pred)\n",
    "# Use predicted probabilities for AUC\n",
    "y_prob = model.predict_proba(X_test)[:, 1]\n",
    "aucKNN = roc_auc_score(y_test, y_prob)\n",
    "conf_matrixKNN = confusion_matrix(y_test, y_pred)\n",
    "\n",
    "# Print the metrics\n",
    "# rounded to 2 decimal places\n",
    "print(\"Accuracy:\", round(accuracyKNN, 2))\n",
    "print(\"Precision:\", round(precisionKNN, 2))\n",
    "print(\"Recall:\", round(recallKNN, 2))\n",
    "print(\"Specificity:\", round(specificityKNN, 2))\n",
    "print(\"AUC:\", round(aucKNN, 2))\n",
    "print(\"Confusion Matrix:\")\n",
    "print(conf_matrixKNN)"
   ]
  },
  {
   "cell_type": "markdown",
   "metadata": {},
   "source": [
    "## XGBoost"
   ]
  },
  {
   "cell_type": "code",
   "execution_count": 59,
   "metadata": {},
   "outputs": [
    {
     "name": "stdout",
     "output_type": "stream",
     "text": [
      "Accuracy: 0.86\n",
      "Precision: 0.88\n",
      "Recall: 0.96\n",
      "Specificity: 0.28\n",
      "AUC: 0.8\n",
      "Confusion Matrix:\n",
      "[[ 40 102]\n",
      " [ 31 767]]\n"
     ]
    }
   ],
   "source": [
    "from xgboost import XGBClassifier\n",
    "\n",
    "model = XGBClassifier(random_state=755)\n",
    "model.fit(X_train, y_train)\n",
    "y_pred = model.predict(X_test)\n",
    "\n",
    "# Calculate additional metrics\n",
    "accuracyXG = accuracy_score(y_test, y_pred)\n",
    "precisionXG = precision_score(y_test, y_pred)\n",
    "specificityXG = recall_score(y_test, y_pred, pos_label=0)\n",
    "recallXG = recall_score(y_test, y_pred)\n",
    "# Use predicted probabilities for AUC\n",
    "y_prob = model.predict_proba(X_test)[:, 1]\n",
    "aucXG = roc_auc_score(y_test, y_prob)\n",
    "conf_matrixXG = confusion_matrix(y_test, y_pred)\n",
    "\n",
    "# Print the metrics\n",
    "# rounded to 2 decimal places\n",
    "print(\"Accuracy:\", round(accuracyXG, 2))\n",
    "print(\"Precision:\", round(precisionXG, 2))\n",
    "print(\"Recall:\", round(recallXG, 2))\n",
    "print(\"Specificity:\", round(specificityXG, 2))\n",
    "print(\"AUC:\", round(aucXG, 2))\n",
    "print(\"Confusion Matrix:\")\n",
    "print(conf_matrixXG)"
   ]
  },
  {
   "cell_type": "markdown",
   "metadata": {},
   "source": [
    "## AdaBoost"
   ]
  },
  {
   "cell_type": "code",
   "execution_count": 60,
   "metadata": {},
   "outputs": [
    {
     "name": "stdout",
     "output_type": "stream",
     "text": [
      "Accuracy: 0.85\n",
      "Precision: 0.88\n",
      "Recall: 0.95\n",
      "Specificity: 0.25\n",
      "AUC: 0.78\n",
      "Confusion Matrix:\n",
      "[[ 35 107]\n",
      " [ 36 762]]\n"
     ]
    }
   ],
   "source": [
    "from sklearn.ensemble import AdaBoostClassifier\n",
    "\n",
    "model = AdaBoostClassifier(n_estimators=100, random_state=755)\n",
    "model.fit(X_train, y_train)\n",
    "y_pred = model.predict(X_test)\n",
    "\n",
    "# Calculate additional metrics\n",
    "accuracyADA = accuracy_score(y_test, y_pred)\n",
    "precisionADA = precision_score(y_test, y_pred)\n",
    "specificityADA = recall_score(y_test, y_pred, pos_label=0)\n",
    "recallADA = recall_score(y_test, y_pred)\n",
    "# Use predicted probabilities for AUC\n",
    "y_prob = model.predict_proba(X_test)[:, 1]\n",
    "aucADA = roc_auc_score(y_test, y_prob)\n",
    "conf_matrixADA = confusion_matrix(y_test, y_pred)\n",
    "\n",
    "# Print the metrics\n",
    "# rounded to 2 decimal places\n",
    "print(\"Accuracy:\", round(accuracyADA, 2))\n",
    "print(\"Precision:\", round(precisionADA, 2))\n",
    "print(\"Recall:\", round(recallADA, 2))\n",
    "print(\"Specificity:\", round(specificityADA, 2))\n",
    "print(\"AUC:\", round(aucADA, 2))\n",
    "print(\"Confusion Matrix:\")\n",
    "print(conf_matrixADA)"
   ]
  },
  {
   "cell_type": "markdown",
   "metadata": {},
   "source": [
    "## Artifical Neural Network"
   ]
  },
  {
   "cell_type": "code",
   "execution_count": 61,
   "metadata": {},
   "outputs": [
    {
     "name": "stdout",
     "output_type": "stream",
     "text": [
      "Accuracy: 0.84\n",
      "Precision: 0.87\n",
      "Recall: 0.96\n",
      "Specificity: 0.17\n",
      "AUC: 0.76\n",
      "Confusion Matrix:\n",
      "[[ 24 118]\n",
      " [ 30 768]]\n"
     ]
    }
   ],
   "source": [
    "from sklearn.neural_network import MLPClassifier\n",
    "\n",
    "model = MLPClassifier(random_state=755)\n",
    "model.fit(X_train, y_train)\n",
    "y_pred = model.predict(X_test)\n",
    "\n",
    "# Calculate additional metrics\n",
    "accuracyANN = accuracy_score(y_test, y_pred)\n",
    "precisionANN = precision_score(y_test, y_pred)\n",
    "specificityANN = recall_score(y_test, y_pred, pos_label=0)\n",
    "recallANN = recall_score(y_test, y_pred)\n",
    "# Use predicted probabilities for AUC\n",
    "y_prob = model.predict_proba(X_test)[:, 1]\n",
    "aucANN = roc_auc_score(y_test, y_prob)\n",
    "conf_matrixANN = confusion_matrix(y_test, y_pred)\n",
    "\n",
    "# Print the metrics\n",
    "# rounded to 2 decimal places\n",
    "print(\"Accuracy:\", round(accuracyANN, 2))\n",
    "print(\"Precision:\", round(precisionANN, 2))\n",
    "print(\"Recall:\", round(recallANN, 2))\n",
    "print(\"Specificity:\", round(specificityANN, 2))\n",
    "print(\"AUC:\", round(aucANN, 2))\n",
    "print(\"Confusion Matrix:\")\n",
    "print(conf_matrixANN)"
   ]
  },
  {
   "cell_type": "markdown",
   "metadata": {},
   "source": [
    "## Comparing results"
   ]
  },
  {
   "cell_type": "code",
   "execution_count": 72,
   "metadata": {},
   "outputs": [
    {
     "name": "stdout",
     "output_type": "stream",
     "text": [
      "                       Model  Accuracy  Recall  Specificity   AUC\n",
      "4                    XGBoost      0.86    0.96         0.28  0.80\n",
      "0              Random Forest      0.85    0.96         0.25  0.79\n",
      "5                   AdaBoost      0.85    0.95         0.25  0.78\n",
      "2        Logistic Regression      0.84    0.96         0.18  0.76\n",
      "6  Artificial Neural Network      0.84    0.96         0.17  0.76\n",
      "3        K-Nearest-Neighbors      0.85    0.95         0.28  0.70\n",
      "1     Support Vector Machine      0.85    0.96         0.22  0.68\n"
     ]
    }
   ],
   "source": [
    "# Create a table of the metrics\n",
    "# Use Accuracy, recall, specificity, and AUC\n",
    "\n",
    "# Create a dictionary of the metrics\n",
    "metrics = {\n",
    "    'Model': ['Random Forest', 'Support Vector Machine', 'Logistic Regression', 'K-Nearest-Neighbors', 'XGBoost', 'AdaBoost', 'Artificial Neural Network'],\n",
    "    'Accuracy': [accuracyRF, accuracySVM, accuracyLogit, accuracyKNN, accuracyXG, accuracyADA, accuracyANN],\n",
    "    'Recall': [recallRF, recallSVM, recallLogit, recallKNN, recallXG, recallADA, recallANN],\n",
    "    'Specificity': [specificityRF, specificitySVM, specificityLogit, specificityKNN, specificityXG, specificityADA, specificityANN],\n",
    "    'AUC': [aucRF, aucSVM, aucLogit, aucKNN, aucXG, aucADA, aucANN]\n",
    "}\n",
    "\n",
    "# Create a DataFrame from the dictionary\n",
    "metrics_df = pd.DataFrame(metrics)\n",
    "\n",
    "# Round the metrics to 2 decimal places\n",
    "metrics_df = metrics_df.round(2)\n",
    "\n",
    "# Order them according to AUC\n",
    "metrics_df = metrics_df.sort_values('AUC', ascending=False)\n",
    "# Print the table\n",
    "print(metrics_df)\n"
   ]
  },
  {
   "cell_type": "code",
   "execution_count": 92,
   "metadata": {},
   "outputs": [
    {
     "data": {
      "text/html": [
       "<div id=\"zqhdruveds\" style=\"padding-left:0px;padding-right:0px;padding-top:10px;padding-bottom:10px;overflow-x:auto;overflow-y:auto;width:auto;height:auto;\">\n",
       "<style>\n",
       "#zqhdruveds table {\n",
       "          font-family: -apple-system, BlinkMacSystemFont, 'Segoe UI', Roboto, Oxygen, Ubuntu, Cantarell, 'Helvetica Neue', 'Fira Sans', 'Droid Sans', Arial, sans-serif;\n",
       "          -webkit-font-smoothing: antialiased;\n",
       "          -moz-osx-font-smoothing: grayscale;\n",
       "        }\n",
       "\n",
       "#zqhdruveds thead, tbody, tfoot, tr, td, th { border-style: none !important; }\n",
       " tr { background-color: transparent !important; }\n",
       "#zqhdruveds p { margin: 0 !important; padding: 0 !important; }\n",
       " #zqhdruveds .gt_table { display: table !important; border-collapse: collapse !important; line-height: normal !important; margin-left: auto !important; margin-right: auto !important; color: #333333 !important; font-size: 16px !important; font-weight: normal !important; font-style: normal !important; background-color: #FFFFFF !important; width: auto !important; border-top-style: solid !important; border-top-width: 2px !important; border-top-color: #A8A8A8 !important; border-right-style: none !important; border-right-width: 2px !important; border-right-color: #D3D3D3 !important; border-bottom-style: solid !important; border-bottom-width: 2px !important; border-bottom-color: #A8A8A8 !important; border-left-style: none !important; border-left-width: 2px !important; border-left-color: #D3D3D3 !important; }\n",
       " #zqhdruveds .gt_caption { padding-top: 4px !important; padding-bottom: 4px !important; }\n",
       " #zqhdruveds .gt_title { color: #333333 !important; font-size: 125% !important; font-weight: initial !important; padding-top: 4px !important; padding-bottom: 4px !important; padding-left: 5px !important; padding-right: 5px !important; border-bottom-color: #FFFFFF !important; border-bottom-width: 0 !important; }\n",
       " #zqhdruveds .gt_subtitle { color: #333333 !important; font-size: 85% !important; font-weight: initial !important; padding-top: 3px !important; padding-bottom: 5px !important; padding-left: 5px !important; padding-right: 5px !important; border-top-color: #FFFFFF !important; border-top-width: 0 !important; }\n",
       " #zqhdruveds .gt_heading { background-color: #FFFFFF !important; text-align: center !important; border-bottom-color: #FFFFFF !important; border-left-style: none !important; border-left-width: 1px !important; border-left-color: #D3D3D3 !important; border-right-style: none !important; border-right-width: 1px !important; border-right-color: #D3D3D3 !important; }\n",
       " #zqhdruveds .gt_bottom_border { border-bottom-style: solid !important; border-bottom-width: 2px !important; border-bottom-color: #D3D3D3 !important; }\n",
       " #zqhdruveds .gt_col_headings { border-top-style: solid !important; border-top-width: 2px !important; border-top-color: #D3D3D3 !important; border-bottom-style: solid !important; border-bottom-width: 2px !important; border-bottom-color: #D3D3D3 !important; border-left-style: none !important; border-left-width: 1px !important; border-left-color: #D3D3D3 !important; border-right-style: none !important; border-right-width: 1px !important; border-right-color: #D3D3D3 !important; }\n",
       " #zqhdruveds .gt_col_heading { color: #333333 !important; background-color: #FFFFFF !important; font-size: 100% !important; font-weight: normal !important; text-transform: inherit !important; border-left-style: none !important; border-left-width: 1px !important; border-left-color: #D3D3D3 !important; border-right-style: none !important; border-right-width: 1px !important; border-right-color: #D3D3D3 !important; vertical-align: bottom !important; padding-top: 5px !important; padding-bottom: 5px !important; padding-left: 5px !important; padding-right: 5px !important; overflow-x: hidden !important; }\n",
       " #zqhdruveds .gt_column_spanner_outer { color: #333333 !important; background-color: #FFFFFF !important; font-size: 100% !important; font-weight: normal !important; text-transform: inherit !important; padding-top: 0 !important; padding-bottom: 0 !important; padding-left: 4px !important; padding-right: 4px !important; }\n",
       " #zqhdruveds .gt_column_spanner_outer:first-child { padding-left: 0 !important; }\n",
       " #zqhdruveds .gt_column_spanner_outer:last-child { padding-right: 0 !important; }\n",
       " #zqhdruveds .gt_column_spanner { border-bottom-style: solid !important; border-bottom-width: 2px !important; border-bottom-color: #D3D3D3 !important; vertical-align: bottom !important; padding-top: 5px !important; padding-bottom: 5px !important; overflow-x: hidden !important; display: inline-block !important; width: 100% !important; }\n",
       " #zqhdruveds .gt_spanner_row { border-bottom-style: hidden !important; }\n",
       " #zqhdruveds .gt_group_heading { padding-top: 8px !important; padding-bottom: 8px !important; padding-left: 5px !important; padding-right: 5px !important; color: #333333 !important; background-color: #FFFFFF !important; font-size: 100% !important; font-weight: initial !important; text-transform: inherit !important; border-top-style: solid !important; border-top-width: 2px !important; border-top-color: #D3D3D3 !important; border-bottom-style: solid !important; border-bottom-width: 2px !important; border-bottom-color: #D3D3D3 !important; border-left-style: none !important; border-left-width: 1px !important; border-left-color: #D3D3D3 !important; border-right-style: none !important; border-right-width: 1px !important; border-right-color: #D3D3D3 !important; vertical-align: middle !important; text-align: left !important; }\n",
       " #zqhdruveds .gt_empty_group_heading { padding: 0.5px !important; color: #333333 !important; background-color: #FFFFFF !important; font-size: 100% !important; font-weight: initial !important; border-top-style: solid !important; border-top-width: 2px !important; border-top-color: #D3D3D3 !important; border-bottom-style: solid !important; border-bottom-width: 2px !important; border-bottom-color: #D3D3D3 !important; vertical-align: middle !important; }\n",
       " #zqhdruveds .gt_from_md> :first-child { margin-top: 0 !important; }\n",
       " #zqhdruveds .gt_from_md> :last-child { margin-bottom: 0 !important; }\n",
       " #zqhdruveds .gt_row { padding-top: 8px !important; padding-bottom: 8px !important; padding-left: 5px !important; padding-right: 5px !important; margin: 10px !important; border-top-style: solid !important; border-top-width: 1px !important; border-top-color: #D3D3D3 !important; border-left-style: none !important; border-left-width: 1px !important; border-left-color: #D3D3D3 !important; border-right-style: none !important; border-right-width: 1px !important; border-right-color: #D3D3D3 !important; vertical-align: middle !important; overflow-x: hidden !important; }\n",
       " #zqhdruveds .gt_stub { color: #333333 !important; background-color: #FFFFFF !important; font-size: 100% !important; font-weight: initial !important; text-transform: inherit !important; border-right-style: solid !important; border-right-width: 2px !important; border-right-color: #D3D3D3 !important; padding-left: 5px !important; padding-right: 5px !important; }\n",
       " #zqhdruveds .gt_stub_row_group { color: #333333 !important; background-color: #FFFFFF !important; font-size: 100% !important; font-weight: initial !important; text-transform: inherit !important; border-right-style: solid !important; border-right-width: 2px !important; border-right-color: #D3D3D3 !important; padding-left: 5px !important; padding-right: 5px !important; vertical-align: top !important; }\n",
       " #zqhdruveds .gt_row_group_first td { border-top-width: 2px !important; }\n",
       " #zqhdruveds .gt_row_group_first th { border-top-width: 2px !important; }\n",
       " #zqhdruveds .gt_table_body { border-top-style: solid !important; border-top-width: 2px !important; border-top-color: #D3D3D3 !important; border-bottom-style: solid !important; border-bottom-width: 2px !important; border-bottom-color: #D3D3D3 !important; }\n",
       " #zqhdruveds .gt_sourcenotes { color: #333333 !important; background-color: #FFFFFF !important; border-bottom-style: none !important; border-bottom-width: 2px !important; border-bottom-color: #D3D3D3 !important; border-left-style: none !important; border-left-width: 2px !important; border-left-color: #D3D3D3 !important; border-right-style: none !important; border-right-width: 2px !important; border-right-color: #D3D3D3 !important; }\n",
       " #zqhdruveds .gt_sourcenote { font-size: 90% !important; padding-top: 4px !important; padding-bottom: 4px !important; padding-left: 5px !important; padding-right: 5px !important; text-align: left !important; }\n",
       " #zqhdruveds .gt_left { text-align: left !important; }\n",
       " #zqhdruveds .gt_center { text-align: center !important; }\n",
       " #zqhdruveds .gt_right { text-align: right !important; font-variant-numeric: tabular-nums !important; }\n",
       " #zqhdruveds .gt_font_normal { font-weight: normal !important; }\n",
       " #zqhdruveds .gt_font_bold { font-weight: bold !important; }\n",
       " #zqhdruveds .gt_font_italic { font-style: italic !important; }\n",
       " #zqhdruveds .gt_super { font-size: 65% !important; }\n",
       " #zqhdruveds .gt_footnote_marks { font-size: 75% !important; vertical-align: 0.4em !important; position: initial !important; }\n",
       " #zqhdruveds .gt_asterisk { font-size: 100% !important; vertical-align: 0 !important; }\n",
       " \n",
       "</style>\n",
       "<table class=\"gt_table\" data-quarto-disable-processing=\"false\" data-quarto-bootstrap=\"false\">\n",
       "<thead>\n",
       "\n",
       "  <tr class=\"gt_heading\">\n",
       "    <td colspan=\"5\" class=\"gt_heading gt_title gt_font_normal\"><strong>Model Performance Comparison</strong></td>\n",
       "  </tr>\n",
       "<tr class=\"gt_col_headings\">\n",
       "  <th class=\"gt_col_heading gt_columns_bottom_border gt_left\" rowspan=\"1\" colspan=\"1\" scope=\"col\" id=\"Model\">Model</th>\n",
       "  <th class=\"gt_col_heading gt_columns_bottom_border gt_right\" rowspan=\"1\" colspan=\"1\" scope=\"col\" id=\"Accuracy\">Accuracy</th>\n",
       "  <th class=\"gt_col_heading gt_columns_bottom_border gt_right\" rowspan=\"1\" colspan=\"1\" scope=\"col\" id=\"Recall\">Recall</th>\n",
       "  <th class=\"gt_col_heading gt_columns_bottom_border gt_right\" rowspan=\"1\" colspan=\"1\" scope=\"col\" id=\"Specificity\">Specificity</th>\n",
       "  <th class=\"gt_col_heading gt_columns_bottom_border gt_right\" rowspan=\"1\" colspan=\"1\" scope=\"col\" id=\"AUC\">AUC</th>\n",
       "</tr>\n",
       "</thead>\n",
       "<tbody class=\"gt_table_body\">\n",
       "  <tr>\n",
       "    <td class=\"gt_row gt_left\">XGBoost</td>\n",
       "    <td class=\"gt_row gt_right\">0.86</td>\n",
       "    <td class=\"gt_row gt_right\">0.96</td>\n",
       "    <td class=\"gt_row gt_right\">0.28</td>\n",
       "    <td class=\"gt_row gt_right\">0.8</td>\n",
       "  </tr>\n",
       "  <tr>\n",
       "    <td style=\"background-color: lightgrey;\" class=\"gt_row gt_left\">Random Forest</td>\n",
       "    <td style=\"background-color: lightgrey;\" class=\"gt_row gt_right\">0.85</td>\n",
       "    <td style=\"background-color: lightgrey;\" class=\"gt_row gt_right\">0.96</td>\n",
       "    <td style=\"background-color: lightgrey;\" class=\"gt_row gt_right\">0.25</td>\n",
       "    <td style=\"background-color: lightgrey;\" class=\"gt_row gt_right\">0.79</td>\n",
       "  </tr>\n",
       "  <tr>\n",
       "    <td class=\"gt_row gt_left\">AdaBoost</td>\n",
       "    <td class=\"gt_row gt_right\">0.85</td>\n",
       "    <td class=\"gt_row gt_right\">0.95</td>\n",
       "    <td class=\"gt_row gt_right\">0.25</td>\n",
       "    <td class=\"gt_row gt_right\">0.78</td>\n",
       "  </tr>\n",
       "  <tr>\n",
       "    <td style=\"background-color: lightgrey;\" class=\"gt_row gt_left\">Logistic Regression</td>\n",
       "    <td style=\"background-color: lightgrey;\" class=\"gt_row gt_right\">0.84</td>\n",
       "    <td style=\"background-color: lightgrey;\" class=\"gt_row gt_right\">0.96</td>\n",
       "    <td style=\"background-color: lightgrey;\" class=\"gt_row gt_right\">0.18</td>\n",
       "    <td style=\"background-color: lightgrey;\" class=\"gt_row gt_right\">0.76</td>\n",
       "  </tr>\n",
       "  <tr>\n",
       "    <td class=\"gt_row gt_left\">Artificial Neural Network</td>\n",
       "    <td class=\"gt_row gt_right\">0.84</td>\n",
       "    <td class=\"gt_row gt_right\">0.96</td>\n",
       "    <td class=\"gt_row gt_right\">0.17</td>\n",
       "    <td class=\"gt_row gt_right\">0.76</td>\n",
       "  </tr>\n",
       "  <tr>\n",
       "    <td style=\"background-color: lightgrey;\" class=\"gt_row gt_left\">K-Nearest-Neighbors</td>\n",
       "    <td style=\"background-color: lightgrey;\" class=\"gt_row gt_right\">0.85</td>\n",
       "    <td style=\"background-color: lightgrey;\" class=\"gt_row gt_right\">0.95</td>\n",
       "    <td style=\"background-color: lightgrey;\" class=\"gt_row gt_right\">0.28</td>\n",
       "    <td style=\"background-color: lightgrey;\" class=\"gt_row gt_right\">0.7</td>\n",
       "  </tr>\n",
       "  <tr>\n",
       "    <td class=\"gt_row gt_left\">Support Vector Machine</td>\n",
       "    <td class=\"gt_row gt_right\">0.85</td>\n",
       "    <td class=\"gt_row gt_right\">0.96</td>\n",
       "    <td class=\"gt_row gt_right\">0.22</td>\n",
       "    <td class=\"gt_row gt_right\">0.68</td>\n",
       "  </tr>\n",
       "</tbody>\n",
       "\n",
       "\n",
       "</table>\n",
       "\n",
       "</div>\n",
       "        "
      ],
      "text/plain": [
       "GT(_tbl_data=                       Model  Accuracy  Recall  Specificity   AUC\n",
       "4                    XGBoost      0.86    0.96         0.28  0.80\n",
       "0              Random Forest      0.85    0.96         0.25  0.79\n",
       "5                   AdaBoost      0.85    0.95         0.25  0.78\n",
       "2        Logistic Regression      0.84    0.96         0.18  0.76\n",
       "6  Artificial Neural Network      0.84    0.96         0.17  0.76\n",
       "3        K-Nearest-Neighbors      0.85    0.95         0.28  0.70\n",
       "1     Support Vector Machine      0.85    0.96         0.22  0.68, _body=<great_tables._gt_data.Body object at 0x00000240ED409010>, _boxhead=Boxhead([ColInfo(var='Model', type=<ColInfoTypeEnum.default: 1>, column_label='Model', column_align='left', column_width=None), ColInfo(var='Accuracy', type=<ColInfoTypeEnum.default: 1>, column_label='Accuracy', column_align='right', column_width=None), ColInfo(var='Recall', type=<ColInfoTypeEnum.default: 1>, column_label='Recall', column_align='right', column_width=None), ColInfo(var='Specificity', type=<ColInfoTypeEnum.default: 1>, column_label='Specificity', column_align='right', column_width=None), ColInfo(var='AUC', type=<ColInfoTypeEnum.default: 1>, column_label='AUC', column_align='right', column_width=None)]), _stub=<great_tables._gt_data.Stub object at 0x00000240ED406C50>, _spanners=Spanners([]), _heading=Heading(title=Md(text='**Model Performance Comparison**'), subtitle=None, preheader=None), _stubhead=None, _source_notes=[], _footnotes=[], _styles=[StyleInfo(locname='data', locnum=5, grpname=None, colname='Model', rownum=1, colnum=None, styles=[CellStyleFill(color='lightgrey')]), StyleInfo(locname='data', locnum=5, grpname=None, colname='Model', rownum=3, colnum=None, styles=[CellStyleFill(color='lightgrey')]), StyleInfo(locname='data', locnum=5, grpname=None, colname='Model', rownum=5, colnum=None, styles=[CellStyleFill(color='lightgrey')]), StyleInfo(locname='data', locnum=5, grpname=None, colname='Accuracy', rownum=1, colnum=None, styles=[CellStyleFill(color='lightgrey')]), StyleInfo(locname='data', locnum=5, grpname=None, colname='Accuracy', rownum=3, colnum=None, styles=[CellStyleFill(color='lightgrey')]), StyleInfo(locname='data', locnum=5, grpname=None, colname='Accuracy', rownum=5, colnum=None, styles=[CellStyleFill(color='lightgrey')]), StyleInfo(locname='data', locnum=5, grpname=None, colname='Recall', rownum=1, colnum=None, styles=[CellStyleFill(color='lightgrey')]), StyleInfo(locname='data', locnum=5, grpname=None, colname='Recall', rownum=3, colnum=None, styles=[CellStyleFill(color='lightgrey')]), StyleInfo(locname='data', locnum=5, grpname=None, colname='Recall', rownum=5, colnum=None, styles=[CellStyleFill(color='lightgrey')]), StyleInfo(locname='data', locnum=5, grpname=None, colname='Specificity', rownum=1, colnum=None, styles=[CellStyleFill(color='lightgrey')]), StyleInfo(locname='data', locnum=5, grpname=None, colname='Specificity', rownum=3, colnum=None, styles=[CellStyleFill(color='lightgrey')]), StyleInfo(locname='data', locnum=5, grpname=None, colname='Specificity', rownum=5, colnum=None, styles=[CellStyleFill(color='lightgrey')]), StyleInfo(locname='data', locnum=5, grpname=None, colname='AUC', rownum=1, colnum=None, styles=[CellStyleFill(color='lightgrey')]), StyleInfo(locname='data', locnum=5, grpname=None, colname='AUC', rownum=3, colnum=None, styles=[CellStyleFill(color='lightgrey')]), StyleInfo(locname='data', locnum=5, grpname=None, colname='AUC', rownum=5, colnum=None, styles=[CellStyleFill(color='lightgrey')])], _locale=<great_tables._gt_data.Locale object at 0x00000240ED3A3190>, _formats=[], _substitutions=[], _options=Options(table_id=OptionsInfo(scss=False, category='table', type='value', value=None), table_caption=OptionsInfo(scss=False, category='table', type='value', value=None), table_width=OptionsInfo(scss=True, category='table', type='px', value='auto'), table_layout=OptionsInfo(scss=True, category='table', type='value', value='fixed'), table_margin_left=OptionsInfo(scss=True, category='table', type='px', value='auto'), table_margin_right=OptionsInfo(scss=True, category='table', type='px', value='auto'), table_background_color=OptionsInfo(scss=True, category='table', type='value', value='#FFFFFF'), table_font_names=OptionsInfo(scss=False, category='table', type='values', value=['-apple-system', 'BlinkMacSystemFont', 'Segoe UI', 'Roboto', 'Oxygen', 'Ubuntu', 'Cantarell', 'Helvetica Neue', 'Fira Sans', 'Droid Sans', 'Arial', 'sans-serif']), table_font_size=OptionsInfo(scss=True, category='table', type='px', value='16px'), table_font_weight=OptionsInfo(scss=True, category='table', type='value', value='normal'), table_font_style=OptionsInfo(scss=True, category='table', type='value', value='normal'), table_font_color=OptionsInfo(scss=True, category='table', type='value', value='#333333'), table_font_color_light=OptionsInfo(scss=True, category='table', type='value', value='#FFFFFF'), table_border_top_include=OptionsInfo(scss=False, category='table', type='boolean', value=True), table_border_top_style=OptionsInfo(scss=True, category='table', type='value', value='solid'), table_border_top_width=OptionsInfo(scss=True, category='table', type='px', value='2px'), table_border_top_color=OptionsInfo(scss=True, category='table', type='value', value='#A8A8A8'), table_border_right_style=OptionsInfo(scss=True, category='table', type='value', value='none'), table_border_right_width=OptionsInfo(scss=True, category='table', type='px', value='2px'), table_border_right_color=OptionsInfo(scss=True, category='table', type='value', value='#D3D3D3'), table_border_bottom_include=OptionsInfo(scss=False, category='table', type='boolean', value=True), table_border_bottom_style=OptionsInfo(scss=True, category='table', type='value', value='solid'), table_border_bottom_width=OptionsInfo(scss=True, category='table', type='px', value='2px'), table_border_bottom_color=OptionsInfo(scss=True, category='table', type='value', value='#A8A8A8'), table_border_left_style=OptionsInfo(scss=True, category='table', type='value', value='none'), table_border_left_width=OptionsInfo(scss=True, category='table', type='px', value='2px'), table_border_left_color=OptionsInfo(scss=True, category='table', type='value', value='#D3D3D3'), heading_background_color=OptionsInfo(scss=True, category='heading', type='value', value=None), heading_align=OptionsInfo(scss=True, category='heading', type='value', value='center'), heading_title_font_size=OptionsInfo(scss=True, category='heading', type='px', value='125%'), heading_title_font_weight=OptionsInfo(scss=True, category='heading', type='value', value='initial'), heading_subtitle_font_size=OptionsInfo(scss=True, category='heading', type='px', value='85%'), heading_subtitle_font_weight=OptionsInfo(scss=True, category='heading', type='value', value='initial'), heading_padding=OptionsInfo(scss=True, category='heading', type='px', value='4px'), heading_padding_horizontal=OptionsInfo(scss=True, category='heading', type='px', value='5px'), heading_border_bottom_style=OptionsInfo(scss=True, category='heading', type='value', value='solid'), heading_border_bottom_width=OptionsInfo(scss=True, category='heading', type='px', value='2px'), heading_border_bottom_color=OptionsInfo(scss=True, category='heading', type='value', value='#D3D3D3'), heading_border_lr_style=OptionsInfo(scss=True, category='heading', type='value', value='none'), heading_border_lr_width=OptionsInfo(scss=True, category='heading', type='px', value='1px'), heading_border_lr_color=OptionsInfo(scss=True, category='heading', type='value', value='#D3D3D3'), column_labels_background_color=OptionsInfo(scss=True, category='column_labels', type='value', value=None), column_labels_font_size=OptionsInfo(scss=True, category='column_labels', type='px', value='100%'), column_labels_font_weight=OptionsInfo(scss=True, category='column_labels', type='value', value='normal'), column_labels_text_transform=OptionsInfo(scss=True, category='column_labels', type='value', value='inherit'), column_labels_padding=OptionsInfo(scss=True, category='column_labels', type='px', value='5px'), column_labels_padding_horizontal=OptionsInfo(scss=True, category='column_labels', type='px', value='5px'), column_labels_vlines_style=OptionsInfo(scss=True, category='table_body', type='value', value='none'), column_labels_vlines_width=OptionsInfo(scss=True, category='table_body', type='px', value='1px'), column_labels_vlines_color=OptionsInfo(scss=True, category='table_body', type='value', value='#D3D3D3'), column_labels_border_top_style=OptionsInfo(scss=True, category='column_labels', type='value', value='solid'), column_labels_border_top_width=OptionsInfo(scss=True, category='column_labels', type='px', value='2px'), column_labels_border_top_color=OptionsInfo(scss=True, category='column_labels', type='value', value='#D3D3D3'), column_labels_border_bottom_style=OptionsInfo(scss=True, category='column_labels', type='value', value='solid'), column_labels_border_bottom_width=OptionsInfo(scss=True, category='column_labels', type='px', value='2px'), column_labels_border_bottom_color=OptionsInfo(scss=True, category='column_labels', type='value', value='#D3D3D3'), column_labels_border_lr_style=OptionsInfo(scss=True, category='column_labels', type='value', value='none'), column_labels_border_lr_width=OptionsInfo(scss=True, category='column_labels', type='px', value='1px'), column_labels_border_lr_color=OptionsInfo(scss=True, category='column_labels', type='value', value='#D3D3D3'), column_labels_hidden=OptionsInfo(scss=False, category='column_labels', type='boolean', value=False), row_group_background_color=OptionsInfo(scss=True, category='row_group', type='value', value=None), row_group_font_size=OptionsInfo(scss=True, category='row_group', type='px', value='100%'), row_group_font_weight=OptionsInfo(scss=True, category='row_group', type='value', value='initial'), row_group_text_transform=OptionsInfo(scss=True, category='row_group', type='value', value='inherit'), row_group_padding=OptionsInfo(scss=True, category='row_group', type='px', value='8px'), row_group_padding_horizontal=OptionsInfo(scss=True, category='row_group', type='px', value='5px'), row_group_border_top_style=OptionsInfo(scss=True, category='row_group', type='value', value='solid'), row_group_border_top_width=OptionsInfo(scss=True, category='row_group', type='px', value='2px'), row_group_border_top_color=OptionsInfo(scss=True, category='row_group', type='value', value='#D3D3D3'), row_group_border_right_style=OptionsInfo(scss=True, category='row_group', type='value', value='none'), row_group_border_right_width=OptionsInfo(scss=True, category='row_group', type='px', value='1px'), row_group_border_right_color=OptionsInfo(scss=True, category='row_group', type='value', value='#D3D3D3'), row_group_border_bottom_style=OptionsInfo(scss=True, category='row_group', type='value', value='solid'), row_group_border_bottom_width=OptionsInfo(scss=True, category='row_group', type='px', value='2px'), row_group_border_bottom_color=OptionsInfo(scss=True, category='row_group', type='value', value='#D3D3D3'), row_group_border_left_style=OptionsInfo(scss=True, category='row_group', type='value', value='none'), row_group_border_left_width=OptionsInfo(scss=True, category='row_group', type='px', value='1px'), row_group_border_left_color=OptionsInfo(scss=True, category='row_group', type='value', value='#D3D3D3'), row_group_as_column=OptionsInfo(scss=False, category='row_group', type='boolean', value=False), table_body_hlines_style=OptionsInfo(scss=True, category='table_body', type='value', value='solid'), table_body_hlines_width=OptionsInfo(scss=True, category='table_body', type='px', value='1px'), table_body_hlines_color=OptionsInfo(scss=True, category='table_body', type='value', value='#D3D3D3'), table_body_vlines_style=OptionsInfo(scss=True, category='table_body', type='value', value='none'), table_body_vlines_width=OptionsInfo(scss=True, category='table_body', type='px', value='1px'), table_body_vlines_color=OptionsInfo(scss=True, category='table_body', type='value', value='#D3D3D3'), table_body_border_top_style=OptionsInfo(scss=True, category='table_body', type='value', value='solid'), table_body_border_top_width=OptionsInfo(scss=True, category='table_body', type='px', value='2px'), table_body_border_top_color=OptionsInfo(scss=True, category='table_body', type='value', value='#D3D3D3'), table_body_border_bottom_style=OptionsInfo(scss=True, category='table_body', type='value', value='solid'), table_body_border_bottom_width=OptionsInfo(scss=True, category='table_body', type='px', value='2px'), table_body_border_bottom_color=OptionsInfo(scss=True, category='table_body', type='value', value='#D3D3D3'), data_row_padding=OptionsInfo(scss=True, category='data_row', type='px', value='8px'), data_row_padding_horizontal=OptionsInfo(scss=True, category='data_row', type='px', value='5px'), stub_background_color=OptionsInfo(scss=True, category='stub', type='value', value=None), stub_font_size=OptionsInfo(scss=True, category='stub', type='px', value='100%'), stub_font_weight=OptionsInfo(scss=True, category='stub', type='value', value='initial'), stub_text_transform=OptionsInfo(scss=True, category='stub', type='value', value='inherit'), stub_border_style=OptionsInfo(scss=True, category='stub', type='value', value='solid'), stub_border_width=OptionsInfo(scss=True, category='stub', type='px', value='2px'), stub_border_color=OptionsInfo(scss=True, category='stub', type='value', value='#D3D3D3'), stub_row_group_background_color=OptionsInfo(scss=True, category='stub', type='value', value=None), stub_row_group_font_size=OptionsInfo(scss=True, category='stub', type='px', value='100%'), stub_row_group_font_weight=OptionsInfo(scss=True, category='stub', type='value', value='initial'), stub_row_group_text_transform=OptionsInfo(scss=True, category='stub', type='value', value='inherit'), stub_row_group_border_style=OptionsInfo(scss=True, category='stub', type='value', value='solid'), stub_row_group_border_width=OptionsInfo(scss=True, category='stub', type='px', value='2px'), stub_row_group_border_color=OptionsInfo(scss=True, category='stub', type='value', value='#D3D3D3'), source_notes_padding=OptionsInfo(scss=True, category='source_notes', type='px', value='4px'), source_notes_padding_horizontal=OptionsInfo(scss=True, category='source_notes', type='px', value='5px'), source_notes_background_color=OptionsInfo(scss=True, category='source_notes', type='value', value=None), source_notes_font_size=OptionsInfo(scss=True, category='source_notes', type='px', value='90%'), source_notes_border_bottom_style=OptionsInfo(scss=True, category='source_notes', type='value', value='none'), source_notes_border_bottom_width=OptionsInfo(scss=True, category='source_notes', type='px', value='2px'), source_notes_border_bottom_color=OptionsInfo(scss=True, category='source_notes', type='value', value='#D3D3D3'), source_notes_border_lr_style=OptionsInfo(scss=True, category='source_notes', type='value', value='none'), source_notes_border_lr_width=OptionsInfo(scss=True, category='source_notes', type='px', value='2px'), source_notes_border_lr_color=OptionsInfo(scss=True, category='source_notes', type='value', value='#D3D3D3'), source_notes_multiline=OptionsInfo(scss=False, category='source_notes', type='boolean', value=True), source_notes_sep=OptionsInfo(scss=False, category='source_notes', type='value', value=' '), container_width=OptionsInfo(scss=False, category='container', type='px', value='auto'), container_height=OptionsInfo(scss=False, category='container', type='px', value='auto'), container_padding_x=OptionsInfo(scss=False, category='container', type='px', value='0px'), container_padding_y=OptionsInfo(scss=False, category='container', type='px', value='10px'), container_overflow_x=OptionsInfo(scss=False, category='container', type='overflow', value='auto'), container_overflow_y=OptionsInfo(scss=False, category='container', type='overflow', value='auto'), quarto_disable_processing=OptionsInfo(scss=False, category='quarto', type='logical', value=False), quarto_use_bootstrap=OptionsInfo(scss=False, category='quarto', type='logical', value=False)), _has_built=False)"
      ]
     },
     "execution_count": 92,
     "metadata": {},
     "output_type": "execute_result"
    }
   ],
   "source": [
    "from great_tables import GT, style, loc, exibble\n",
    "\n",
    "(\n",
    "    gt.GT(metrics_df)\n",
    "    .tab_style(\n",
    "        style=style.fill(color='lightgrey'),\n",
    "        locations = loc.body(rows=[1,3,5,7])\n",
    "    )\n",
    "    .tab_header(\n",
    "        title = gt.md('**Model Performance Comparison**')\n",
    "    )\n",
    "    )\n",
    "\n"
   ]
  }
 ],
 "metadata": {
  "kernelspec": {
   "display_name": "base",
   "language": "python",
   "name": "python3"
  },
  "language_info": {
   "codemirror_mode": {
    "name": "ipython",
    "version": 3
   },
   "file_extension": ".py",
   "mimetype": "text/x-python",
   "name": "python",
   "nbconvert_exporter": "python",
   "pygments_lexer": "ipython3",
   "version": "3.11.5"
  }
 },
 "nbformat": 4,
 "nbformat_minor": 2
}
